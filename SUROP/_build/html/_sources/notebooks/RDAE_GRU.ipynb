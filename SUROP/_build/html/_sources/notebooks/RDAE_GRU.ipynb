{
 "cells": [
  {
   "metadata": {},
   "cell_type": "markdown",
   "source": "# GRU Model with AutoEncoder",
   "id": "dea386f419503377"
  },
  {
   "cell_type": "code",
   "id": "initial_id",
   "metadata": {
    "collapsed": true,
    "ExecuteTime": {
     "end_time": "2024-08-20T18:53:14.659785Z",
     "start_time": "2024-08-20T18:53:14.653669Z"
    }
   },
   "source": [
    "import pandas as pd\n",
    "import numpy as np\n",
    "from tensorflow.keras import Model\n",
    "from tensorflow.keras.layers import GRU, LSTM, Input, Dropout, BatchNormalization, RepeatVector, TimeDistributed, Dense\n",
    "import matplotlib.pyplot as plt\n",
    "from tensorflow.keras.optimizers import Adam\n",
    "from tensorflow.keras.regularizers import l2\n",
    "from sklearn.model_selection import train_test_split\n",
    "from sklearn.preprocessing import StandardScaler, MinMaxScaler"
   ],
   "outputs": [],
   "execution_count": 158
  },
  {
   "metadata": {
    "ExecuteTime": {
     "end_time": "2024-08-20T18:53:15.208043Z",
     "start_time": "2024-08-20T18:53:14.679745Z"
    }
   },
   "cell_type": "code",
   "source": [
    "# Load the dataset\n",
    "train_x = pd.read_csv('/Users/mohanyang/Documents/GitHub/SUROP_time_series/SUROP/data/train_x.csv')\n",
    "train_y = pd.read_csv('/Users/mohanyang/Documents/GitHub/SUROP_time_series/SUROP/data/train_y.csv')\n",
    "test_x = pd.read_csv('/Users/mohanyang/Documents/GitHub/SUROP_time_series/SUROP/data/test_x.csv')"
   ],
   "id": "11206d8a00b7cdcc",
   "outputs": [],
   "execution_count": 159
  },
  {
   "metadata": {
    "ExecuteTime": {
     "end_time": "2024-08-20T18:53:15.214057Z",
     "start_time": "2024-08-20T18:53:15.209110Z"
    }
   },
   "cell_type": "code",
   "source": [
    "# Display the first few rows\n",
    "print(train_x.head())\n",
    "print(train_x.shape)"
   ],
   "id": "8848f19ab8badcaf",
   "outputs": [
    {
     "name": "stdout",
     "output_type": "stream",
     "text": [
      "   Hour  ID    Age  Gender  Unit1  Unit2     HR   O2Sat   Temp     SBP  ...  \\\n",
      "0     1   2  66.67     1.0    0.0    1.0  74.78  100.06  35.61  121.68  ...   \n",
      "1     2   2  66.67     1.0    0.0    1.0  74.78  100.06  35.61  121.68  ...   \n",
      "2     3   2  66.67     1.0    0.0    1.0  74.78  100.06  35.61  121.68  ...   \n",
      "3     4   2  66.67     1.0    0.0    1.0  74.78  100.06  35.61  121.68  ...   \n",
      "4     5   2  66.67     1.0    0.0    1.0  84.42   99.58  35.61  114.60  ...   \n",
      "\n",
      "   Phosphate  Potassium  Bilirubin_total  TroponinI    Hct   Hgb  PTT   WBC  \\\n",
      "0        NaN       4.48              NaN        NaN  28.83  9.21  NaN  8.15   \n",
      "1        NaN       4.48              NaN        NaN  28.83  9.21  NaN  8.15   \n",
      "2        NaN       4.48              NaN        NaN  28.83  9.21  NaN  8.15   \n",
      "3        NaN       4.48              NaN        NaN  28.83  9.21  NaN  8.15   \n",
      "4        NaN       4.48              NaN        NaN  28.83  9.21  NaN  8.15   \n",
      "\n",
      "   Fibrinogen  Platelets  \n",
      "0         NaN        NaN  \n",
      "1         NaN        NaN  \n",
      "2         NaN        NaN  \n",
      "3         NaN        NaN  \n",
      "4         NaN        NaN  \n",
      "\n",
      "[5 rows x 40 columns]\n",
      "(482010, 40)\n"
     ]
    }
   ],
   "execution_count": 160
  },
  {
   "metadata": {
    "ExecuteTime": {
     "end_time": "2024-08-20T18:53:15.216754Z",
     "start_time": "2024-08-20T18:53:15.214720Z"
    }
   },
   "cell_type": "code",
   "source": [
    "print(train_y.head())\n",
    "print(train_y.shape)"
   ],
   "id": "780add8981ad9955",
   "outputs": [
    {
     "name": "stdout",
     "output_type": "stream",
     "text": [
      "   ID  Outcome\n",
      "0   2        0\n",
      "1   3        0\n",
      "2   5        1\n",
      "3   6        0\n",
      "4  13        0\n",
      "(12115, 2)\n"
     ]
    }
   ],
   "execution_count": 161
  },
  {
   "metadata": {
    "ExecuteTime": {
     "end_time": "2024-08-20T18:53:15.224359Z",
     "start_time": "2024-08-20T18:53:15.217850Z"
    }
   },
   "cell_type": "code",
   "source": [
    "max_hours = train_x.groupby('ID')['Hour'].count().max()\n",
    "print(f'Maximum number of hours: {max_hours}')"
   ],
   "id": "48f42e6abd239289",
   "outputs": [
    {
     "name": "stdout",
     "output_type": "stream",
     "text": [
      "Maximum number of hours: 336\n"
     ]
    }
   ],
   "execution_count": 162
  },
  {
   "metadata": {
    "ExecuteTime": {
     "end_time": "2024-08-20T18:53:15.350584Z",
     "start_time": "2024-08-20T18:53:15.224975Z"
    }
   },
   "cell_type": "code",
   "source": [
    "columns_to_exclude = ['ID', 'Hour', 'Gender']\n",
    "columns_to_scale = [col for col in train_x.columns if col not in columns_to_exclude]\n",
    "\n",
    "#Z-Score standardization\n",
    "scaler = MinMaxScaler()\n",
    "train_x[columns_to_scale] = scaler.fit_transform(train_x[columns_to_scale])\n",
    "train_x"
   ],
   "id": "a2be2bf8773f001c",
   "outputs": [
    {
     "data": {
      "text/plain": [
       "        Hour     ID       Age  Gender  Unit1  Unit2        HR     O2Sat  \\\n",
       "0          1      2  0.606512     1.0    0.0    1.0  0.279669  0.969675   \n",
       "1          2      2  0.606512     1.0    0.0    1.0  0.279669  0.969675   \n",
       "2          3      2  0.606512     1.0    0.0    1.0  0.279669  0.969675   \n",
       "3          4      2  0.606512     1.0    0.0    1.0  0.279669  0.969675   \n",
       "4          5      2  0.606512     1.0    0.0    1.0  0.326289  0.963829   \n",
       "...      ...    ...       ...     ...    ...    ...       ...       ...   \n",
       "482005    15  21633  0.513758     1.0    1.0    0.0  0.352452  0.943003   \n",
       "482006    16  21633  0.513758     1.0    1.0    0.0  0.343312  0.968092   \n",
       "482007    17  21633  0.513758     1.0    1.0    0.0  0.338959  0.960175   \n",
       "482008    18  21633  0.513758     1.0    1.0    0.0  0.338959  0.960175   \n",
       "482009    19  21633  0.513758     1.0    1.0    0.0  0.354048  0.965169   \n",
       "\n",
       "            Temp       SBP  ...  Phosphate  Potassium  Bilirubin_total  \\\n",
       "0       0.686651  0.366349  ...        NaN   0.274306              NaN   \n",
       "1       0.686651  0.366349  ...        NaN   0.274306              NaN   \n",
       "2       0.686651  0.366349  ...        NaN   0.274306              NaN   \n",
       "3       0.686651  0.366349  ...        NaN   0.274306              NaN   \n",
       "4       0.686651  0.341142  ...        NaN   0.274306              NaN   \n",
       "...          ...       ...  ...        ...        ...              ...   \n",
       "482005  0.724590  0.285567  ...   0.158613   0.226562              NaN   \n",
       "482006  0.730679  0.265345  ...   0.158613   0.226562              NaN   \n",
       "482007  0.730679  0.271255  ...   0.158613   0.226562              NaN   \n",
       "482008  0.730679  0.278838  ...   0.158613   0.226562              NaN   \n",
       "482009  0.730679  0.235901  ...   0.158613   0.226562              NaN   \n",
       "\n",
       "        TroponinI       Hct       Hgb       PTT       WBC  Fibrinogen  \\\n",
       "0             NaN  0.384131  0.305192       NaN  0.025537         NaN   \n",
       "1             NaN  0.384131  0.305192       NaN  0.025537         NaN   \n",
       "2             NaN  0.384131  0.305192       NaN  0.025537         NaN   \n",
       "3             NaN  0.384131  0.305192       NaN  0.025537         NaN   \n",
       "4             NaN  0.384131  0.305192       NaN  0.025537         NaN   \n",
       "...           ...       ...       ...       ...       ...         ...   \n",
       "482005        NaN  0.394177  0.347404  0.053781  0.053237         NaN   \n",
       "482006        NaN  0.394177  0.347404  0.053781  0.053237         NaN   \n",
       "482007        NaN  0.394177  0.347404  0.053781  0.053237         NaN   \n",
       "482008        NaN  0.374085  0.347404  0.053781  0.053237         NaN   \n",
       "482009        NaN  0.370509  0.347404  0.053781  0.053237         NaN   \n",
       "\n",
       "        Platelets  \n",
       "0             NaN  \n",
       "1             NaN  \n",
       "2             NaN  \n",
       "3             NaN  \n",
       "4             NaN  \n",
       "...           ...  \n",
       "482005   0.070632  \n",
       "482006   0.070632  \n",
       "482007   0.070632  \n",
       "482008   0.070632  \n",
       "482009   0.070632  \n",
       "\n",
       "[482010 rows x 40 columns]"
      ],
      "text/html": [
       "<div>\n",
       "<style scoped>\n",
       "    .dataframe tbody tr th:only-of-type {\n",
       "        vertical-align: middle;\n",
       "    }\n",
       "\n",
       "    .dataframe tbody tr th {\n",
       "        vertical-align: top;\n",
       "    }\n",
       "\n",
       "    .dataframe thead th {\n",
       "        text-align: right;\n",
       "    }\n",
       "</style>\n",
       "<table border=\"1\" class=\"dataframe\">\n",
       "  <thead>\n",
       "    <tr style=\"text-align: right;\">\n",
       "      <th></th>\n",
       "      <th>Hour</th>\n",
       "      <th>ID</th>\n",
       "      <th>Age</th>\n",
       "      <th>Gender</th>\n",
       "      <th>Unit1</th>\n",
       "      <th>Unit2</th>\n",
       "      <th>HR</th>\n",
       "      <th>O2Sat</th>\n",
       "      <th>Temp</th>\n",
       "      <th>SBP</th>\n",
       "      <th>...</th>\n",
       "      <th>Phosphate</th>\n",
       "      <th>Potassium</th>\n",
       "      <th>Bilirubin_total</th>\n",
       "      <th>TroponinI</th>\n",
       "      <th>Hct</th>\n",
       "      <th>Hgb</th>\n",
       "      <th>PTT</th>\n",
       "      <th>WBC</th>\n",
       "      <th>Fibrinogen</th>\n",
       "      <th>Platelets</th>\n",
       "    </tr>\n",
       "  </thead>\n",
       "  <tbody>\n",
       "    <tr>\n",
       "      <th>0</th>\n",
       "      <td>1</td>\n",
       "      <td>2</td>\n",
       "      <td>0.606512</td>\n",
       "      <td>1.0</td>\n",
       "      <td>0.0</td>\n",
       "      <td>1.0</td>\n",
       "      <td>0.279669</td>\n",
       "      <td>0.969675</td>\n",
       "      <td>0.686651</td>\n",
       "      <td>0.366349</td>\n",
       "      <td>...</td>\n",
       "      <td>NaN</td>\n",
       "      <td>0.274306</td>\n",
       "      <td>NaN</td>\n",
       "      <td>NaN</td>\n",
       "      <td>0.384131</td>\n",
       "      <td>0.305192</td>\n",
       "      <td>NaN</td>\n",
       "      <td>0.025537</td>\n",
       "      <td>NaN</td>\n",
       "      <td>NaN</td>\n",
       "    </tr>\n",
       "    <tr>\n",
       "      <th>1</th>\n",
       "      <td>2</td>\n",
       "      <td>2</td>\n",
       "      <td>0.606512</td>\n",
       "      <td>1.0</td>\n",
       "      <td>0.0</td>\n",
       "      <td>1.0</td>\n",
       "      <td>0.279669</td>\n",
       "      <td>0.969675</td>\n",
       "      <td>0.686651</td>\n",
       "      <td>0.366349</td>\n",
       "      <td>...</td>\n",
       "      <td>NaN</td>\n",
       "      <td>0.274306</td>\n",
       "      <td>NaN</td>\n",
       "      <td>NaN</td>\n",
       "      <td>0.384131</td>\n",
       "      <td>0.305192</td>\n",
       "      <td>NaN</td>\n",
       "      <td>0.025537</td>\n",
       "      <td>NaN</td>\n",
       "      <td>NaN</td>\n",
       "    </tr>\n",
       "    <tr>\n",
       "      <th>2</th>\n",
       "      <td>3</td>\n",
       "      <td>2</td>\n",
       "      <td>0.606512</td>\n",
       "      <td>1.0</td>\n",
       "      <td>0.0</td>\n",
       "      <td>1.0</td>\n",
       "      <td>0.279669</td>\n",
       "      <td>0.969675</td>\n",
       "      <td>0.686651</td>\n",
       "      <td>0.366349</td>\n",
       "      <td>...</td>\n",
       "      <td>NaN</td>\n",
       "      <td>0.274306</td>\n",
       "      <td>NaN</td>\n",
       "      <td>NaN</td>\n",
       "      <td>0.384131</td>\n",
       "      <td>0.305192</td>\n",
       "      <td>NaN</td>\n",
       "      <td>0.025537</td>\n",
       "      <td>NaN</td>\n",
       "      <td>NaN</td>\n",
       "    </tr>\n",
       "    <tr>\n",
       "      <th>3</th>\n",
       "      <td>4</td>\n",
       "      <td>2</td>\n",
       "      <td>0.606512</td>\n",
       "      <td>1.0</td>\n",
       "      <td>0.0</td>\n",
       "      <td>1.0</td>\n",
       "      <td>0.279669</td>\n",
       "      <td>0.969675</td>\n",
       "      <td>0.686651</td>\n",
       "      <td>0.366349</td>\n",
       "      <td>...</td>\n",
       "      <td>NaN</td>\n",
       "      <td>0.274306</td>\n",
       "      <td>NaN</td>\n",
       "      <td>NaN</td>\n",
       "      <td>0.384131</td>\n",
       "      <td>0.305192</td>\n",
       "      <td>NaN</td>\n",
       "      <td>0.025537</td>\n",
       "      <td>NaN</td>\n",
       "      <td>NaN</td>\n",
       "    </tr>\n",
       "    <tr>\n",
       "      <th>4</th>\n",
       "      <td>5</td>\n",
       "      <td>2</td>\n",
       "      <td>0.606512</td>\n",
       "      <td>1.0</td>\n",
       "      <td>0.0</td>\n",
       "      <td>1.0</td>\n",
       "      <td>0.326289</td>\n",
       "      <td>0.963829</td>\n",
       "      <td>0.686651</td>\n",
       "      <td>0.341142</td>\n",
       "      <td>...</td>\n",
       "      <td>NaN</td>\n",
       "      <td>0.274306</td>\n",
       "      <td>NaN</td>\n",
       "      <td>NaN</td>\n",
       "      <td>0.384131</td>\n",
       "      <td>0.305192</td>\n",
       "      <td>NaN</td>\n",
       "      <td>0.025537</td>\n",
       "      <td>NaN</td>\n",
       "      <td>NaN</td>\n",
       "    </tr>\n",
       "    <tr>\n",
       "      <th>...</th>\n",
       "      <td>...</td>\n",
       "      <td>...</td>\n",
       "      <td>...</td>\n",
       "      <td>...</td>\n",
       "      <td>...</td>\n",
       "      <td>...</td>\n",
       "      <td>...</td>\n",
       "      <td>...</td>\n",
       "      <td>...</td>\n",
       "      <td>...</td>\n",
       "      <td>...</td>\n",
       "      <td>...</td>\n",
       "      <td>...</td>\n",
       "      <td>...</td>\n",
       "      <td>...</td>\n",
       "      <td>...</td>\n",
       "      <td>...</td>\n",
       "      <td>...</td>\n",
       "      <td>...</td>\n",
       "      <td>...</td>\n",
       "      <td>...</td>\n",
       "    </tr>\n",
       "    <tr>\n",
       "      <th>482005</th>\n",
       "      <td>15</td>\n",
       "      <td>21633</td>\n",
       "      <td>0.513758</td>\n",
       "      <td>1.0</td>\n",
       "      <td>1.0</td>\n",
       "      <td>0.0</td>\n",
       "      <td>0.352452</td>\n",
       "      <td>0.943003</td>\n",
       "      <td>0.724590</td>\n",
       "      <td>0.285567</td>\n",
       "      <td>...</td>\n",
       "      <td>0.158613</td>\n",
       "      <td>0.226562</td>\n",
       "      <td>NaN</td>\n",
       "      <td>NaN</td>\n",
       "      <td>0.394177</td>\n",
       "      <td>0.347404</td>\n",
       "      <td>0.053781</td>\n",
       "      <td>0.053237</td>\n",
       "      <td>NaN</td>\n",
       "      <td>0.070632</td>\n",
       "    </tr>\n",
       "    <tr>\n",
       "      <th>482006</th>\n",
       "      <td>16</td>\n",
       "      <td>21633</td>\n",
       "      <td>0.513758</td>\n",
       "      <td>1.0</td>\n",
       "      <td>1.0</td>\n",
       "      <td>0.0</td>\n",
       "      <td>0.343312</td>\n",
       "      <td>0.968092</td>\n",
       "      <td>0.730679</td>\n",
       "      <td>0.265345</td>\n",
       "      <td>...</td>\n",
       "      <td>0.158613</td>\n",
       "      <td>0.226562</td>\n",
       "      <td>NaN</td>\n",
       "      <td>NaN</td>\n",
       "      <td>0.394177</td>\n",
       "      <td>0.347404</td>\n",
       "      <td>0.053781</td>\n",
       "      <td>0.053237</td>\n",
       "      <td>NaN</td>\n",
       "      <td>0.070632</td>\n",
       "    </tr>\n",
       "    <tr>\n",
       "      <th>482007</th>\n",
       "      <td>17</td>\n",
       "      <td>21633</td>\n",
       "      <td>0.513758</td>\n",
       "      <td>1.0</td>\n",
       "      <td>1.0</td>\n",
       "      <td>0.0</td>\n",
       "      <td>0.338959</td>\n",
       "      <td>0.960175</td>\n",
       "      <td>0.730679</td>\n",
       "      <td>0.271255</td>\n",
       "      <td>...</td>\n",
       "      <td>0.158613</td>\n",
       "      <td>0.226562</td>\n",
       "      <td>NaN</td>\n",
       "      <td>NaN</td>\n",
       "      <td>0.394177</td>\n",
       "      <td>0.347404</td>\n",
       "      <td>0.053781</td>\n",
       "      <td>0.053237</td>\n",
       "      <td>NaN</td>\n",
       "      <td>0.070632</td>\n",
       "    </tr>\n",
       "    <tr>\n",
       "      <th>482008</th>\n",
       "      <td>18</td>\n",
       "      <td>21633</td>\n",
       "      <td>0.513758</td>\n",
       "      <td>1.0</td>\n",
       "      <td>1.0</td>\n",
       "      <td>0.0</td>\n",
       "      <td>0.338959</td>\n",
       "      <td>0.960175</td>\n",
       "      <td>0.730679</td>\n",
       "      <td>0.278838</td>\n",
       "      <td>...</td>\n",
       "      <td>0.158613</td>\n",
       "      <td>0.226562</td>\n",
       "      <td>NaN</td>\n",
       "      <td>NaN</td>\n",
       "      <td>0.374085</td>\n",
       "      <td>0.347404</td>\n",
       "      <td>0.053781</td>\n",
       "      <td>0.053237</td>\n",
       "      <td>NaN</td>\n",
       "      <td>0.070632</td>\n",
       "    </tr>\n",
       "    <tr>\n",
       "      <th>482009</th>\n",
       "      <td>19</td>\n",
       "      <td>21633</td>\n",
       "      <td>0.513758</td>\n",
       "      <td>1.0</td>\n",
       "      <td>1.0</td>\n",
       "      <td>0.0</td>\n",
       "      <td>0.354048</td>\n",
       "      <td>0.965169</td>\n",
       "      <td>0.730679</td>\n",
       "      <td>0.235901</td>\n",
       "      <td>...</td>\n",
       "      <td>0.158613</td>\n",
       "      <td>0.226562</td>\n",
       "      <td>NaN</td>\n",
       "      <td>NaN</td>\n",
       "      <td>0.370509</td>\n",
       "      <td>0.347404</td>\n",
       "      <td>0.053781</td>\n",
       "      <td>0.053237</td>\n",
       "      <td>NaN</td>\n",
       "      <td>0.070632</td>\n",
       "    </tr>\n",
       "  </tbody>\n",
       "</table>\n",
       "<p>482010 rows × 40 columns</p>\n",
       "</div>"
      ]
     },
     "execution_count": 163,
     "metadata": {},
     "output_type": "execute_result"
    }
   ],
   "execution_count": 163
  },
  {
   "metadata": {
    "ExecuteTime": {
     "end_time": "2024-08-20T18:53:15.355035Z",
     "start_time": "2024-08-20T18:53:15.351335Z"
    }
   },
   "cell_type": "code",
   "source": [
    "# Get unique person IDs\n",
    "person_ids = train_x['ID'].unique()\n",
    "\n",
    "# Initialize tensors for features, masks, and time intervals\n",
    "num_persons = len(person_ids)\n",
    "num_features = train_x.shape[1] - 2  # excluding 'ID' and 'Hour' columns"
   ],
   "id": "64be0cb97c0c0bf3",
   "outputs": [],
   "execution_count": 164
  },
  {
   "metadata": {
    "ExecuteTime": {
     "end_time": "2024-08-20T18:53:15.357729Z",
     "start_time": "2024-08-20T18:53:15.355683Z"
    }
   },
   "cell_type": "code",
   "source": "person_ids",
   "id": "4a7175c1c823f814",
   "outputs": [
    {
     "data": {
      "text/plain": [
       "array([    2,     3,     5, ..., 21630, 21632, 21633])"
      ]
     },
     "execution_count": 165,
     "metadata": {},
     "output_type": "execute_result"
    }
   ],
   "execution_count": 165
  },
  {
   "metadata": {
    "ExecuteTime": {
     "end_time": "2024-08-20T18:53:15.359779Z",
     "start_time": "2024-08-20T18:53:15.358325Z"
    }
   },
   "cell_type": "code",
   "source": [
    "#Initialize tensors\n",
    "X_tensor = np.zeros((num_persons, max_hours, num_features+1))"
   ],
   "id": "845478173d527d86",
   "outputs": [],
   "execution_count": 166
  },
  {
   "metadata": {
    "ExecuteTime": {
     "end_time": "2024-08-20T18:53:21.941970Z",
     "start_time": "2024-08-20T18:53:15.360225Z"
    }
   },
   "cell_type": "code",
   "source": [
    "for i, person_id in enumerate(person_ids):\n",
    "    person_data = train_x[train_x['ID'] == person_id].sort_values('Hour')\n",
    "    hours = person_data['Hour'].values\n",
    "    features = person_data.drop(columns=['ID']).values\n",
    "    \n",
    "    # Fill X_tensor\n",
    "    X_tensor[i, :len(hours), :] = features"
   ],
   "id": "bfd4c27fb4e6951a",
   "outputs": [],
   "execution_count": 167
  },
  {
   "metadata": {
    "ExecuteTime": {
     "end_time": "2024-08-20T18:53:21.946694Z",
     "start_time": "2024-08-20T18:53:21.943927Z"
    }
   },
   "cell_type": "code",
   "source": "X_tensor",
   "id": "cb9e167e59aed66a",
   "outputs": [
    {
     "data": {
      "text/plain": [
       "array([[[1.        , 0.60651227, 1.        , ..., 0.02553738,\n",
       "                nan,        nan],\n",
       "        [2.        , 0.60651227, 1.        , ..., 0.02553738,\n",
       "                nan,        nan],\n",
       "        [3.        , 0.60651227, 1.        , ..., 0.02553738,\n",
       "                nan,        nan],\n",
       "        ...,\n",
       "        [0.        , 0.        , 0.        , ..., 0.        ,\n",
       "         0.        , 0.        ],\n",
       "        [0.        , 0.        , 0.        , ..., 0.        ,\n",
       "         0.        , 0.        ],\n",
       "        [0.        , 0.        , 0.        , ..., 0.        ,\n",
       "         0.        , 0.        ]],\n",
       "\n",
       "       [[1.        , 0.75636322, 0.        , ..., 0.02136993,\n",
       "         0.1769439 , 0.11987338],\n",
       "        [2.        , 0.75636322, 0.        , ..., 0.02136993,\n",
       "         0.1769439 , 0.11987338],\n",
       "        [3.        , 0.75636322, 0.        , ..., 0.02136993,\n",
       "         0.1769439 , 0.11987338],\n",
       "        ...,\n",
       "        [0.        , 0.        , 0.        , ..., 0.        ,\n",
       "         0.        , 0.        ],\n",
       "        [0.        , 0.        , 0.        , ..., 0.        ,\n",
       "         0.        , 0.        ],\n",
       "        [0.        , 0.        , 0.        , ..., 0.        ,\n",
       "         0.        , 0.        ]],\n",
       "\n",
       "       [[1.        , 0.53852327, 1.        , ..., 0.03901109,\n",
       "                nan, 0.03516936],\n",
       "        [2.        , 0.53852327, 1.        , ..., 0.03901109,\n",
       "                nan, 0.03516936],\n",
       "        [3.        , 0.53852327, 1.        , ..., 0.03901109,\n",
       "                nan, 0.03516936],\n",
       "        ...,\n",
       "        [0.        , 0.        , 0.        , ..., 0.        ,\n",
       "         0.        , 0.        ],\n",
       "        [0.        , 0.        , 0.        , ..., 0.        ,\n",
       "         0.        , 0.        ],\n",
       "        [0.        , 0.        , 0.        , ..., 0.        ,\n",
       "         0.        , 0.        ]],\n",
       "\n",
       "       ...,\n",
       "\n",
       "       [[1.        , 0.59206604, 1.        , ..., 0.06852792,\n",
       "                nan, 0.12966733],\n",
       "        [2.        , 0.59206604, 1.        , ..., 0.06852792,\n",
       "                nan, 0.12966733],\n",
       "        [3.        , 0.59206604, 1.        , ..., 0.06852792,\n",
       "                nan, 0.12966733],\n",
       "        ...,\n",
       "        [0.        , 0.        , 0.        , ..., 0.        ,\n",
       "         0.        , 0.        ],\n",
       "        [0.        , 0.        , 0.        , ..., 0.        ,\n",
       "         0.        , 0.        ],\n",
       "        [0.        , 0.        , 0.        , ..., 0.        ,\n",
       "         0.        , 0.        ]],\n",
       "\n",
       "       [[1.        , 0.51410227, 1.        , ..., 0.14382403,\n",
       "                nan, 0.12899024],\n",
       "        [2.        , 0.51410227, 1.        , ..., 0.14382403,\n",
       "                nan, 0.12899024],\n",
       "        [3.        , 0.51410227, 1.        , ..., 0.14382403,\n",
       "                nan, 0.12899024],\n",
       "        ...,\n",
       "        [0.        , 0.        , 0.        , ..., 0.        ,\n",
       "         0.        , 0.        ],\n",
       "        [0.        , 0.        , 0.        , ..., 0.        ,\n",
       "         0.        , 0.        ],\n",
       "        [0.        , 0.        , 0.        , ..., 0.        ,\n",
       "         0.        , 0.        ]],\n",
       "\n",
       "       [[1.        , 0.51375831, 1.        , ..., 0.05333083,\n",
       "                nan, 0.07063197],\n",
       "        [2.        , 0.51375831, 1.        , ..., 0.05333083,\n",
       "                nan, 0.07063197],\n",
       "        [3.        , 0.51375831, 1.        , ..., 0.05333083,\n",
       "                nan, 0.07063197],\n",
       "        ...,\n",
       "        [0.        , 0.        , 0.        , ..., 0.        ,\n",
       "         0.        , 0.        ],\n",
       "        [0.        , 0.        , 0.        , ..., 0.        ,\n",
       "         0.        , 0.        ],\n",
       "        [0.        , 0.        , 0.        , ..., 0.        ,\n",
       "         0.        , 0.        ]]])"
      ]
     },
     "execution_count": 168,
     "metadata": {},
     "output_type": "execute_result"
    }
   ],
   "execution_count": 168
  },
  {
   "metadata": {
    "ExecuteTime": {
     "end_time": "2024-08-20T18:53:21.948862Z",
     "start_time": "2024-08-20T18:53:21.947330Z"
    }
   },
   "cell_type": "code",
   "source": "print(X_tensor.shape)",
   "id": "91fa8ed6cceb3e8c",
   "outputs": [
    {
     "name": "stdout",
     "output_type": "stream",
     "text": [
      "(12115, 336, 39)\n"
     ]
    }
   ],
   "execution_count": 169
  },
  {
   "metadata": {
    "ExecuteTime": {
     "end_time": "2024-08-20T18:53:22.766641Z",
     "start_time": "2024-08-20T18:53:21.949328Z"
    }
   },
   "cell_type": "code",
   "source": [
    "# Ensure train_y is aligned with X_tensor\n",
    "labels = np.zeros(len(person_ids))\n",
    "\n",
    "for i, person_id in enumerate(person_ids):\n",
    "    if person_id in train_y['ID'].values:\n",
    "        labels[i] = train_y[train_y['ID'] == person_id]['Outcome'].values[0]\n",
    "\n",
    "print(labels.shape)"
   ],
   "id": "41512dbd553e7a9c",
   "outputs": [
    {
     "name": "stdout",
     "output_type": "stream",
     "text": [
      "(12115,)\n"
     ]
    }
   ],
   "execution_count": 170
  },
  {
   "metadata": {
    "ExecuteTime": {
     "end_time": "2024-08-20T18:53:23.166926Z",
     "start_time": "2024-08-20T18:53:22.767285Z"
    }
   },
   "cell_type": "code",
   "source": [
    "# Split the data into training and test sets\n",
    "X_train, X_test, y_train, y_test = train_test_split(\n",
    "    X_tensor, labels, test_size=0.2, random_state=10\n",
    ")"
   ],
   "id": "aa7a4b86aa34fa65",
   "outputs": [],
   "execution_count": 171
  },
  {
   "metadata": {
    "ExecuteTime": {
     "end_time": "2024-08-20T18:53:23.170003Z",
     "start_time": "2024-08-20T18:53:23.167614Z"
    }
   },
   "cell_type": "code",
   "source": [
    "def build_rdae(input_shape):\n",
    "    inputs = Input(shape=input_shape)\n",
    "    \n",
    "    # Encoder\n",
    "    encoded = LSTM(256, activation='relu', return_sequences=True)(inputs)\n",
    "    encoded = BatchNormalization()(encoded)\n",
    "    encoded = Dropout(0.2)(encoded)\n",
    "    \n",
    "    encoded = LSTM(128, activation='relu', return_sequences=False)(encoded)\n",
    "    \n",
    "    # Decoder\n",
    "    decoded = RepeatVector(input_shape[0])(encoded)\n",
    "    \n",
    "    decoded = LSTM(128, activation='relu', return_sequences=True)(decoded)\n",
    "    decoded = Dropout(0.2)(decoded)\n",
    "    \n",
    "    decoded = LSTM(256, activation='relu', return_sequences=True)(decoded)\n",
    "    decoded = BatchNormalization()(decoded)\n",
    "    \n",
    "    # Reconstruction Layer\n",
    "    outputs = TimeDistributed(Dense(input_shape[1]))(decoded)\n",
    "    \n",
    "    # Define the model\n",
    "    autoencoder = Model(inputs, outputs)\n",
    "    autoencoder.compile(optimizer=Adam(), loss='mae')\n",
    "    \n",
    "    return autoencoder"
   ],
   "id": "483264b001032c60",
   "outputs": [],
   "execution_count": 172
  },
  {
   "metadata": {
    "ExecuteTime": {
     "end_time": "2024-08-20T18:53:23.238114Z",
     "start_time": "2024-08-20T18:53:23.170574Z"
    }
   },
   "cell_type": "code",
   "source": [
    "input_shape = (X_train.shape[1], X_train.shape[2])\n",
    "print(input_shape)\n",
    "rdae = build_rdae(input_shape)"
   ],
   "id": "6bd73a5015987496",
   "outputs": [
    {
     "name": "stdout",
     "output_type": "stream",
     "text": [
      "(336, 39)\n"
     ]
    },
    {
     "ename": "ValueError",
     "evalue": "Input 0 of layer \"lstm_34\" is incompatible with the layer: expected ndim=3, found ndim=2. Full shape received: (None, 128)",
     "output_type": "error",
     "traceback": [
      "\u001B[0;31m---------------------------------------------------------------------------\u001B[0m",
      "\u001B[0;31mValueError\u001B[0m                                Traceback (most recent call last)",
      "Cell \u001B[0;32mIn[173], line 3\u001B[0m\n\u001B[1;32m      1\u001B[0m input_shape \u001B[38;5;241m=\u001B[39m (X_train\u001B[38;5;241m.\u001B[39mshape[\u001B[38;5;241m1\u001B[39m], X_train\u001B[38;5;241m.\u001B[39mshape[\u001B[38;5;241m2\u001B[39m])\n\u001B[1;32m      2\u001B[0m \u001B[38;5;28mprint\u001B[39m(input_shape)\n\u001B[0;32m----> 3\u001B[0m rdae \u001B[38;5;241m=\u001B[39m \u001B[43mbuild_rdae\u001B[49m\u001B[43m(\u001B[49m\u001B[43minput_shape\u001B[49m\u001B[43m)\u001B[49m\n",
      "Cell \u001B[0;32mIn[172], line 14\u001B[0m, in \u001B[0;36mbuild_rdae\u001B[0;34m(input_shape)\u001B[0m\n\u001B[1;32m      9\u001B[0m encoded \u001B[38;5;241m=\u001B[39m LSTM(\u001B[38;5;241m128\u001B[39m, activation\u001B[38;5;241m=\u001B[39m\u001B[38;5;124m'\u001B[39m\u001B[38;5;124mrelu\u001B[39m\u001B[38;5;124m'\u001B[39m, return_sequences\u001B[38;5;241m=\u001B[39m\u001B[38;5;28;01mFalse\u001B[39;00m)(encoded)\n\u001B[1;32m     11\u001B[0m \u001B[38;5;66;03m# Decoder\u001B[39;00m\n\u001B[1;32m     12\u001B[0m \u001B[38;5;66;03m#decoded = RepeatVector(input_shape[0])(encoded)\u001B[39;00m\n\u001B[0;32m---> 14\u001B[0m decoded \u001B[38;5;241m=\u001B[39m \u001B[43mLSTM\u001B[49m\u001B[43m(\u001B[49m\u001B[38;5;241;43m128\u001B[39;49m\u001B[43m,\u001B[49m\u001B[43m \u001B[49m\u001B[43mactivation\u001B[49m\u001B[38;5;241;43m=\u001B[39;49m\u001B[38;5;124;43m'\u001B[39;49m\u001B[38;5;124;43mrelu\u001B[39;49m\u001B[38;5;124;43m'\u001B[39;49m\u001B[43m,\u001B[49m\u001B[43m \u001B[49m\u001B[43mreturn_sequences\u001B[49m\u001B[38;5;241;43m=\u001B[39;49m\u001B[38;5;28;43;01mTrue\u001B[39;49;00m\u001B[43m)\u001B[49m\u001B[43m(\u001B[49m\u001B[43mencoded\u001B[49m\u001B[43m)\u001B[49m\n\u001B[1;32m     15\u001B[0m decoded \u001B[38;5;241m=\u001B[39m Dropout(\u001B[38;5;241m0.2\u001B[39m)(decoded)\n\u001B[1;32m     17\u001B[0m decoded \u001B[38;5;241m=\u001B[39m LSTM(\u001B[38;5;241m256\u001B[39m, activation\u001B[38;5;241m=\u001B[39m\u001B[38;5;124m'\u001B[39m\u001B[38;5;124mrelu\u001B[39m\u001B[38;5;124m'\u001B[39m, return_sequences\u001B[38;5;241m=\u001B[39m\u001B[38;5;28;01mTrue\u001B[39;00m)(decoded)\n",
      "File \u001B[0;32m/opt/miniconda3/lib/python3.12/site-packages/keras/src/utils/traceback_utils.py:122\u001B[0m, in \u001B[0;36mfilter_traceback.<locals>.error_handler\u001B[0;34m(*args, **kwargs)\u001B[0m\n\u001B[1;32m    119\u001B[0m     filtered_tb \u001B[38;5;241m=\u001B[39m _process_traceback_frames(e\u001B[38;5;241m.\u001B[39m__traceback__)\n\u001B[1;32m    120\u001B[0m     \u001B[38;5;66;03m# To get the full stack trace, call:\u001B[39;00m\n\u001B[1;32m    121\u001B[0m     \u001B[38;5;66;03m# `keras.config.disable_traceback_filtering()`\u001B[39;00m\n\u001B[0;32m--> 122\u001B[0m     \u001B[38;5;28;01mraise\u001B[39;00m e\u001B[38;5;241m.\u001B[39mwith_traceback(filtered_tb) \u001B[38;5;28;01mfrom\u001B[39;00m \u001B[38;5;28;01mNone\u001B[39;00m\n\u001B[1;32m    123\u001B[0m \u001B[38;5;28;01mfinally\u001B[39;00m:\n\u001B[1;32m    124\u001B[0m     \u001B[38;5;28;01mdel\u001B[39;00m filtered_tb\n",
      "File \u001B[0;32m/opt/miniconda3/lib/python3.12/site-packages/keras/src/layers/input_spec.py:186\u001B[0m, in \u001B[0;36massert_input_compatibility\u001B[0;34m(input_spec, inputs, layer_name)\u001B[0m\n\u001B[1;32m    184\u001B[0m \u001B[38;5;28;01mif\u001B[39;00m spec\u001B[38;5;241m.\u001B[39mndim \u001B[38;5;129;01mis\u001B[39;00m \u001B[38;5;129;01mnot\u001B[39;00m \u001B[38;5;28;01mNone\u001B[39;00m \u001B[38;5;129;01mand\u001B[39;00m \u001B[38;5;129;01mnot\u001B[39;00m spec\u001B[38;5;241m.\u001B[39mallow_last_axis_squeeze:\n\u001B[1;32m    185\u001B[0m     \u001B[38;5;28;01mif\u001B[39;00m ndim \u001B[38;5;241m!=\u001B[39m spec\u001B[38;5;241m.\u001B[39mndim:\n\u001B[0;32m--> 186\u001B[0m         \u001B[38;5;28;01mraise\u001B[39;00m \u001B[38;5;167;01mValueError\u001B[39;00m(\n\u001B[1;32m    187\u001B[0m             \u001B[38;5;124mf\u001B[39m\u001B[38;5;124m'\u001B[39m\u001B[38;5;124mInput \u001B[39m\u001B[38;5;132;01m{\u001B[39;00minput_index\u001B[38;5;132;01m}\u001B[39;00m\u001B[38;5;124m of layer \u001B[39m\u001B[38;5;124m\"\u001B[39m\u001B[38;5;132;01m{\u001B[39;00mlayer_name\u001B[38;5;132;01m}\u001B[39;00m\u001B[38;5;124m\"\u001B[39m\u001B[38;5;124m \u001B[39m\u001B[38;5;124m'\u001B[39m\n\u001B[1;32m    188\u001B[0m             \u001B[38;5;124m\"\u001B[39m\u001B[38;5;124mis incompatible with the layer: \u001B[39m\u001B[38;5;124m\"\u001B[39m\n\u001B[1;32m    189\u001B[0m             \u001B[38;5;124mf\u001B[39m\u001B[38;5;124m\"\u001B[39m\u001B[38;5;124mexpected ndim=\u001B[39m\u001B[38;5;132;01m{\u001B[39;00mspec\u001B[38;5;241m.\u001B[39mndim\u001B[38;5;132;01m}\u001B[39;00m\u001B[38;5;124m, found ndim=\u001B[39m\u001B[38;5;132;01m{\u001B[39;00mndim\u001B[38;5;132;01m}\u001B[39;00m\u001B[38;5;124m. \u001B[39m\u001B[38;5;124m\"\u001B[39m\n\u001B[1;32m    190\u001B[0m             \u001B[38;5;124mf\u001B[39m\u001B[38;5;124m\"\u001B[39m\u001B[38;5;124mFull shape received: \u001B[39m\u001B[38;5;132;01m{\u001B[39;00mshape\u001B[38;5;132;01m}\u001B[39;00m\u001B[38;5;124m\"\u001B[39m\n\u001B[1;32m    191\u001B[0m         )\n\u001B[1;32m    192\u001B[0m \u001B[38;5;28;01mif\u001B[39;00m spec\u001B[38;5;241m.\u001B[39mmax_ndim \u001B[38;5;129;01mis\u001B[39;00m \u001B[38;5;129;01mnot\u001B[39;00m \u001B[38;5;28;01mNone\u001B[39;00m:\n\u001B[1;32m    193\u001B[0m     \u001B[38;5;28;01mif\u001B[39;00m ndim \u001B[38;5;129;01mis\u001B[39;00m \u001B[38;5;129;01mnot\u001B[39;00m \u001B[38;5;28;01mNone\u001B[39;00m \u001B[38;5;129;01mand\u001B[39;00m ndim \u001B[38;5;241m>\u001B[39m spec\u001B[38;5;241m.\u001B[39mmax_ndim:\n",
      "\u001B[0;31mValueError\u001B[0m: Input 0 of layer \"lstm_34\" is incompatible with the layer: expected ndim=3, found ndim=2. Full shape received: (None, 128)"
     ]
    }
   ],
   "execution_count": 173
  },
  {
   "metadata": {},
   "cell_type": "code",
   "source": [
    "#data with missing values replaced by zero\n",
    "X_train_filled = np.nan_to_num(X_train)"
   ],
   "id": "e06decd181ece1cd",
   "outputs": [],
   "execution_count": null
  },
  {
   "metadata": {},
   "cell_type": "code",
   "source": [
    "# Train the autoencoder\n",
    "rdae.fit(X_train_filled, X_train_filled, epochs=20, batch_size=16, validation_split=0.1)"
   ],
   "id": "9ad9aea7a43a92fc",
   "outputs": [],
   "execution_count": null
  },
  {
   "metadata": {},
   "cell_type": "code",
   "source": [
    "# Use the trained autoencoder to impute missing values\n",
    "X_train_rdae_imputed = rdae.predict(X_train_filled)\n",
    "X_train_rdae_imputed"
   ],
   "id": "bb87938d54f2a8ce",
   "outputs": [],
   "execution_count": null
  },
  {
   "metadata": {},
   "cell_type": "code",
   "source": [
    "def create_gru_model(input_shape, learning_rate=0.001, dropout_rate=0.2, regularization_factor=0.001):\n",
    "    x_input = Input(shape=input_shape)\n",
    "    \n",
    "    # GRU layers with dropout, batch normalization, and regularization\n",
    "    gru_output = GRU(units=64, return_sequences=False, kernel_regularizer=l2(regularization_factor))(x_input)\n",
    "    gru_output = BatchNormalization()(gru_output)\n",
    "    gru_output = Dropout(dropout_rate)(gru_output)\n",
    "    \n",
    "    # Output layer\n",
    "    output = Dense(1, activation='sigmoid', kernel_regularizer=l2(regularization_factor))(gru_output)\n",
    "    \n",
    "    # Create model\n",
    "    model = Model(inputs=x_input, outputs=output)\n",
    "    \n",
    "    # Create an Adam optimizer with a custom learning rate\n",
    "    optimizer = Adam(learning_rate=learning_rate)\n",
    "    \n",
    "    # Compile the model with the custom optimizer\n",
    "    model.compile(optimizer=optimizer, loss='binary_crossentropy', metrics=['AUC'])\n",
    "    \n",
    "    return model"
   ],
   "id": "2bfb383c98669ac7",
   "outputs": [],
   "execution_count": null
  },
  {
   "metadata": {},
   "cell_type": "code",
   "source": [
    "input_shape = (max_hours, num_features+1)\n",
    "model_gru_rdae = create_gru_model(input_shape)\n",
    "\n",
    "history = model_gru_rdae.fit(X_train_rdae_imputed, y_train, epochs=50, batch_size=16, validation_split=0.2)"
   ],
   "id": "f4835b82f9e12bed",
   "outputs": [],
   "execution_count": null
  },
  {
   "metadata": {},
   "cell_type": "code",
   "source": [
    "# Evaluate the model on the test set\n",
    "test_loss, test_auc = model_gru_rdae.evaluate(X_test, y_test)\n",
    "print(f'Test AUC: {test_auc}')"
   ],
   "id": "27811dae0ef273ee",
   "outputs": [],
   "execution_count": null
  },
  {
   "metadata": {},
   "cell_type": "code",
   "source": [
    "# Plot training & validation AUC values\n",
    "plt.plot(history.history['AUC'])\n",
    "plt.plot(history.history['val_AUC'])\n",
    "plt.title('Model AUC')\n",
    "plt.ylabel('AUC')\n",
    "plt.xlabel('Epoch')\n",
    "plt.legend(['Train', 'Validation'], loc='upper left')\n",
    "plt.show()"
   ],
   "id": "ccf4985c4f0fd8a8",
   "outputs": [],
   "execution_count": null
  }
 ],
 "metadata": {
  "kernelspec": {
   "display_name": "Python 3",
   "language": "python",
   "name": "python3"
  },
  "language_info": {
   "codemirror_mode": {
    "name": "ipython",
    "version": 2
   },
   "file_extension": ".py",
   "mimetype": "text/x-python",
   "name": "python",
   "nbconvert_exporter": "python",
   "pygments_lexer": "ipython2",
   "version": "2.7.6"
  }
 },
 "nbformat": 4,
 "nbformat_minor": 5
}
