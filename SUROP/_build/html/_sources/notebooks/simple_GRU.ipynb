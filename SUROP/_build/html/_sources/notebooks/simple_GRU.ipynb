{
 "cells": [
  {
   "metadata": {},
   "cell_type": "markdown",
   "source": "# Simple GRU Model",
   "id": "3d67a8e123e70be5"
  },
  {
   "cell_type": "code",
   "id": "initial_id",
   "metadata": {
    "collapsed": true,
    "ExecuteTime": {
     "end_time": "2024-08-21T00:14:46.670144Z",
     "start_time": "2024-08-21T00:14:43.417104Z"
    }
   },
   "source": [
    "import pandas as pd\n",
    "import numpy as np\n",
    "from tensorflow.keras import Model\n",
    "from tensorflow.keras.layers import GRU, Dense, Input, Dropout, BatchNormalization\n",
    "import matplotlib.pyplot as plt\n",
    "from tensorflow.keras.optimizers import Adam\n",
    "from tensorflow.keras.regularizers import l2\n",
    "from sklearn.model_selection import train_test_split"
   ],
   "outputs": [],
   "execution_count": 1
  },
  {
   "metadata": {
    "ExecuteTime": {
     "end_time": "2024-08-21T00:14:47.209360Z",
     "start_time": "2024-08-21T00:14:46.671103Z"
    }
   },
   "cell_type": "code",
   "source": [
    "# Load the dataset\n",
    "train_x = pd.read_csv('/Users/mohanyang/Documents/GitHub/SUROP_time_series/SUROP/data/train_x.csv')\n",
    "train_y = pd.read_csv('/Users/mohanyang/Documents/GitHub/SUROP_time_series/SUROP/data/train_y.csv')\n",
    "test_x = pd.read_csv('/Users/mohanyang/Documents/GitHub/SUROP_time_series/SUROP/data/test_x.csv')"
   ],
   "id": "11206d8a00b7cdcc",
   "outputs": [],
   "execution_count": 2
  },
  {
   "metadata": {
    "ExecuteTime": {
     "end_time": "2024-08-21T00:14:47.215480Z",
     "start_time": "2024-08-21T00:14:47.209964Z"
    }
   },
   "cell_type": "code",
   "source": [
    "# Display the first few rows\n",
    "print(train_x.head())\n",
    "print(train_x.shape)"
   ],
   "id": "8848f19ab8badcaf",
   "outputs": [
    {
     "name": "stdout",
     "output_type": "stream",
     "text": [
      "   Hour  ID    Age  Gender  Unit1  Unit2     HR   O2Sat   Temp     SBP  ...  \\\n",
      "0     1   2  66.67     1.0    0.0    1.0  74.78  100.06  35.61  121.68  ...   \n",
      "1     2   2  66.67     1.0    0.0    1.0  74.78  100.06  35.61  121.68  ...   \n",
      "2     3   2  66.67     1.0    0.0    1.0  74.78  100.06  35.61  121.68  ...   \n",
      "3     4   2  66.67     1.0    0.0    1.0  74.78  100.06  35.61  121.68  ...   \n",
      "4     5   2  66.67     1.0    0.0    1.0  84.42   99.58  35.61  114.60  ...   \n",
      "\n",
      "   Phosphate  Potassium  Bilirubin_total  TroponinI    Hct   Hgb  PTT   WBC  \\\n",
      "0        NaN       4.48              NaN        NaN  28.83  9.21  NaN  8.15   \n",
      "1        NaN       4.48              NaN        NaN  28.83  9.21  NaN  8.15   \n",
      "2        NaN       4.48              NaN        NaN  28.83  9.21  NaN  8.15   \n",
      "3        NaN       4.48              NaN        NaN  28.83  9.21  NaN  8.15   \n",
      "4        NaN       4.48              NaN        NaN  28.83  9.21  NaN  8.15   \n",
      "\n",
      "   Fibrinogen  Platelets  \n",
      "0         NaN        NaN  \n",
      "1         NaN        NaN  \n",
      "2         NaN        NaN  \n",
      "3         NaN        NaN  \n",
      "4         NaN        NaN  \n",
      "\n",
      "[5 rows x 40 columns]\n",
      "(482010, 40)\n"
     ]
    }
   ],
   "execution_count": 3
  },
  {
   "metadata": {
    "ExecuteTime": {
     "end_time": "2024-08-21T00:14:47.217934Z",
     "start_time": "2024-08-21T00:14:47.216069Z"
    }
   },
   "cell_type": "code",
   "source": [
    "print(train_y.head())\n",
    "print(train_y.shape)"
   ],
   "id": "780add8981ad9955",
   "outputs": [
    {
     "name": "stdout",
     "output_type": "stream",
     "text": [
      "   ID  Outcome\n",
      "0   2        0\n",
      "1   3        0\n",
      "2   5        1\n",
      "3   6        0\n",
      "4  13        0\n",
      "(12115, 2)\n"
     ]
    }
   ],
   "execution_count": 4
  },
  {
   "metadata": {
    "ExecuteTime": {
     "end_time": "2024-08-21T00:14:47.226686Z",
     "start_time": "2024-08-21T00:14:47.219446Z"
    }
   },
   "cell_type": "code",
   "source": [
    "max_hours = train_x.groupby('ID')['Hour'].count().max()\n",
    "print(f'Maximum number of hours: {max_hours}')"
   ],
   "id": "48f42e6abd239289",
   "outputs": [
    {
     "name": "stdout",
     "output_type": "stream",
     "text": [
      "Maximum number of hours: 336\n"
     ]
    }
   ],
   "execution_count": 5
  },
  {
   "metadata": {
    "ExecuteTime": {
     "end_time": "2024-08-21T00:14:47.231301Z",
     "start_time": "2024-08-21T00:14:47.227201Z"
    }
   },
   "cell_type": "code",
   "source": [
    "# Get unique person IDs\n",
    "person_ids = train_x['ID'].unique()\n",
    "\n",
    "# Initialize tensors for features, masks, and time intervals\n",
    "num_persons = len(person_ids)\n",
    "num_features = train_x.shape[1] - 2  # excluding 'ID' and 'Hour' columns"
   ],
   "id": "64be0cb97c0c0bf3",
   "outputs": [],
   "execution_count": 6
  },
  {
   "metadata": {
    "ExecuteTime": {
     "end_time": "2024-08-21T00:14:47.234514Z",
     "start_time": "2024-08-21T00:14:47.231901Z"
    }
   },
   "cell_type": "code",
   "source": "person_ids",
   "id": "4a7175c1c823f814",
   "outputs": [
    {
     "data": {
      "text/plain": [
       "array([    2,     3,     5, ..., 21630, 21632, 21633])"
      ]
     },
     "execution_count": 7,
     "metadata": {},
     "output_type": "execute_result"
    }
   ],
   "execution_count": 7
  },
  {
   "metadata": {
    "ExecuteTime": {
     "end_time": "2024-08-21T00:14:47.236434Z",
     "start_time": "2024-08-21T00:14:47.234994Z"
    }
   },
   "cell_type": "code",
   "source": [
    "#Initialize tensors\n",
    "X_tensor = np.zeros((num_persons, max_hours, num_features+1))"
   ],
   "id": "845478173d527d86",
   "outputs": [],
   "execution_count": 8
  },
  {
   "metadata": {
    "ExecuteTime": {
     "end_time": "2024-08-21T00:14:50.547838Z",
     "start_time": "2024-08-21T00:14:47.236940Z"
    }
   },
   "cell_type": "code",
   "source": [
    "for i, person_id in enumerate(person_ids):\n",
    "    person_data = train_x[train_x['ID'] == person_id].sort_values('Hour')\n",
    "    hours = person_data['Hour'].values\n",
    "    features = person_data.drop(columns=['ID']).values\n",
    "    \n",
    "    # Fill X_tensor\n",
    "    X_tensor[i, :len(hours), :] = features"
   ],
   "id": "bfd4c27fb4e6951a",
   "outputs": [],
   "execution_count": 9
  },
  {
   "metadata": {
    "ExecuteTime": {
     "end_time": "2024-08-21T00:14:50.551125Z",
     "start_time": "2024-08-21T00:14:50.548635Z"
    }
   },
   "cell_type": "code",
   "source": "X_tensor",
   "id": "cb9e167e59aed66a",
   "outputs": [
    {
     "data": {
      "text/plain": [
       "array([[[  1.  ,  66.67,   1.  , ...,   8.15,    nan,    nan],\n",
       "        [  2.  ,  66.67,   1.  , ...,   8.15,    nan,    nan],\n",
       "        [  3.  ,  66.67,   1.  , ...,   8.15,    nan,    nan],\n",
       "        ...,\n",
       "        [  0.  ,   0.  ,   0.  , ...,   0.  ,   0.  ,   0.  ],\n",
       "        [  0.  ,   0.  ,   0.  , ...,   0.  ,   0.  ,   0.  ],\n",
       "        [  0.  ,   0.  ,   0.  , ...,   0.  ,   0.  ,   0.  ]],\n",
       "\n",
       "       [[  1.  ,  79.74,   0.  , ...,   6.82, 267.01, 281.18],\n",
       "        [  2.  ,  79.74,   0.  , ...,   6.82, 267.01, 281.18],\n",
       "        [  3.  ,  79.74,   0.  , ...,   6.82, 267.01, 281.18],\n",
       "        ...,\n",
       "        [  0.  ,   0.  ,   0.  , ...,   0.  ,   0.  ,   0.  ],\n",
       "        [  0.  ,   0.  ,   0.  , ...,   0.  ,   0.  ,   0.  ],\n",
       "        [  0.  ,   0.  ,   0.  , ...,   0.  ,   0.  ,   0.  ]],\n",
       "\n",
       "       [[  1.  ,  60.74,   1.  , ...,  12.45,    nan,  84.77],\n",
       "        [  2.  ,  60.74,   1.  , ...,  12.45,    nan,  84.77],\n",
       "        [  3.  ,  60.74,   1.  , ...,  12.45,    nan,  84.77],\n",
       "        ...,\n",
       "        [  0.  ,   0.  ,   0.  , ...,   0.  ,   0.  ,   0.  ],\n",
       "        [  0.  ,   0.  ,   0.  , ...,   0.  ,   0.  ,   0.  ],\n",
       "        [  0.  ,   0.  ,   0.  , ...,   0.  ,   0.  ,   0.  ]],\n",
       "\n",
       "       ...,\n",
       "\n",
       "       [[  1.  ,  65.41,   1.  , ...,  21.87,    nan, 303.89],\n",
       "        [  2.  ,  65.41,   1.  , ...,  21.87,    nan, 303.89],\n",
       "        [  3.  ,  65.41,   1.  , ...,  21.87,    nan, 303.89],\n",
       "        ...,\n",
       "        [  0.  ,   0.  ,   0.  , ...,   0.  ,   0.  ,   0.  ],\n",
       "        [  0.  ,   0.  ,   0.  , ...,   0.  ,   0.  ,   0.  ],\n",
       "        [  0.  ,   0.  ,   0.  , ...,   0.  ,   0.  ,   0.  ]],\n",
       "\n",
       "       [[  1.  ,  58.61,   1.  , ...,  45.9 ,    nan, 302.32],\n",
       "        [  2.  ,  58.61,   1.  , ...,  45.9 ,    nan, 302.32],\n",
       "        [  3.  ,  58.61,   1.  , ...,  45.9 ,    nan, 302.32],\n",
       "        ...,\n",
       "        [  0.  ,   0.  ,   0.  , ...,   0.  ,   0.  ,   0.  ],\n",
       "        [  0.  ,   0.  ,   0.  , ...,   0.  ,   0.  ,   0.  ],\n",
       "        [  0.  ,   0.  ,   0.  , ...,   0.  ,   0.  ,   0.  ]],\n",
       "\n",
       "       [[  1.  ,  58.58,   1.  , ...,  17.02,    nan, 167.  ],\n",
       "        [  2.  ,  58.58,   1.  , ...,  17.02,    nan, 167.  ],\n",
       "        [  3.  ,  58.58,   1.  , ...,  17.02,    nan, 167.  ],\n",
       "        ...,\n",
       "        [  0.  ,   0.  ,   0.  , ...,   0.  ,   0.  ,   0.  ],\n",
       "        [  0.  ,   0.  ,   0.  , ...,   0.  ,   0.  ,   0.  ],\n",
       "        [  0.  ,   0.  ,   0.  , ...,   0.  ,   0.  ,   0.  ]]])"
      ]
     },
     "execution_count": 10,
     "metadata": {},
     "output_type": "execute_result"
    }
   ],
   "execution_count": 10
  },
  {
   "metadata": {
    "ExecuteTime": {
     "end_time": "2024-08-21T00:14:51.485972Z",
     "start_time": "2024-08-21T00:14:50.551608Z"
    }
   },
   "cell_type": "code",
   "source": [
    "# Replace NaNs with zeros in X_tensor\n",
    "X_tensor = np.nan_to_num(X_tensor)\n",
    "\n",
    "print(X_tensor.shape)"
   ],
   "id": "91fa8ed6cceb3e8c",
   "outputs": [
    {
     "name": "stdout",
     "output_type": "stream",
     "text": [
      "(12115, 336, 39)\n"
     ]
    }
   ],
   "execution_count": 11
  },
  {
   "metadata": {
    "ExecuteTime": {
     "end_time": "2024-08-21T00:14:52.287583Z",
     "start_time": "2024-08-21T00:14:51.486660Z"
    }
   },
   "cell_type": "code",
   "source": [
    "# Ensure train_y is aligned with X_tensor\n",
    "labels = np.zeros(len(person_ids))\n",
    "\n",
    "for i, person_id in enumerate(person_ids):\n",
    "    if person_id in train_y['ID'].values:\n",
    "        labels[i] = train_y[train_y['ID'] == person_id]['Outcome'].values[0]\n",
    "\n",
    "print(labels.shape)"
   ],
   "id": "41512dbd553e7a9c",
   "outputs": [
    {
     "name": "stdout",
     "output_type": "stream",
     "text": [
      "(12115,)\n"
     ]
    }
   ],
   "execution_count": 12
  },
  {
   "metadata": {
    "ExecuteTime": {
     "end_time": "2024-08-21T00:14:52.429213Z",
     "start_time": "2024-08-21T00:14:52.288187Z"
    }
   },
   "cell_type": "code",
   "source": [
    "# Split the data into training and test sets\n",
    "X_train, X_test, y_train, y_test = train_test_split(\n",
    "    X_tensor, labels, test_size=0.2, random_state=10\n",
    ")"
   ],
   "id": "aa7a4b86aa34fa65",
   "outputs": [],
   "execution_count": 13
  },
  {
   "metadata": {
    "ExecuteTime": {
     "end_time": "2024-08-21T00:14:52.434198Z",
     "start_time": "2024-08-21T00:14:52.431818Z"
    }
   },
   "cell_type": "code",
   "source": [
    "def create_gru_model(input_shape, learning_rate=0.001, dropout_rate=0.2, regularization_factor=0.001):\n",
    "    x_input = Input(shape=input_shape)\n",
    "    \n",
    "    # GRU layers with dropout, batch normalization, and regularization\n",
    "    gru_output = GRU(units=64, return_sequences=False, kernel_regularizer=l2(regularization_factor))(x_input)\n",
    "    gru_output = BatchNormalization()(gru_output)\n",
    "    gru_output = Dropout(dropout_rate)(gru_output)\n",
    "    \n",
    "    # Output layer\n",
    "    output = Dense(1, activation='sigmoid', kernel_regularizer=l2(regularization_factor))(gru_output)\n",
    "    \n",
    "    # Create model\n",
    "    model = Model(inputs=x_input, outputs=output)\n",
    "    \n",
    "    # Create an Adam optimizer with a custom learning rate\n",
    "    optimizer = Adam(learning_rate=learning_rate)\n",
    "    \n",
    "    # Compile the model with the custom optimizer\n",
    "    model.compile(optimizer=optimizer, loss='binary_crossentropy', metrics=['AUC', 'accuracy'])\n",
    "    \n",
    "    return model"
   ],
   "id": "2bfb383c98669ac7",
   "outputs": [],
   "execution_count": 14
  },
  {
   "metadata": {
    "ExecuteTime": {
     "end_time": "2024-08-21T00:31:20.585670Z",
     "start_time": "2024-08-21T00:14:52.434793Z"
    }
   },
   "cell_type": "code",
   "source": [
    "input_shape = (max_hours, num_features+1)\n",
    "model_gru = create_gru_model(input_shape)\n",
    "\n",
    "history = model_gru.fit(X_train, y_train, epochs=50, batch_size=16, validation_split=0.2)"
   ],
   "id": "f4835b82f9e12bed",
   "outputs": [
    {
     "name": "stdout",
     "output_type": "stream",
     "text": [
      "Epoch 1/50\n",
      "\u001B[1m485/485\u001B[0m \u001B[32m━━━━━━━━━━━━━━━━━━━━\u001B[0m\u001B[37m\u001B[0m \u001B[1m19s\u001B[0m 37ms/step - AUC: 0.4800 - accuracy: 0.8696 - loss: 0.5120 - val_AUC: 0.5021 - val_accuracy: 0.8571 - val_loss: 0.4220\n",
      "Epoch 2/50\n",
      "\u001B[1m485/485\u001B[0m \u001B[32m━━━━━━━━━━━━━━━━━━━━\u001B[0m\u001B[37m\u001B[0m \u001B[1m18s\u001B[0m 37ms/step - AUC: 0.4737 - accuracy: 0.8603 - loss: 0.4121 - val_AUC: 0.5021 - val_accuracy: 0.8571 - val_loss: 0.4900\n",
      "Epoch 3/50\n",
      "\u001B[1m485/485\u001B[0m \u001B[32m━━━━━━━━━━━━━━━━━━━━\u001B[0m\u001B[37m\u001B[0m \u001B[1m18s\u001B[0m 36ms/step - AUC: 0.4771 - accuracy: 0.8658 - loss: 0.4010 - val_AUC: 0.5018 - val_accuracy: 0.8577 - val_loss: 0.4141\n",
      "Epoch 4/50\n",
      "\u001B[1m485/485\u001B[0m \u001B[32m━━━━━━━━━━━━━━━━━━━━\u001B[0m\u001B[37m\u001B[0m \u001B[1m20s\u001B[0m 40ms/step - AUC: 0.4957 - accuracy: 0.8588 - loss: 0.4122 - val_AUC: 0.5021 - val_accuracy: 0.1434 - val_loss: 0.9765\n",
      "Epoch 5/50\n",
      "\u001B[1m485/485\u001B[0m \u001B[32m━━━━━━━━━━━━━━━━━━━━\u001B[0m\u001B[37m\u001B[0m \u001B[1m19s\u001B[0m 40ms/step - AUC: 0.5050 - accuracy: 0.8713 - loss: 0.3883 - val_AUC: 0.5021 - val_accuracy: 0.8571 - val_loss: 0.4145\n",
      "Epoch 6/50\n",
      "\u001B[1m485/485\u001B[0m \u001B[32m━━━━━━━━━━━━━━━━━━━━\u001B[0m\u001B[37m\u001B[0m \u001B[1m19s\u001B[0m 39ms/step - AUC: 0.4927 - accuracy: 0.8624 - loss: 0.4051 - val_AUC: 0.5018 - val_accuracy: 0.1434 - val_loss: 0.7891\n",
      "Epoch 7/50\n",
      "\u001B[1m485/485\u001B[0m \u001B[32m━━━━━━━━━━━━━━━━━━━━\u001B[0m\u001B[37m\u001B[0m \u001B[1m19s\u001B[0m 40ms/step - AUC: 0.5181 - accuracy: 0.8655 - loss: 0.3995 - val_AUC: 0.6609 - val_accuracy: 0.8618 - val_loss: 0.5731\n",
      "Epoch 8/50\n",
      "\u001B[1m485/485\u001B[0m \u001B[32m━━━━━━━━━━━━━━━━━━━━\u001B[0m\u001B[37m\u001B[0m \u001B[1m19s\u001B[0m 39ms/step - AUC: 0.6302 - accuracy: 0.8729 - loss: 0.3722 - val_AUC: 0.7085 - val_accuracy: 0.5993 - val_loss: 0.6710\n",
      "Epoch 9/50\n",
      "\u001B[1m485/485\u001B[0m \u001B[32m━━━━━━━━━━━━━━━━━━━━\u001B[0m\u001B[37m\u001B[0m \u001B[1m19s\u001B[0m 40ms/step - AUC: 0.7154 - accuracy: 0.8879 - loss: 0.3372 - val_AUC: 0.6432 - val_accuracy: 0.8644 - val_loss: 0.8360\n",
      "Epoch 10/50\n",
      "\u001B[1m485/485\u001B[0m \u001B[32m━━━━━━━━━━━━━━━━━━━━\u001B[0m\u001B[37m\u001B[0m \u001B[1m19s\u001B[0m 39ms/step - AUC: 0.7588 - accuracy: 0.8964 - loss: 0.3179 - val_AUC: 0.7211 - val_accuracy: 0.1434 - val_loss: 4.2885\n",
      "Epoch 11/50\n",
      "\u001B[1m485/485\u001B[0m \u001B[32m━━━━━━━━━━━━━━━━━━━━\u001B[0m\u001B[37m\u001B[0m \u001B[1m19s\u001B[0m 40ms/step - AUC: 0.8272 - accuracy: 0.8948 - loss: 0.2959 - val_AUC: 0.8190 - val_accuracy: 0.8097 - val_loss: 0.4832\n",
      "Epoch 12/50\n",
      "\u001B[1m485/485\u001B[0m \u001B[32m━━━━━━━━━━━━━━━━━━━━\u001B[0m\u001B[37m\u001B[0m \u001B[1m19s\u001B[0m 39ms/step - AUC: 0.8420 - accuracy: 0.9092 - loss: 0.2697 - val_AUC: 0.8239 - val_accuracy: 0.8860 - val_loss: 0.4866\n",
      "Epoch 13/50\n",
      "\u001B[1m485/485\u001B[0m \u001B[32m━━━━━━━━━━━━━━━━━━━━\u001B[0m\u001B[37m\u001B[0m \u001B[1m19s\u001B[0m 39ms/step - AUC: 0.8271 - accuracy: 0.9042 - loss: 0.2873 - val_AUC: 0.5003 - val_accuracy: 0.1434 - val_loss: 10.4043\n",
      "Epoch 14/50\n",
      "\u001B[1m485/485\u001B[0m \u001B[32m━━━━━━━━━━━━━━━━━━━━\u001B[0m\u001B[37m\u001B[0m \u001B[1m19s\u001B[0m 38ms/step - AUC: 0.8558 - accuracy: 0.9010 - loss: 0.2825 - val_AUC: 0.8612 - val_accuracy: 0.8958 - val_loss: 0.2872\n",
      "Epoch 15/50\n",
      "\u001B[1m485/485\u001B[0m \u001B[32m━━━━━━━━━━━━━━━━━━━━\u001B[0m\u001B[37m\u001B[0m \u001B[1m19s\u001B[0m 39ms/step - AUC: 0.8450 - accuracy: 0.9094 - loss: 0.2697 - val_AUC: 0.6465 - val_accuracy: 0.8654 - val_loss: 1.0205\n",
      "Epoch 16/50\n",
      "\u001B[1m485/485\u001B[0m \u001B[32m━━━━━━━━━━━━━━━━━━━━\u001B[0m\u001B[37m\u001B[0m \u001B[1m20s\u001B[0m 41ms/step - AUC: 0.8479 - accuracy: 0.9236 - loss: 0.2589 - val_AUC: 0.8460 - val_accuracy: 0.9128 - val_loss: 0.2743\n",
      "Epoch 17/50\n",
      "\u001B[1m485/485\u001B[0m \u001B[32m━━━━━━━━━━━━━━━━━━━━\u001B[0m\u001B[37m\u001B[0m \u001B[1m19s\u001B[0m 39ms/step - AUC: 0.8525 - accuracy: 0.9133 - loss: 0.2639 - val_AUC: 0.8024 - val_accuracy: 0.8711 - val_loss: 0.6562\n",
      "Epoch 18/50\n",
      "\u001B[1m485/485\u001B[0m \u001B[32m━━━━━━━━━━━━━━━━━━━━\u001B[0m\u001B[37m\u001B[0m \u001B[1m19s\u001B[0m 39ms/step - AUC: 0.8447 - accuracy: 0.9211 - loss: 0.2494 - val_AUC: 0.8675 - val_accuracy: 0.9005 - val_loss: 0.4232\n",
      "Epoch 19/50\n",
      "\u001B[1m485/485\u001B[0m \u001B[32m━━━━━━━━━━━━━━━━━━━━\u001B[0m\u001B[37m\u001B[0m \u001B[1m19s\u001B[0m 39ms/step - AUC: 0.8467 - accuracy: 0.9131 - loss: 0.2705 - val_AUC: 0.8551 - val_accuracy: 0.9190 - val_loss: 0.2716\n",
      "Epoch 20/50\n",
      "\u001B[1m485/485\u001B[0m \u001B[32m━━━━━━━━━━━━━━━━━━━━\u001B[0m\u001B[37m\u001B[0m \u001B[1m18s\u001B[0m 38ms/step - AUC: 0.8462 - accuracy: 0.9235 - loss: 0.2539 - val_AUC: 0.8683 - val_accuracy: 0.9226 - val_loss: 0.3579\n",
      "Epoch 21/50\n",
      "\u001B[1m485/485\u001B[0m \u001B[32m━━━━━━━━━━━━━━━━━━━━\u001B[0m\u001B[37m\u001B[0m \u001B[1m19s\u001B[0m 39ms/step - AUC: 0.8577 - accuracy: 0.9225 - loss: 0.2545 - val_AUC: 0.6937 - val_accuracy: 0.8654 - val_loss: 0.8992\n",
      "Epoch 22/50\n",
      "\u001B[1m485/485\u001B[0m \u001B[32m━━━━━━━━━━━━━━━━━━━━\u001B[0m\u001B[37m\u001B[0m \u001B[1m18s\u001B[0m 38ms/step - AUC: 0.8599 - accuracy: 0.9216 - loss: 0.2551 - val_AUC: 0.8702 - val_accuracy: 0.9165 - val_loss: 0.2645\n",
      "Epoch 23/50\n",
      "\u001B[1m485/485\u001B[0m \u001B[32m━━━━━━━━━━━━━━━━━━━━\u001B[0m\u001B[37m\u001B[0m \u001B[1m18s\u001B[0m 38ms/step - AUC: 0.8728 - accuracy: 0.9257 - loss: 0.2444 - val_AUC: 0.8557 - val_accuracy: 0.1439 - val_loss: 1.6411\n",
      "Epoch 24/50\n",
      "\u001B[1m485/485\u001B[0m \u001B[32m━━━━━━━━━━━━━━━━━━━━\u001B[0m\u001B[37m\u001B[0m \u001B[1m19s\u001B[0m 39ms/step - AUC: 0.8622 - accuracy: 0.9127 - loss: 0.2646 - val_AUC: 0.8611 - val_accuracy: 0.9268 - val_loss: 0.2564\n",
      "Epoch 25/50\n",
      "\u001B[1m485/485\u001B[0m \u001B[32m━━━━━━━━━━━━━━━━━━━━\u001B[0m\u001B[37m\u001B[0m \u001B[1m19s\u001B[0m 39ms/step - AUC: 0.8593 - accuracy: 0.9167 - loss: 0.2627 - val_AUC: 0.8603 - val_accuracy: 0.7463 - val_loss: 0.4988\n",
      "Epoch 26/50\n",
      "\u001B[1m485/485\u001B[0m \u001B[32m━━━━━━━━━━━━━━━━━━━━\u001B[0m\u001B[37m\u001B[0m \u001B[1m19s\u001B[0m 40ms/step - AUC: 0.8521 - accuracy: 0.9248 - loss: 0.2554 - val_AUC: 0.8708 - val_accuracy: 0.9232 - val_loss: 0.3317\n",
      "Epoch 27/50\n",
      "\u001B[1m485/485\u001B[0m \u001B[32m━━━━━━━━━━━━━━━━━━━━\u001B[0m\u001B[37m\u001B[0m \u001B[1m19s\u001B[0m 40ms/step - AUC: 0.8600 - accuracy: 0.9188 - loss: 0.2570 - val_AUC: 0.8644 - val_accuracy: 0.9015 - val_loss: 0.3219\n",
      "Epoch 28/50\n",
      "\u001B[1m485/485\u001B[0m \u001B[32m━━━━━━━━━━━━━━━━━━━━\u001B[0m\u001B[37m\u001B[0m \u001B[1m19s\u001B[0m 39ms/step - AUC: 0.8432 - accuracy: 0.9189 - loss: 0.2611 - val_AUC: 0.8728 - val_accuracy: 0.9056 - val_loss: 0.2734\n",
      "Epoch 29/50\n",
      "\u001B[1m485/485\u001B[0m \u001B[32m━━━━━━━━━━━━━━━━━━━━\u001B[0m\u001B[37m\u001B[0m \u001B[1m19s\u001B[0m 38ms/step - AUC: 0.8553 - accuracy: 0.9202 - loss: 0.2574 - val_AUC: 0.8616 - val_accuracy: 0.1439 - val_loss: 2.7088\n",
      "Epoch 30/50\n",
      "\u001B[1m485/485\u001B[0m \u001B[32m━━━━━━━━━━━━━━━━━━━━\u001B[0m\u001B[37m\u001B[0m \u001B[1m19s\u001B[0m 38ms/step - AUC: 0.8624 - accuracy: 0.9277 - loss: 0.2463 - val_AUC: 0.8432 - val_accuracy: 0.8767 - val_loss: 0.4910\n",
      "Epoch 31/50\n",
      "\u001B[1m485/485\u001B[0m \u001B[32m━━━━━━━━━━━━━━━━━━━━\u001B[0m\u001B[37m\u001B[0m \u001B[1m19s\u001B[0m 39ms/step - AUC: 0.8532 - accuracy: 0.9242 - loss: 0.2512 - val_AUC: 0.8763 - val_accuracy: 0.9087 - val_loss: 0.2784\n",
      "Epoch 32/50\n",
      "\u001B[1m485/485\u001B[0m \u001B[32m━━━━━━━━━━━━━━━━━━━━\u001B[0m\u001B[37m\u001B[0m \u001B[1m19s\u001B[0m 38ms/step - AUC: 0.8409 - accuracy: 0.9173 - loss: 0.2630 - val_AUC: 0.8513 - val_accuracy: 0.8804 - val_loss: 0.4561\n",
      "Epoch 33/50\n",
      "\u001B[1m485/485\u001B[0m \u001B[32m━━━━━━━━━━━━━━━━━━━━\u001B[0m\u001B[37m\u001B[0m \u001B[1m19s\u001B[0m 39ms/step - AUC: 0.8762 - accuracy: 0.9247 - loss: 0.2469 - val_AUC: 0.8517 - val_accuracy: 0.9072 - val_loss: 0.3195\n",
      "Epoch 34/50\n",
      "\u001B[1m485/485\u001B[0m \u001B[32m━━━━━━━━━━━━━━━━━━━━\u001B[0m\u001B[37m\u001B[0m \u001B[1m19s\u001B[0m 39ms/step - AUC: 0.8512 - accuracy: 0.9222 - loss: 0.2518 - val_AUC: 0.6102 - val_accuracy: 0.1434 - val_loss: 4.7659\n",
      "Epoch 35/50\n",
      "\u001B[1m485/485\u001B[0m \u001B[32m━━━━━━━━━━━━━━━━━━━━\u001B[0m\u001B[37m\u001B[0m \u001B[1m20s\u001B[0m 40ms/step - AUC: 0.8580 - accuracy: 0.9257 - loss: 0.2491 - val_AUC: 0.8030 - val_accuracy: 0.8659 - val_loss: 0.5903\n",
      "Epoch 36/50\n",
      "\u001B[1m485/485\u001B[0m \u001B[32m━━━━━━━━━━━━━━━━━━━━\u001B[0m\u001B[37m\u001B[0m \u001B[1m19s\u001B[0m 40ms/step - AUC: 0.8508 - accuracy: 0.9253 - loss: 0.2501 - val_AUC: 0.8687 - val_accuracy: 0.1439 - val_loss: 3.3647\n",
      "Epoch 37/50\n",
      "\u001B[1m485/485\u001B[0m \u001B[32m━━━━━━━━━━━━━━━━━━━━\u001B[0m\u001B[37m\u001B[0m \u001B[1m19s\u001B[0m 39ms/step - AUC: 0.8717 - accuracy: 0.9199 - loss: 0.2521 - val_AUC: 0.8795 - val_accuracy: 0.9185 - val_loss: 0.2581\n",
      "Epoch 38/50\n",
      "\u001B[1m485/485\u001B[0m \u001B[32m━━━━━━━━━━━━━━━━━━━━\u001B[0m\u001B[37m\u001B[0m \u001B[1m19s\u001B[0m 40ms/step - AUC: 0.8655 - accuracy: 0.9174 - loss: 0.2531 - val_AUC: 0.8843 - val_accuracy: 0.9170 - val_loss: 0.2664\n",
      "Epoch 39/50\n",
      "\u001B[1m485/485\u001B[0m \u001B[32m━━━━━━━━━━━━━━━━━━━━\u001B[0m\u001B[37m\u001B[0m \u001B[1m22s\u001B[0m 45ms/step - AUC: 0.8668 - accuracy: 0.9241 - loss: 0.2495 - val_AUC: 0.8503 - val_accuracy: 0.9299 - val_loss: 0.2537\n",
      "Epoch 40/50\n",
      "\u001B[1m485/485\u001B[0m \u001B[32m━━━━━━━━━━━━━━━━━━━━\u001B[0m\u001B[37m\u001B[0m \u001B[1m22s\u001B[0m 46ms/step - AUC: 0.8615 - accuracy: 0.9234 - loss: 0.2530 - val_AUC: 0.8786 - val_accuracy: 0.9108 - val_loss: 0.2676\n",
      "Epoch 41/50\n",
      "\u001B[1m485/485\u001B[0m \u001B[32m━━━━━━━━━━━━━━━━━━━━\u001B[0m\u001B[37m\u001B[0m \u001B[1m22s\u001B[0m 46ms/step - AUC: 0.8710 - accuracy: 0.9263 - loss: 0.2458 - val_AUC: 0.8642 - val_accuracy: 0.9299 - val_loss: 0.2572\n",
      "Epoch 42/50\n",
      "\u001B[1m485/485\u001B[0m \u001B[32m━━━━━━━━━━━━━━━━━━━━\u001B[0m\u001B[37m\u001B[0m \u001B[1m23s\u001B[0m 47ms/step - AUC: 0.8635 - accuracy: 0.9212 - loss: 0.2508 - val_AUC: 0.8739 - val_accuracy: 0.8917 - val_loss: 0.4068\n",
      "Epoch 43/50\n",
      "\u001B[1m485/485\u001B[0m \u001B[32m━━━━━━━━━━━━━━━━━━━━\u001B[0m\u001B[37m\u001B[0m \u001B[1m23s\u001B[0m 46ms/step - AUC: 0.8592 - accuracy: 0.9179 - loss: 0.2605 - val_AUC: 0.8743 - val_accuracy: 0.9201 - val_loss: 0.2837\n",
      "Epoch 44/50\n",
      "\u001B[1m485/485\u001B[0m \u001B[32m━━━━━━━━━━━━━━━━━━━━\u001B[0m\u001B[37m\u001B[0m \u001B[1m22s\u001B[0m 46ms/step - AUC: 0.8717 - accuracy: 0.9167 - loss: 0.2531 - val_AUC: 0.8729 - val_accuracy: 0.9268 - val_loss: 0.2533\n",
      "Epoch 45/50\n",
      "\u001B[1m485/485\u001B[0m \u001B[32m━━━━━━━━━━━━━━━━━━━━\u001B[0m\u001B[37m\u001B[0m \u001B[1m23s\u001B[0m 48ms/step - AUC: 0.8583 - accuracy: 0.9216 - loss: 0.2582 - val_AUC: 0.8851 - val_accuracy: 0.9211 - val_loss: 0.3019\n",
      "Epoch 46/50\n",
      "\u001B[1m485/485\u001B[0m \u001B[32m━━━━━━━━━━━━━━━━━━━━\u001B[0m\u001B[37m\u001B[0m \u001B[1m23s\u001B[0m 47ms/step - AUC: 0.8575 - accuracy: 0.9160 - loss: 0.2604 - val_AUC: 0.8810 - val_accuracy: 0.8757 - val_loss: 0.3974\n",
      "Epoch 47/50\n",
      "\u001B[1m485/485\u001B[0m \u001B[32m━━━━━━━━━━━━━━━━━━━━\u001B[0m\u001B[37m\u001B[0m \u001B[1m22s\u001B[0m 45ms/step - AUC: 0.8594 - accuracy: 0.9210 - loss: 0.2591 - val_AUC: 0.8638 - val_accuracy: 0.9195 - val_loss: 0.2784\n",
      "Epoch 48/50\n",
      "\u001B[1m485/485\u001B[0m \u001B[32m━━━━━━━━━━━━━━━━━━━━\u001B[0m\u001B[37m\u001B[0m \u001B[1m22s\u001B[0m 46ms/step - AUC: 0.8708 - accuracy: 0.9233 - loss: 0.2493 - val_AUC: 0.8620 - val_accuracy: 0.9190 - val_loss: 0.2593\n",
      "Epoch 49/50\n",
      "\u001B[1m485/485\u001B[0m \u001B[32m━━━━━━━━━━━━━━━━━━━━\u001B[0m\u001B[37m\u001B[0m \u001B[1m22s\u001B[0m 46ms/step - AUC: 0.8637 - accuracy: 0.9271 - loss: 0.2384 - val_AUC: 0.8680 - val_accuracy: 0.9139 - val_loss: 0.2917\n",
      "Epoch 50/50\n",
      "\u001B[1m485/485\u001B[0m \u001B[32m━━━━━━━━━━━━━━━━━━━━\u001B[0m\u001B[37m\u001B[0m \u001B[1m22s\u001B[0m 45ms/step - AUC: 0.8774 - accuracy: 0.9283 - loss: 0.2375 - val_AUC: 0.8931 - val_accuracy: 0.9278 - val_loss: 0.2807\n"
     ]
    }
   ],
   "execution_count": 15
  },
  {
   "metadata": {
    "ExecuteTime": {
     "end_time": "2024-08-21T00:31:21.808855Z",
     "start_time": "2024-08-21T00:31:20.587095Z"
    }
   },
   "cell_type": "code",
   "source": [
    "# Evaluate the model on the test set\n",
    "test_loss, test_auc, test_accuracy = model_gru.evaluate(X_test, y_test)\n",
    "print(f'Test AUC: {test_auc}')\n",
    "print(f'Test Accuracy: {test_accuracy:.4f}')"
   ],
   "id": "27811dae0ef273ee",
   "outputs": [
    {
     "name": "stdout",
     "output_type": "stream",
     "text": [
      "\u001B[1m76/76\u001B[0m \u001B[32m━━━━━━━━━━━━━━━━━━━━\u001B[0m\u001B[37m\u001B[0m \u001B[1m1s\u001B[0m 15ms/step - AUC: 0.8339 - accuracy: 0.9142 - loss: 0.3098\n",
      "Test AUC: 0.8473536968231201\n",
      "Test Accuracy: 0.9199\n"
     ]
    }
   ],
   "execution_count": 16
  },
  {
   "metadata": {
    "ExecuteTime": {
     "end_time": "2024-08-21T00:31:21.894781Z",
     "start_time": "2024-08-21T00:31:21.809825Z"
    }
   },
   "cell_type": "code",
   "source": [
    "# Plot training & validation AUC values\n",
    "plt.plot(history.history['AUC'])\n",
    "plt.plot(history.history['val_AUC'])\n",
    "plt.title('Model AUC')\n",
    "plt.ylabel('AUC')\n",
    "plt.xlabel('Epoch')\n",
    "plt.legend(['Train', 'Validation'], loc='upper left')\n",
    "plt.show()"
   ],
   "id": "ccf4985c4f0fd8a8",
   "outputs": [
    {
     "data": {
      "text/plain": [
       "<Figure size 640x480 with 1 Axes>"
      ],
      "image/png": "[encoded data removed]"
     },
     "metadata": {},
     "output_type": "display_data"
    }
   ],
   "execution_count": 17
  }
 ],
 "metadata": {
  "kernelspec": {
   "display_name": "Python 3",
   "language": "python",
   "name": "python3"
  },
  "language_info": {
   "codemirror_mode": {
    "name": "ipython",
    "version": 2
   },
   "file_extension": ".py",
   "mimetype": "text/x-python",
   "name": "python",
   "nbconvert_exporter": "python",
   "pygments_lexer": "ipython2",
   "version": "2.7.6"
  }
 },
 "nbformat": 4,
 "nbformat_minor": 5
}
