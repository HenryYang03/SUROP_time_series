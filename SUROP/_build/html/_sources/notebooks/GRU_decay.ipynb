{
 "cells": [
  {
   "metadata": {},
   "cell_type": "markdown",
   "source": "# GRU Model with Decay Mechanism",
   "id": "a51119d7382670f1"
  },
  {
   "cell_type": "code",
   "id": "initial_id",
   "metadata": {
    "collapsed": true,
    "ExecuteTime": {
     "end_time": "2024-08-21T16:39:03.855690Z",
     "start_time": "2024-08-21T16:39:03.851103Z"
    }
   },
   "source": [
    "import pandas as pd\n",
    "import numpy as np\n",
    "import torch\n",
    "import torch.nn as nn\n",
    "import torch.optim as optim\n",
    "from torch.utils.data import DataLoader, TensorDataset\n",
    "from sklearn.model_selection import train_test_split\n",
    "import matplotlib.pyplot as plt\n",
    "from sklearn.metrics import roc_auc_score"
   ],
   "outputs": [],
   "execution_count": 374
  },
  {
   "metadata": {
    "ExecuteTime": {
     "end_time": "2024-08-21T16:39:04.504375Z",
     "start_time": "2024-08-21T16:39:03.885187Z"
    }
   },
   "cell_type": "code",
   "source": [
    "# Load the dataset\n",
    "train_x = pd.read_csv('/Users/mohanyang/Documents/GitHub/SUROP_time_series/SUROP/data/train_x.csv')\n",
    "train_y = pd.read_csv('/Users/mohanyang/Documents/GitHub/SUROP_time_series/SUROP/data/train_y.csv')\n",
    "test_x = pd.read_csv('/Users/mohanyang/Documents/GitHub/SUROP_time_series/SUROP/data/test_x.csv')"
   ],
   "id": "11206d8a00b7cdcc",
   "outputs": [],
   "execution_count": 375
  },
  {
   "metadata": {
    "ExecuteTime": {
     "end_time": "2024-08-21T16:39:04.515892Z",
     "start_time": "2024-08-21T16:39:04.506281Z"
    }
   },
   "cell_type": "code",
   "source": [
    "# Display the first few rows\n",
    "print(train_x.head())\n",
    "print(train_x.shape)"
   ],
   "id": "8848f19ab8badcaf",
   "outputs": [
    {
     "name": "stdout",
     "output_type": "stream",
     "text": [
      "   Hour  ID    Age  Gender  Unit1  Unit2     HR   O2Sat   Temp     SBP  ...  \\\n",
      "0     1   2  66.67     1.0    0.0    1.0  74.78  100.06  35.61  121.68  ...   \n",
      "1     2   2  66.67     1.0    0.0    1.0  74.78  100.06  35.61  121.68  ...   \n",
      "2     3   2  66.67     1.0    0.0    1.0  74.78  100.06  35.61  121.68  ...   \n",
      "3     4   2  66.67     1.0    0.0    1.0  74.78  100.06  35.61  121.68  ...   \n",
      "4     5   2  66.67     1.0    0.0    1.0  84.42   99.58  35.61  114.60  ...   \n",
      "\n",
      "   Phosphate  Potassium  Bilirubin_total  TroponinI    Hct   Hgb  PTT   WBC  \\\n",
      "0        NaN       4.48              NaN        NaN  28.83  9.21  NaN  8.15   \n",
      "1        NaN       4.48              NaN        NaN  28.83  9.21  NaN  8.15   \n",
      "2        NaN       4.48              NaN        NaN  28.83  9.21  NaN  8.15   \n",
      "3        NaN       4.48              NaN        NaN  28.83  9.21  NaN  8.15   \n",
      "4        NaN       4.48              NaN        NaN  28.83  9.21  NaN  8.15   \n",
      "\n",
      "   Fibrinogen  Platelets  \n",
      "0         NaN        NaN  \n",
      "1         NaN        NaN  \n",
      "2         NaN        NaN  \n",
      "3         NaN        NaN  \n",
      "4         NaN        NaN  \n",
      "\n",
      "[5 rows x 40 columns]\n",
      "(482010, 40)\n"
     ]
    }
   ],
   "execution_count": 376
  },
  {
   "metadata": {
    "ExecuteTime": {
     "end_time": "2024-08-21T16:39:04.518594Z",
     "start_time": "2024-08-21T16:39:04.516554Z"
    }
   },
   "cell_type": "code",
   "source": [
    "print(train_y.head())\n",
    "print(train_y.shape)"
   ],
   "id": "780add8981ad9955",
   "outputs": [
    {
     "name": "stdout",
     "output_type": "stream",
     "text": [
      "   ID  Outcome\n",
      "0   2        0\n",
      "1   3        0\n",
      "2   5        1\n",
      "3   6        0\n",
      "4  13        0\n",
      "(12115, 2)\n"
     ]
    }
   ],
   "execution_count": 377
  },
  {
   "metadata": {
    "ExecuteTime": {
     "end_time": "2024-08-21T16:39:04.588794Z",
     "start_time": "2024-08-21T16:39:04.519688Z"
    }
   },
   "cell_type": "code",
   "source": [
    "empirical_mean = np.mean(train_x, axis=0)\n",
    "empirical_mean = empirical_mean[2:].to_numpy()\n",
    "empirical_mean_tensor = torch.tensor(empirical_mean, dtype=torch.float32)"
   ],
   "id": "9c5940ec23d0b8a6",
   "outputs": [],
   "execution_count": 378
  },
  {
   "metadata": {
    "ExecuteTime": {
     "end_time": "2024-08-21T16:39:04.596599Z",
     "start_time": "2024-08-21T16:39:04.589580Z"
    }
   },
   "cell_type": "code",
   "source": [
    "max_hours = train_x.groupby('ID')['Hour'].count().max()\n",
    "print(f'Maximum number of hours: {max_hours}')"
   ],
   "id": "48f42e6abd239289",
   "outputs": [
    {
     "name": "stdout",
     "output_type": "stream",
     "text": [
      "Maximum number of hours: 336\n"
     ]
    }
   ],
   "execution_count": 379
  },
  {
   "metadata": {
    "ExecuteTime": {
     "end_time": "2024-08-21T16:39:04.600830Z",
     "start_time": "2024-08-21T16:39:04.597260Z"
    }
   },
   "cell_type": "code",
   "source": [
    "# Get unique person IDs\n",
    "person_ids = train_x['ID'].unique()\n",
    "\n",
    "# Initialize tensors for features, masks, and time intervals\n",
    "num_persons = len(person_ids)\n",
    "num_features = train_x.shape[1] - 2  # excluding 'ID' and 'Hour' columns"
   ],
   "id": "64be0cb97c0c0bf3",
   "outputs": [],
   "execution_count": 380
  },
  {
   "metadata": {
    "ExecuteTime": {
     "end_time": "2024-08-21T16:39:04.603624Z",
     "start_time": "2024-08-21T16:39:04.601327Z"
    }
   },
   "cell_type": "code",
   "source": "person_ids",
   "id": "4a7175c1c823f814",
   "outputs": [
    {
     "data": {
      "text/plain": [
       "array([    2,     3,     5, ..., 21630, 21632, 21633])"
      ]
     },
     "execution_count": 381,
     "metadata": {},
     "output_type": "execute_result"
    }
   ],
   "execution_count": 381
  },
  {
   "metadata": {
    "ExecuteTime": {
     "end_time": "2024-08-21T16:39:04.614459Z",
     "start_time": "2024-08-21T16:39:04.604173Z"
    }
   },
   "cell_type": "code",
   "source": [
    "#Initialize tensors\n",
    "X_tensor = np.zeros((num_persons, max_hours, num_features))\n",
    "M_tensor = np.zeros((num_persons, max_hours, num_features))\n",
    "Delta_tensor = np.zeros((num_persons, max_hours, num_features))"
   ],
   "id": "845478173d527d86",
   "outputs": [],
   "execution_count": 382
  },
  {
   "metadata": {
    "ExecuteTime": {
     "end_time": "2024-08-21T16:39:17.379963Z",
     "start_time": "2024-08-21T16:39:04.615024Z"
    }
   },
   "cell_type": "code",
   "source": [
    "for i, person_id in enumerate(person_ids):\n",
    "    person_data = train_x[train_x['ID'] == person_id].sort_values('Hour')\n",
    "    hours = person_data['Hour'].values\n",
    "    features = person_data.drop(columns=['ID', 'Hour']).values\n",
    "    \n",
    "    # Fill X_tensor\n",
    "    X_tensor[i, :len(hours), :] = features\n",
    "    \n",
    "    # Fill M_tensor (masking)\n",
    "    M_tensor[i, :len(hours), :] = ~np.isnan(features)\n",
    "    \n",
    "    # Fill Delta_tensor (time intervals)\n",
    "    for t in range(1, len(hours)):\n",
    "        for f in range(num_features):\n",
    "            Delta_tensor[i, t, f] = (hours[t] - hours[t-1]) + Delta_tensor[i, t-1, f] * (1 - M_tensor[i, t-1, f])"
   ],
   "id": "bfd4c27fb4e6951a",
   "outputs": [],
   "execution_count": 383
  },
  {
   "metadata": {
    "ExecuteTime": {
     "end_time": "2024-08-21T16:39:17.384731Z",
     "start_time": "2024-08-21T16:39:17.382100Z"
    }
   },
   "cell_type": "code",
   "source": "X_tensor",
   "id": "cb9e167e59aed66a",
   "outputs": [
    {
     "data": {
      "text/plain": [
       "array([[[ 66.67,   1.  ,   0.  , ...,   8.15,    nan,    nan],\n",
       "        [ 66.67,   1.  ,   0.  , ...,   8.15,    nan,    nan],\n",
       "        [ 66.67,   1.  ,   0.  , ...,   8.15,    nan,    nan],\n",
       "        ...,\n",
       "        [  0.  ,   0.  ,   0.  , ...,   0.  ,   0.  ,   0.  ],\n",
       "        [  0.  ,   0.  ,   0.  , ...,   0.  ,   0.  ,   0.  ],\n",
       "        [  0.  ,   0.  ,   0.  , ...,   0.  ,   0.  ,   0.  ]],\n",
       "\n",
       "       [[ 79.74,   0.  ,   0.  , ...,   6.82, 267.01, 281.18],\n",
       "        [ 79.74,   0.  ,   0.  , ...,   6.82, 267.01, 281.18],\n",
       "        [ 79.74,   0.  ,   0.  , ...,   6.82, 267.01, 281.18],\n",
       "        ...,\n",
       "        [  0.  ,   0.  ,   0.  , ...,   0.  ,   0.  ,   0.  ],\n",
       "        [  0.  ,   0.  ,   0.  , ...,   0.  ,   0.  ,   0.  ],\n",
       "        [  0.  ,   0.  ,   0.  , ...,   0.  ,   0.  ,   0.  ]],\n",
       "\n",
       "       [[ 60.74,   1.  ,    nan, ...,  12.45,    nan,  84.77],\n",
       "        [ 60.74,   1.  ,    nan, ...,  12.45,    nan,  84.77],\n",
       "        [ 60.74,   1.  ,    nan, ...,  12.45,    nan,  84.77],\n",
       "        ...,\n",
       "        [  0.  ,   0.  ,   0.  , ...,   0.  ,   0.  ,   0.  ],\n",
       "        [  0.  ,   0.  ,   0.  , ...,   0.  ,   0.  ,   0.  ],\n",
       "        [  0.  ,   0.  ,   0.  , ...,   0.  ,   0.  ,   0.  ]],\n",
       "\n",
       "       ...,\n",
       "\n",
       "       [[ 65.41,   1.  ,   0.  , ...,  21.87,    nan, 303.89],\n",
       "        [ 65.41,   1.  ,   0.  , ...,  21.87,    nan, 303.89],\n",
       "        [ 65.41,   1.  ,   0.  , ...,  21.87,    nan, 303.89],\n",
       "        ...,\n",
       "        [  0.  ,   0.  ,   0.  , ...,   0.  ,   0.  ,   0.  ],\n",
       "        [  0.  ,   0.  ,   0.  , ...,   0.  ,   0.  ,   0.  ],\n",
       "        [  0.  ,   0.  ,   0.  , ...,   0.  ,   0.  ,   0.  ]],\n",
       "\n",
       "       [[ 58.61,   1.  ,    nan, ...,  45.9 ,    nan, 302.32],\n",
       "        [ 58.61,   1.  ,    nan, ...,  45.9 ,    nan, 302.32],\n",
       "        [ 58.61,   1.  ,    nan, ...,  45.9 ,    nan, 302.32],\n",
       "        ...,\n",
       "        [  0.  ,   0.  ,   0.  , ...,   0.  ,   0.  ,   0.  ],\n",
       "        [  0.  ,   0.  ,   0.  , ...,   0.  ,   0.  ,   0.  ],\n",
       "        [  0.  ,   0.  ,   0.  , ...,   0.  ,   0.  ,   0.  ]],\n",
       "\n",
       "       [[ 58.58,   1.  ,   1.  , ...,  17.02,    nan, 167.  ],\n",
       "        [ 58.58,   1.  ,   1.  , ...,  17.02,    nan, 167.  ],\n",
       "        [ 58.58,   1.  ,   1.  , ...,  17.02,    nan, 167.  ],\n",
       "        ...,\n",
       "        [  0.  ,   0.  ,   0.  , ...,   0.  ,   0.  ,   0.  ],\n",
       "        [  0.  ,   0.  ,   0.  , ...,   0.  ,   0.  ,   0.  ],\n",
       "        [  0.  ,   0.  ,   0.  , ...,   0.  ,   0.  ,   0.  ]]])"
      ]
     },
     "execution_count": 384,
     "metadata": {},
     "output_type": "execute_result"
    }
   ],
   "execution_count": 384
  },
  {
   "metadata": {
    "ExecuteTime": {
     "end_time": "2024-08-21T16:39:17.387804Z",
     "start_time": "2024-08-21T16:39:17.385227Z"
    }
   },
   "cell_type": "code",
   "source": "M_tensor",
   "id": "a9a26ac8cc092b93",
   "outputs": [
    {
     "data": {
      "text/plain": [
       "array([[[1., 1., 1., ..., 1., 0., 0.],\n",
       "        [1., 1., 1., ..., 1., 0., 0.],\n",
       "        [1., 1., 1., ..., 1., 0., 0.],\n",
       "        ...,\n",
       "        [0., 0., 0., ..., 0., 0., 0.],\n",
       "        [0., 0., 0., ..., 0., 0., 0.],\n",
       "        [0., 0., 0., ..., 0., 0., 0.]],\n",
       "\n",
       "       [[1., 1., 1., ..., 1., 1., 1.],\n",
       "        [1., 1., 1., ..., 1., 1., 1.],\n",
       "        [1., 1., 1., ..., 1., 1., 1.],\n",
       "        ...,\n",
       "        [0., 0., 0., ..., 0., 0., 0.],\n",
       "        [0., 0., 0., ..., 0., 0., 0.],\n",
       "        [0., 0., 0., ..., 0., 0., 0.]],\n",
       "\n",
       "       [[1., 1., 0., ..., 1., 0., 1.],\n",
       "        [1., 1., 0., ..., 1., 0., 1.],\n",
       "        [1., 1., 0., ..., 1., 0., 1.],\n",
       "        ...,\n",
       "        [0., 0., 0., ..., 0., 0., 0.],\n",
       "        [0., 0., 0., ..., 0., 0., 0.],\n",
       "        [0., 0., 0., ..., 0., 0., 0.]],\n",
       "\n",
       "       ...,\n",
       "\n",
       "       [[1., 1., 1., ..., 1., 0., 1.],\n",
       "        [1., 1., 1., ..., 1., 0., 1.],\n",
       "        [1., 1., 1., ..., 1., 0., 1.],\n",
       "        ...,\n",
       "        [0., 0., 0., ..., 0., 0., 0.],\n",
       "        [0., 0., 0., ..., 0., 0., 0.],\n",
       "        [0., 0., 0., ..., 0., 0., 0.]],\n",
       "\n",
       "       [[1., 1., 0., ..., 1., 0., 1.],\n",
       "        [1., 1., 0., ..., 1., 0., 1.],\n",
       "        [1., 1., 0., ..., 1., 0., 1.],\n",
       "        ...,\n",
       "        [0., 0., 0., ..., 0., 0., 0.],\n",
       "        [0., 0., 0., ..., 0., 0., 0.],\n",
       "        [0., 0., 0., ..., 0., 0., 0.]],\n",
       "\n",
       "       [[1., 1., 1., ..., 1., 0., 1.],\n",
       "        [1., 1., 1., ..., 1., 0., 1.],\n",
       "        [1., 1., 1., ..., 1., 0., 1.],\n",
       "        ...,\n",
       "        [0., 0., 0., ..., 0., 0., 0.],\n",
       "        [0., 0., 0., ..., 0., 0., 0.],\n",
       "        [0., 0., 0., ..., 0., 0., 0.]]])"
      ]
     },
     "execution_count": 385,
     "metadata": {},
     "output_type": "execute_result"
    }
   ],
   "execution_count": 385
  },
  {
   "metadata": {
    "ExecuteTime": {
     "end_time": "2024-08-21T16:39:17.391019Z",
     "start_time": "2024-08-21T16:39:17.388402Z"
    }
   },
   "cell_type": "code",
   "source": "Delta_tensor",
   "id": "55636ca501ff55ce",
   "outputs": [
    {
     "data": {
      "text/plain": [
       "array([[[0., 0., 0., ..., 0., 0., 0.],\n",
       "        [1., 1., 1., ..., 1., 1., 1.],\n",
       "        [1., 1., 1., ..., 1., 2., 2.],\n",
       "        ...,\n",
       "        [0., 0., 0., ..., 0., 0., 0.],\n",
       "        [0., 0., 0., ..., 0., 0., 0.],\n",
       "        [0., 0., 0., ..., 0., 0., 0.]],\n",
       "\n",
       "       [[0., 0., 0., ..., 0., 0., 0.],\n",
       "        [1., 1., 1., ..., 1., 1., 1.],\n",
       "        [1., 1., 1., ..., 1., 1., 1.],\n",
       "        ...,\n",
       "        [0., 0., 0., ..., 0., 0., 0.],\n",
       "        [0., 0., 0., ..., 0., 0., 0.],\n",
       "        [0., 0., 0., ..., 0., 0., 0.]],\n",
       "\n",
       "       [[0., 0., 0., ..., 0., 0., 0.],\n",
       "        [1., 1., 1., ..., 1., 1., 1.],\n",
       "        [1., 1., 2., ..., 1., 2., 1.],\n",
       "        ...,\n",
       "        [0., 0., 0., ..., 0., 0., 0.],\n",
       "        [0., 0., 0., ..., 0., 0., 0.],\n",
       "        [0., 0., 0., ..., 0., 0., 0.]],\n",
       "\n",
       "       ...,\n",
       "\n",
       "       [[0., 0., 0., ..., 0., 0., 0.],\n",
       "        [1., 1., 1., ..., 1., 1., 1.],\n",
       "        [1., 1., 1., ..., 1., 2., 1.],\n",
       "        ...,\n",
       "        [0., 0., 0., ..., 0., 0., 0.],\n",
       "        [0., 0., 0., ..., 0., 0., 0.],\n",
       "        [0., 0., 0., ..., 0., 0., 0.]],\n",
       "\n",
       "       [[0., 0., 0., ..., 0., 0., 0.],\n",
       "        [1., 1., 1., ..., 1., 1., 1.],\n",
       "        [1., 1., 2., ..., 1., 2., 1.],\n",
       "        ...,\n",
       "        [0., 0., 0., ..., 0., 0., 0.],\n",
       "        [0., 0., 0., ..., 0., 0., 0.],\n",
       "        [0., 0., 0., ..., 0., 0., 0.]],\n",
       "\n",
       "       [[0., 0., 0., ..., 0., 0., 0.],\n",
       "        [1., 1., 1., ..., 1., 1., 1.],\n",
       "        [1., 1., 1., ..., 1., 2., 1.],\n",
       "        ...,\n",
       "        [0., 0., 0., ..., 0., 0., 0.],\n",
       "        [0., 0., 0., ..., 0., 0., 0.],\n",
       "        [0., 0., 0., ..., 0., 0., 0.]]])"
      ]
     },
     "execution_count": 386,
     "metadata": {},
     "output_type": "execute_result"
    }
   ],
   "execution_count": 386
  },
  {
   "metadata": {
    "ExecuteTime": {
     "end_time": "2024-08-21T16:39:18.309535Z",
     "start_time": "2024-08-21T16:39:17.391427Z"
    }
   },
   "cell_type": "code",
   "source": [
    "# Replace NaNs with zeros in X_tensor (not necessary in M_tensor and Delta_tensor)\n",
    "X_tensor = np.nan_to_num(X_tensor)\n",
    "\n",
    "print(X_tensor.shape, M_tensor.shape, Delta_tensor.shape)"
   ],
   "id": "91fa8ed6cceb3e8c",
   "outputs": [
    {
     "name": "stdout",
     "output_type": "stream",
     "text": [
      "(12115, 336, 38) (12115, 336, 38) (12115, 336, 38)\n"
     ]
    }
   ],
   "execution_count": 387
  },
  {
   "metadata": {
    "ExecuteTime": {
     "end_time": "2024-08-21T16:39:19.094792Z",
     "start_time": "2024-08-21T16:39:18.310520Z"
    }
   },
   "cell_type": "code",
   "source": [
    "# Ensure train_y is aligned with X_tensor\n",
    "labels = np.zeros(len(person_ids))\n",
    "\n",
    "for i, person_id in enumerate(person_ids):\n",
    "    if person_id in train_y['ID'].values:\n",
    "        labels[i] = train_y[train_y['ID'] == person_id]['Outcome'].values[0]\n",
    "\n",
    "labels = labels.reshape(-1, 1)\n",
    "print(labels.shape)"
   ],
   "id": "41512dbd553e7a9c",
   "outputs": [
    {
     "name": "stdout",
     "output_type": "stream",
     "text": [
      "(12115, 1)\n"
     ]
    }
   ],
   "execution_count": 388
  },
  {
   "metadata": {
    "ExecuteTime": {
     "end_time": "2024-08-21T16:39:20.042192Z",
     "start_time": "2024-08-21T16:39:19.095389Z"
    }
   },
   "cell_type": "code",
   "source": [
    "# Split the data into training and test sets\n",
    "X_train, X_test, M_train, M_test, Delta_train, Delta_test, y_train, y_test = train_test_split(\n",
    "    X_tensor, M_tensor, Delta_tensor, labels, test_size=0.2, random_state=10\n",
    ")"
   ],
   "id": "aa7a4b86aa34fa65",
   "outputs": [],
   "execution_count": 389
  },
  {
   "metadata": {
    "ExecuteTime": {
     "end_time": "2024-08-21T16:39:20.048097Z",
     "start_time": "2024-08-21T16:39:20.043040Z"
    }
   },
   "cell_type": "code",
   "source": [
    "class GRUD(nn.Module):\n",
    "    def __init__(self, input_size, hidden_size, output_size, empirical_mean, dropout_rate=0.2):\n",
    "        super(GRUD, self).__init__()\n",
    "        self.input_size = input_size\n",
    "        self.hidden_size = hidden_size\n",
    "        self.output_size = output_size\n",
    "        \n",
    "        # Store the empirical mean\n",
    "        self.register_buffer('empirical_mean', empirical_mean)\n",
    "        \n",
    "        # GRU weights\n",
    "        self.W_r = nn.Linear(input_size, hidden_size, bias=True)\n",
    "        self.U_r = nn.Linear(hidden_size, hidden_size, bias=False)\n",
    "        self.V_r = nn.Linear(input_size, hidden_size, bias=False)\n",
    "        \n",
    "        self.W_z = nn.Linear(input_size, hidden_size, bias=True)\n",
    "        self.U_z = nn.Linear(hidden_size, hidden_size, bias=False)\n",
    "        self.V_z = nn.Linear(input_size, hidden_size, bias=False)\n",
    "        \n",
    "        self.W_new = nn.Linear(input_size, hidden_size, bias=True)\n",
    "        self.U_new = nn.Linear(hidden_size, hidden_size, bias=False)\n",
    "        self.V_new = nn.Linear(input_size, hidden_size, bias=False)\n",
    "        \n",
    "        # Decay parameters\n",
    "        self.gamma_x = nn.Linear(input_size, input_size)\n",
    "        self.gamma_h = nn.Linear(input_size, hidden_size)\n",
    "        \n",
    "        # Fully connected layer for output\n",
    "        self.fc = nn.Linear(hidden_size, output_size)\n",
    "        \n",
    "        # Dropout layer\n",
    "        #self.dropout = nn.Dropout(dropout_rate)\n",
    "\n",
    "        # Batch Normalization\n",
    "        #self.batch_norm = nn.BatchNorm1d(hidden_size)\n",
    "        \n",
    "    def forward(self, x, m, d, last_observed_x, h):\n",
    "        # Initialize the list to collect outputs\n",
    "        outputs = []\n",
    "        \n",
    "        # Loop over the time steps\n",
    "        for t in range(x.size(1)):  # Assuming x.shape = [batch_size, sequence_length, input_size]\n",
    "            # Select the time step `t`\n",
    "            x_t = x[:, t, :]\n",
    "            m_t = m[:, t, :]\n",
    "            d_t = d[:, t, :]\n",
    "\n",
    "            # Decay mechanism for inputs\n",
    "            gamma_x = torch.exp(-torch.max(self.gamma_x(d_t), torch.zeros_like(d_t)))\n",
    "\n",
    "            # Update last observed values\n",
    "            last_observed_x = m_t * x_t + (1 - m_t) * last_observed_x\n",
    "\n",
    "            # Compute x_hat as a weighted sum of the last observed value and the empirical mean\n",
    "            x_hat = m_t * x_t + (1 - m_t) * (gamma_x * last_observed_x + (1 - gamma_x) * self.empirical_mean)\n",
    "\n",
    "            # Decay mechanism for hidden state\n",
    "            gamma_h = torch.exp(-torch.max(self.gamma_h(d_t), torch.zeros_like(self.gamma_h(d_t))))\n",
    "            h_hat = gamma_h * h\n",
    "\n",
    "            # GRU gates\n",
    "            reset = torch.sigmoid(self.W_r(x_hat) + self.U_r(h_hat) + self.V_r(m_t))\n",
    "            update = torch.sigmoid(self.W_z(x_hat) + self.U_z(h_hat) + self.V_z(m_t))\n",
    "            h_tilt = torch.tanh(self.W_new(x_hat) + reset * self.U_new(h_hat) + self.V_new(m_t))\n",
    "\n",
    "            # Compute new hidden state\n",
    "            h = (1 - update) * h + update * h_tilt\n",
    "\n",
    "            # Apply Batch Normalization\n",
    "            #h = self.batch_norm(h)\n",
    "\n",
    "            # Apply Dropout\n",
    "            #h = self.dropout(h)\n",
    "\n",
    "            # Output layer\n",
    "            out = torch.sigmoid(self.fc(h))\n",
    "\n",
    "            # Collect the output for this time step\n",
    "            outputs.append(out)\n",
    "\n",
    "        # Stack all outputs along the time dimension\n",
    "        outputs = torch.stack(outputs, dim=1)  # Shape: [batch_size, sequence_length, output_size]\n",
    "\n",
    "        return outputs, h, last_observed_x"
   ],
   "id": "2bfb383c98669ac7",
   "outputs": [],
   "execution_count": 390
  },
  {
   "metadata": {
    "ExecuteTime": {
     "end_time": "2024-08-21T16:39:20.049989Z",
     "start_time": "2024-08-21T16:39:20.048620Z"
    }
   },
   "cell_type": "code",
   "source": [
    "# Hyperparameters\n",
    "input_size = 38  # The number of input features\n",
    "hidden_size = 128  # Size of the hidden state\n",
    "output_size = 1  # Size of the output\n",
    "num_epochs = 50\n",
    "batch_size = 16\n",
    "learning_rate = 0.0001"
   ],
   "id": "f4835b82f9e12bed",
   "outputs": [],
   "execution_count": 391
  },
  {
   "metadata": {
    "ExecuteTime": {
     "end_time": "2024-08-21T16:39:20.054207Z",
     "start_time": "2024-08-21T16:39:20.050616Z"
    }
   },
   "cell_type": "code",
   "source": [
    "# Initialize model, criterion, and optimizer\n",
    "model = GRUD(input_size, hidden_size, output_size, empirical_mean_tensor)\n",
    "criterion = torch.nn.BCELoss()\n",
    "optimizer = optim.Adam(model.parameters(), lr=learning_rate, weight_decay=0.001)"
   ],
   "id": "94b407c8c4e1cf0a",
   "outputs": [],
   "execution_count": 392
  },
  {
   "metadata": {
    "ExecuteTime": {
     "end_time": "2024-08-21T16:39:20.056783Z",
     "start_time": "2024-08-21T16:39:20.054732Z"
    }
   },
   "cell_type": "code",
   "source": "model.eval()",
   "id": "ca61b039764e29e8",
   "outputs": [
    {
     "data": {
      "text/plain": [
       "GRUD(\n",
       "  (W_r): Linear(in_features=38, out_features=128, bias=True)\n",
       "  (U_r): Linear(in_features=128, out_features=128, bias=False)\n",
       "  (V_r): Linear(in_features=38, out_features=128, bias=False)\n",
       "  (W_z): Linear(in_features=38, out_features=128, bias=True)\n",
       "  (U_z): Linear(in_features=128, out_features=128, bias=False)\n",
       "  (V_z): Linear(in_features=38, out_features=128, bias=False)\n",
       "  (W_new): Linear(in_features=38, out_features=128, bias=True)\n",
       "  (U_new): Linear(in_features=128, out_features=128, bias=False)\n",
       "  (V_new): Linear(in_features=38, out_features=128, bias=False)\n",
       "  (gamma_x): Linear(in_features=38, out_features=38, bias=True)\n",
       "  (gamma_h): Linear(in_features=38, out_features=128, bias=True)\n",
       "  (fc): Linear(in_features=128, out_features=1, bias=True)\n",
       ")"
      ]
     },
     "execution_count": 393,
     "metadata": {},
     "output_type": "execute_result"
    }
   ],
   "execution_count": 393
  },
  {
   "metadata": {
    "ExecuteTime": {
     "end_time": "2024-08-21T16:39:20.484696Z",
     "start_time": "2024-08-21T16:39:20.057264Z"
    }
   },
   "cell_type": "code",
   "source": [
    "# Create DataLoader\n",
    "train_dataset = TensorDataset(torch.tensor(X_tensor, dtype=torch.float32), \n",
    "                              torch.tensor(M_tensor, dtype=torch.float32), \n",
    "                              torch.tensor(Delta_tensor, dtype=torch.float32), \n",
    "                              torch.tensor(labels, dtype=torch.float32))\n",
    "\n",
    "train_loader = DataLoader(train_dataset, batch_size=batch_size, shuffle=True)"
   ],
   "id": "27811dae0ef273ee",
   "outputs": [],
   "execution_count": 394
  },
  {
   "metadata": {
    "ExecuteTime": {
     "end_time": "2024-08-21T16:39:20.490960Z",
     "start_time": "2024-08-21T16:39:20.486228Z"
    }
   },
   "cell_type": "code",
   "source": [
    "for batch in train_loader:\n",
    "    X_batch, M_batch, Delta_batch, labels_batch = batch\n",
    "    print(f'X_batch shape: {X_batch.shape}')\n",
    "    print(f'M_batch shape: {M_batch.shape}')\n",
    "    print(f'Delta_batch shape: {Delta_batch.shape}')\n",
    "    print(f'Labels_batch shape: {labels_batch.shape}')\n",
    "    break"
   ],
   "id": "74379dc3b08daf8c",
   "outputs": [
    {
     "name": "stdout",
     "output_type": "stream",
     "text": [
      "X_batch shape: torch.Size([16, 336, 38])\n",
      "M_batch shape: torch.Size([16, 336, 38])\n",
      "Delta_batch shape: torch.Size([16, 336, 38])\n",
      "Labels_batch shape: torch.Size([16, 1])\n"
     ]
    }
   ],
   "execution_count": 395
  },
  {
   "metadata": {
    "ExecuteTime": {
     "end_time": "2024-08-21T16:39:20.493859Z",
     "start_time": "2024-08-21T16:39:20.491674Z"
    }
   },
   "cell_type": "code",
   "source": [
    "# Move model to the appropriate device\n",
    "device = torch.device('cuda' if torch.cuda.is_available() else 'cpu')\n",
    "model = model.to(device)"
   ],
   "id": "2e58c0f22b9b3b9d",
   "outputs": [],
   "execution_count": 396
  },
  {
   "metadata": {
    "ExecuteTime": {
     "end_time": "2024-08-21T19:47:44.725870Z",
     "start_time": "2024-08-21T16:39:20.494346Z"
    }
   },
   "cell_type": "code",
   "source": [
    "# Training loop\n",
    "train_losses = []\n",
    "for epoch in range(num_epochs):\n",
    "    model.train()\n",
    "    total_loss = 0\n",
    "    for X_batch, M_batch, Delta_batch, y_batch in train_loader:\n",
    "        \n",
    "        # Initialize last observed x as the first observation\n",
    "        last_observed_x = X_batch[:, 0, :].clone()  # Shape: [batch_size, input_size]\n",
    "        \n",
    "        # Initialize hidden state\n",
    "        h = torch.zeros((X_batch.size(0), hidden_size)).to(X_batch.device)  # Shape: [batch_size, hidden_size]\n",
    "\n",
    "        optimizer.zero_grad()\n",
    "\n",
    "        # Forward pass through the entire sequence\n",
    "        outputs, h, last_observed_x = model(X_batch, M_batch, Delta_batch, last_observed_x, h)\n",
    "        \n",
    "        # Compute loss\n",
    "        # Assuming y_batch has shape [batch_size, output_size] and you want to compare it with the last output\n",
    "        loss = criterion(outputs[:, -1, :], y_batch)\n",
    "        \n",
    "        # Backward pass and optimization\n",
    "        loss.backward()\n",
    "        optimizer.step()\n",
    "        \n",
    "        total_loss += loss.item()\n",
    "    \n",
    "    avg_loss = total_loss / len(train_loader)\n",
    "    train_losses.append(avg_loss)\n",
    "    print(f'Epoch [{epoch+1}/{num_epochs}], Loss: {avg_loss:.4f}')"
   ],
   "id": "96364e38c7c235e2",
   "outputs": [
    {
     "name": "stdout",
     "output_type": "stream",
     "text": [
      "Epoch [1/50], Loss: 0.3856\n",
      "Epoch [2/50], Loss: 0.3567\n",
      "Epoch [3/50], Loss: 0.3452\n",
      "Epoch [4/50], Loss: 0.3343\n",
      "Epoch [5/50], Loss: 0.3266\n",
      "Epoch [6/50], Loss: 0.3209\n",
      "Epoch [7/50], Loss: 0.3156\n",
      "Epoch [8/50], Loss: 0.3107\n",
      "Epoch [9/50], Loss: 0.3068\n",
      "Epoch [10/50], Loss: 0.3030\n",
      "Epoch [11/50], Loss: 0.3004\n",
      "Epoch [12/50], Loss: 0.2964\n",
      "Epoch [13/50], Loss: 0.2922\n",
      "Epoch [14/50], Loss: 0.2898\n",
      "Epoch [15/50], Loss: 0.2855\n",
      "Epoch [16/50], Loss: 0.2824\n",
      "Epoch [17/50], Loss: 0.2788\n",
      "Epoch [18/50], Loss: 0.2762\n",
      "Epoch [19/50], Loss: 0.2730\n",
      "Epoch [20/50], Loss: 0.2717\n",
      "Epoch [21/50], Loss: 0.2687\n",
      "Epoch [22/50], Loss: 0.2650\n",
      "Epoch [23/50], Loss: 0.2632\n",
      "Epoch [24/50], Loss: 0.2598\n",
      "Epoch [25/50], Loss: 0.2578\n",
      "Epoch [26/50], Loss: 0.2546\n",
      "Epoch [27/50], Loss: 0.2523\n",
      "Epoch [28/50], Loss: 0.2504\n",
      "Epoch [29/50], Loss: 0.2477\n",
      "Epoch [30/50], Loss: 0.2453\n",
      "Epoch [31/50], Loss: 0.2433\n",
      "Epoch [32/50], Loss: 0.2404\n",
      "Epoch [33/50], Loss: 0.2376\n",
      "Epoch [34/50], Loss: 0.2360\n",
      "Epoch [35/50], Loss: 0.2348\n",
      "Epoch [36/50], Loss: 0.2319\n",
      "Epoch [37/50], Loss: 0.2297\n",
      "Epoch [38/50], Loss: 0.2287\n",
      "Epoch [39/50], Loss: 0.2261\n",
      "Epoch [40/50], Loss: 0.2239\n",
      "Epoch [41/50], Loss: 0.2233\n",
      "Epoch [42/50], Loss: 0.2202\n",
      "Epoch [43/50], Loss: 0.2175\n",
      "Epoch [44/50], Loss: 0.2156\n",
      "Epoch [45/50], Loss: 0.2138\n",
      "Epoch [46/50], Loss: 0.2120\n",
      "Epoch [47/50], Loss: 0.2105\n",
      "Epoch [48/50], Loss: 0.2075\n",
      "Epoch [49/50], Loss: 0.2050\n",
      "Epoch [50/50], Loss: 0.2036\n"
     ]
    }
   ],
   "execution_count": 397
  },
  {
   "metadata": {
    "ExecuteTime": {
     "end_time": "2024-08-21T19:47:44.908455Z",
     "start_time": "2024-08-21T19:47:44.728416Z"
    }
   },
   "cell_type": "code",
   "source": [
    "test_dataset = TensorDataset(torch.tensor(X_test, dtype=torch.float32), \n",
    "                             torch.tensor(M_test, dtype=torch.float32), \n",
    "                             torch.tensor(Delta_test, dtype=torch.float32), \n",
    "                             torch.tensor(y_test, dtype=torch.float32))\n",
    "test_loader = DataLoader(test_dataset, batch_size=batch_size, shuffle=False)"
   ],
   "id": "1822d98c66a5d08f",
   "outputs": [],
   "execution_count": 398
  },
  {
   "metadata": {
    "ExecuteTime": {
     "end_time": "2024-08-21T19:47:44.969877Z",
     "start_time": "2024-08-21T19:47:44.909253Z"
    }
   },
   "cell_type": "code",
   "source": [
    "# Plot the training loss\n",
    "plt.figure()\n",
    "plt.plot(train_losses, label='Training Loss')\n",
    "plt.xlabel('Epoch')\n",
    "plt.ylabel('Loss')\n",
    "plt.legend()\n",
    "plt.show()"
   ],
   "id": "5671b0e454bea215",
   "outputs": [
    {
     "data": {
      "text/plain": [
       "<Figure size 640x480 with 1 Axes>"
      ],
      "image/png": "[encoded data removed]"
     },
     "metadata": {},
     "output_type": "display_data"
    }
   ],
   "execution_count": 399
  },
  {
   "metadata": {
    "ExecuteTime": {
     "end_time": "2024-08-21T19:47:51.262632Z",
     "start_time": "2024-08-21T19:47:44.970895Z"
    }
   },
   "cell_type": "code",
   "source": [
    "# Evaluation on the test set\n",
    "total_correct = 0\n",
    "total_samples = 0\n",
    "all_predictions = []\n",
    "all_labels = []\n",
    "\n",
    "with torch.no_grad():\n",
    "    for X_batch, M_batch, Delta_batch, y_batch in test_loader:\n",
    "         # Initialize last observed x as the first observation\n",
    "        last_observed_x = X_batch[:, 0, :].clone()  # Shape: [batch_size, input_size]\n",
    "        \n",
    "        # Initialize hidden state\n",
    "        h = torch.zeros((X_batch.size(0), hidden_size)).to(X_batch.device)  # Shape: [batch_size, hidden_size]\n",
    "\n",
    "        optimizer.zero_grad()\n",
    "\n",
    "        # Forward pass through the entire sequence\n",
    "        output, h, last_observed_x = model(X_batch, M_batch, Delta_batch, last_observed_x, h)\n",
    "            \n",
    "        # Collect predictions and labels\n",
    "        all_predictions.append(output[:, -1, :].cpu().numpy())\n",
    "        all_labels.append(y_batch.cpu().numpy())\n",
    "        \n",
    "        # Convert output to binary prediction\n",
    "        predictions = (output[:, -1, :] >= 0.5).float()\n",
    "        total_correct += (predictions == y_batch).sum().item()\n",
    "        total_samples += y_batch.size(0)\n",
    "\n",
    "accuracy = total_correct / total_samples\n",
    "print(f'Accuracy: {accuracy:.4f}')"
   ],
   "id": "7a8447ec33081f51",
   "outputs": [
    {
     "name": "stdout",
     "output_type": "stream",
     "text": [
      "Accuracy: 0.9261\n"
     ]
    }
   ],
   "execution_count": 400
  },
  {
   "metadata": {
    "ExecuteTime": {
     "end_time": "2024-08-21T19:47:51.270481Z",
     "start_time": "2024-08-21T19:47:51.263287Z"
    }
   },
   "cell_type": "code",
   "source": [
    "# Compute AUC score\n",
    "all_predictions = np.concatenate(all_predictions)\n",
    "all_labels = np.concatenate(all_labels)\n",
    "\n",
    "auc = roc_auc_score(all_labels, all_predictions)\n",
    "print(f'AUC: {auc:.4f}')"
   ],
   "id": "b02d0a9f9dff54b3",
   "outputs": [
    {
     "name": "stdout",
     "output_type": "stream",
     "text": [
      "AUC: 0.9287\n"
     ]
    }
   ],
   "execution_count": 401
  }
 ],
 "metadata": {
  "kernelspec": {
   "display_name": "Python 3",
   "language": "python",
   "name": "python3"
  },
  "language_info": {
   "codemirror_mode": {
    "name": "ipython",
    "version": 2
   },
   "file_extension": ".py",
   "mimetype": "text/x-python",
   "name": "python",
   "nbconvert_exporter": "python",
   "pygments_lexer": "ipython2",
   "version": "2.7.6"
  }
 },
 "nbformat": 4,
 "nbformat_minor": 5
}
