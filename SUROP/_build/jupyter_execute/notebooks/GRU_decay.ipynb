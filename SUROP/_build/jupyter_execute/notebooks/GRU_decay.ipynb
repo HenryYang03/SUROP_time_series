{
 "cells": [
  {
   "cell_type": "markdown",
   "id": "a51119d7382670f1",
   "metadata": {},
   "source": [
    "# GRU Model with Decay Mechanism"
   ]
  },
  {
   "cell_type": "code",
   "execution_count": 1,
   "id": "initial_id",
   "metadata": {
    "ExecuteTime": {
     "end_time": "2024-08-21T23:40:30.615001Z",
     "start_time": "2024-08-21T23:40:28.960959Z"
    },
    "collapsed": true
   },
   "outputs": [],
   "source": [
    "import pandas as pd\n",
    "import numpy as np\n",
    "import torch\n",
    "import torch.nn as nn\n",
    "import torch.optim as optim\n",
    "from torch.utils.data import DataLoader, TensorDataset\n",
    "from sklearn.model_selection import train_test_split\n",
    "import matplotlib.pyplot as plt\n",
    "from sklearn.metrics import roc_auc_score"
   ]
  },
  {
   "cell_type": "code",
   "execution_count": 2,
   "id": "11206d8a00b7cdcc",
   "metadata": {
    "ExecuteTime": {
     "end_time": "2024-08-21T23:40:31.219903Z",
     "start_time": "2024-08-21T23:40:30.615851Z"
    }
   },
   "outputs": [],
   "source": [
    "# Load the dataset\n",
    "train_x = pd.read_csv('/Users/mohanyang/Documents/GitHub/SUROP_time_series/SUROP/data/train_x.csv')\n",
    "train_y = pd.read_csv('/Users/mohanyang/Documents/GitHub/SUROP_time_series/SUROP/data/train_y.csv')\n",
    "test_x = pd.read_csv('/Users/mohanyang/Documents/GitHub/SUROP_time_series/SUROP/data/test_x.csv')"
   ]
  },
  {
   "cell_type": "code",
   "execution_count": 3,
   "id": "8848f19ab8badcaf",
   "metadata": {
    "ExecuteTime": {
     "end_time": "2024-08-21T23:40:31.225941Z",
     "start_time": "2024-08-21T23:40:31.220795Z"
    }
   },
   "outputs": [
    {
     "name": "stdout",
     "output_type": "stream",
     "text": [
      "   Hour  ID    Age  Gender  Unit1  Unit2     HR   O2Sat   Temp     SBP  ...  \\\n",
      "0     1   2  66.67     1.0    0.0    1.0  74.78  100.06  35.61  121.68  ...   \n",
      "1     2   2  66.67     1.0    0.0    1.0  74.78  100.06  35.61  121.68  ...   \n",
      "2     3   2  66.67     1.0    0.0    1.0  74.78  100.06  35.61  121.68  ...   \n",
      "3     4   2  66.67     1.0    0.0    1.0  74.78  100.06  35.61  121.68  ...   \n",
      "4     5   2  66.67     1.0    0.0    1.0  84.42   99.58  35.61  114.60  ...   \n",
      "\n",
      "   Phosphate  Potassium  Bilirubin_total  TroponinI    Hct   Hgb  PTT   WBC  \\\n",
      "0        NaN       4.48              NaN        NaN  28.83  9.21  NaN  8.15   \n",
      "1        NaN       4.48              NaN        NaN  28.83  9.21  NaN  8.15   \n",
      "2        NaN       4.48              NaN        NaN  28.83  9.21  NaN  8.15   \n",
      "3        NaN       4.48              NaN        NaN  28.83  9.21  NaN  8.15   \n",
      "4        NaN       4.48              NaN        NaN  28.83  9.21  NaN  8.15   \n",
      "\n",
      "   Fibrinogen  Platelets  \n",
      "0         NaN        NaN  \n",
      "1         NaN        NaN  \n",
      "2         NaN        NaN  \n",
      "3         NaN        NaN  \n",
      "4         NaN        NaN  \n",
      "\n",
      "[5 rows x 40 columns]\n",
      "(482010, 40)\n"
     ]
    }
   ],
   "source": [
    "# Display the first few rows\n",
    "print(train_x.head())\n",
    "print(train_x.shape)"
   ]
  },
  {
   "cell_type": "code",
   "execution_count": 4,
   "id": "780add8981ad9955",
   "metadata": {
    "ExecuteTime": {
     "end_time": "2024-08-21T23:40:31.228438Z",
     "start_time": "2024-08-21T23:40:31.226537Z"
    }
   },
   "outputs": [
    {
     "name": "stdout",
     "output_type": "stream",
     "text": [
      "   ID  Outcome\n",
      "0   2        0\n",
      "1   3        0\n",
      "2   5        1\n",
      "3   6        0\n",
      "4  13        0\n",
      "(12115, 2)\n"
     ]
    }
   ],
   "source": [
    "print(train_y.head())\n",
    "print(train_y.shape)"
   ]
  },
  {
   "cell_type": "code",
   "execution_count": 5,
   "id": "9c5940ec23d0b8a6",
   "metadata": {
    "ExecuteTime": {
     "end_time": "2024-08-21T23:40:31.289032Z",
     "start_time": "2024-08-21T23:40:31.229814Z"
    }
   },
   "outputs": [],
   "source": [
    "empirical_mean = np.mean(train_x, axis=0)\n",
    "empirical_mean = empirical_mean[2:].to_numpy()\n",
    "empirical_mean_tensor = torch.tensor(empirical_mean, dtype=torch.float32)"
   ]
  },
  {
   "cell_type": "code",
   "execution_count": 6,
   "id": "48f42e6abd239289",
   "metadata": {
    "ExecuteTime": {
     "end_time": "2024-08-21T23:40:31.296610Z",
     "start_time": "2024-08-21T23:40:31.289542Z"
    }
   },
   "outputs": [
    {
     "name": "stdout",
     "output_type": "stream",
     "text": [
      "Maximum number of hours: 336\n"
     ]
    }
   ],
   "source": [
    "max_hours = train_x.groupby('ID')['Hour'].count().max()\n",
    "print(f'Maximum number of hours: {max_hours}')"
   ]
  },
  {
   "cell_type": "code",
   "execution_count": 7,
   "id": "64be0cb97c0c0bf3",
   "metadata": {
    "ExecuteTime": {
     "end_time": "2024-08-21T23:40:31.300817Z",
     "start_time": "2024-08-21T23:40:31.297322Z"
    }
   },
   "outputs": [],
   "source": [
    "# Get unique person IDs\n",
    "person_ids = train_x['ID'].unique()\n",
    "\n",
    "# Initialize tensors for features, masks, and time intervals\n",
    "num_persons = len(person_ids)\n",
    "num_features = train_x.shape[1] - 2  # excluding 'ID' and 'Hour' columns"
   ]
  },
  {
   "cell_type": "code",
   "execution_count": 8,
   "id": "4a7175c1c823f814",
   "metadata": {
    "ExecuteTime": {
     "end_time": "2024-08-21T23:40:31.305026Z",
     "start_time": "2024-08-21T23:40:31.301795Z"
    }
   },
   "outputs": [
    {
     "data": {
      "text/plain": [
       "array([    2,     3,     5, ..., 21630, 21632, 21633])"
      ]
     },
     "execution_count": 8,
     "metadata": {},
     "output_type": "execute_result"
    }
   ],
   "source": [
    "person_ids"
   ]
  },
  {
   "cell_type": "code",
   "execution_count": 9,
   "id": "845478173d527d86",
   "metadata": {
    "ExecuteTime": {
     "end_time": "2024-08-21T23:40:31.307367Z",
     "start_time": "2024-08-21T23:40:31.305610Z"
    }
   },
   "outputs": [],
   "source": [
    "#Initialize tensors\n",
    "X_tensor = np.zeros((num_persons, max_hours, num_features))\n",
    "M_tensor = np.zeros((num_persons, max_hours, num_features))\n",
    "Delta_tensor = np.zeros((num_persons, max_hours, num_features))"
   ]
  },
  {
   "cell_type": "code",
   "execution_count": 10,
   "id": "bfd4c27fb4e6951a",
   "metadata": {
    "ExecuteTime": {
     "end_time": "2024-08-21T23:40:47.474850Z",
     "start_time": "2024-08-21T23:40:31.307959Z"
    }
   },
   "outputs": [],
   "source": [
    "for i, person_id in enumerate(person_ids):\n",
    "    person_data = train_x[train_x['ID'] == person_id].sort_values('Hour')\n",
    "    hours = person_data['Hour'].values\n",
    "    features = person_data.drop(columns=['ID', 'Hour']).values\n",
    "    \n",
    "    # Fill X_tensor\n",
    "    X_tensor[i, :len(hours), :] = features\n",
    "    \n",
    "    # Fill M_tensor (masking)\n",
    "    M_tensor[i, :len(hours), :] = ~np.isnan(features)\n",
    "    \n",
    "    # Fill Delta_tensor (time intervals)\n",
    "    for t in range(1, len(hours)):\n",
    "        for f in range(num_features):\n",
    "            Delta_tensor[i, t, f] = (hours[t] - hours[t-1]) + Delta_tensor[i, t-1, f] * (1 - M_tensor[i, t-1, f])"
   ]
  },
  {
   "cell_type": "code",
   "execution_count": 11,
   "id": "cb9e167e59aed66a",
   "metadata": {
    "ExecuteTime": {
     "end_time": "2024-08-21T23:40:47.481029Z",
     "start_time": "2024-08-21T23:40:47.476664Z"
    }
   },
   "outputs": [
    {
     "data": {
      "text/plain": [
       "array([[[ 66.67,   1.  ,   0.  , ...,   8.15,    nan,    nan],\n",
       "        [ 66.67,   1.  ,   0.  , ...,   8.15,    nan,    nan],\n",
       "        [ 66.67,   1.  ,   0.  , ...,   8.15,    nan,    nan],\n",
       "        ...,\n",
       "        [  0.  ,   0.  ,   0.  , ...,   0.  ,   0.  ,   0.  ],\n",
       "        [  0.  ,   0.  ,   0.  , ...,   0.  ,   0.  ,   0.  ],\n",
       "        [  0.  ,   0.  ,   0.  , ...,   0.  ,   0.  ,   0.  ]],\n",
       "\n",
       "       [[ 79.74,   0.  ,   0.  , ...,   6.82, 267.01, 281.18],\n",
       "        [ 79.74,   0.  ,   0.  , ...,   6.82, 267.01, 281.18],\n",
       "        [ 79.74,   0.  ,   0.  , ...,   6.82, 267.01, 281.18],\n",
       "        ...,\n",
       "        [  0.  ,   0.  ,   0.  , ...,   0.  ,   0.  ,   0.  ],\n",
       "        [  0.  ,   0.  ,   0.  , ...,   0.  ,   0.  ,   0.  ],\n",
       "        [  0.  ,   0.  ,   0.  , ...,   0.  ,   0.  ,   0.  ]],\n",
       "\n",
       "       [[ 60.74,   1.  ,    nan, ...,  12.45,    nan,  84.77],\n",
       "        [ 60.74,   1.  ,    nan, ...,  12.45,    nan,  84.77],\n",
       "        [ 60.74,   1.  ,    nan, ...,  12.45,    nan,  84.77],\n",
       "        ...,\n",
       "        [  0.  ,   0.  ,   0.  , ...,   0.  ,   0.  ,   0.  ],\n",
       "        [  0.  ,   0.  ,   0.  , ...,   0.  ,   0.  ,   0.  ],\n",
       "        [  0.  ,   0.  ,   0.  , ...,   0.  ,   0.  ,   0.  ]],\n",
       "\n",
       "       ...,\n",
       "\n",
       "       [[ 65.41,   1.  ,   0.  , ...,  21.87,    nan, 303.89],\n",
       "        [ 65.41,   1.  ,   0.  , ...,  21.87,    nan, 303.89],\n",
       "        [ 65.41,   1.  ,   0.  , ...,  21.87,    nan, 303.89],\n",
       "        ...,\n",
       "        [  0.  ,   0.  ,   0.  , ...,   0.  ,   0.  ,   0.  ],\n",
       "        [  0.  ,   0.  ,   0.  , ...,   0.  ,   0.  ,   0.  ],\n",
       "        [  0.  ,   0.  ,   0.  , ...,   0.  ,   0.  ,   0.  ]],\n",
       "\n",
       "       [[ 58.61,   1.  ,    nan, ...,  45.9 ,    nan, 302.32],\n",
       "        [ 58.61,   1.  ,    nan, ...,  45.9 ,    nan, 302.32],\n",
       "        [ 58.61,   1.  ,    nan, ...,  45.9 ,    nan, 302.32],\n",
       "        ...,\n",
       "        [  0.  ,   0.  ,   0.  , ...,   0.  ,   0.  ,   0.  ],\n",
       "        [  0.  ,   0.  ,   0.  , ...,   0.  ,   0.  ,   0.  ],\n",
       "        [  0.  ,   0.  ,   0.  , ...,   0.  ,   0.  ,   0.  ]],\n",
       "\n",
       "       [[ 58.58,   1.  ,   1.  , ...,  17.02,    nan, 167.  ],\n",
       "        [ 58.58,   1.  ,   1.  , ...,  17.02,    nan, 167.  ],\n",
       "        [ 58.58,   1.  ,   1.  , ...,  17.02,    nan, 167.  ],\n",
       "        ...,\n",
       "        [  0.  ,   0.  ,   0.  , ...,   0.  ,   0.  ,   0.  ],\n",
       "        [  0.  ,   0.  ,   0.  , ...,   0.  ,   0.  ,   0.  ],\n",
       "        [  0.  ,   0.  ,   0.  , ...,   0.  ,   0.  ,   0.  ]]])"
      ]
     },
     "execution_count": 11,
     "metadata": {},
     "output_type": "execute_result"
    }
   ],
   "source": [
    "X_tensor"
   ]
  },
  {
   "cell_type": "code",
   "execution_count": 12,
   "id": "a9a26ac8cc092b93",
   "metadata": {
    "ExecuteTime": {
     "end_time": "2024-08-21T23:40:47.484639Z",
     "start_time": "2024-08-21T23:40:47.481695Z"
    }
   },
   "outputs": [
    {
     "data": {
      "text/plain": [
       "array([[[1., 1., 1., ..., 1., 0., 0.],\n",
       "        [1., 1., 1., ..., 1., 0., 0.],\n",
       "        [1., 1., 1., ..., 1., 0., 0.],\n",
       "        ...,\n",
       "        [0., 0., 0., ..., 0., 0., 0.],\n",
       "        [0., 0., 0., ..., 0., 0., 0.],\n",
       "        [0., 0., 0., ..., 0., 0., 0.]],\n",
       "\n",
       "       [[1., 1., 1., ..., 1., 1., 1.],\n",
       "        [1., 1., 1., ..., 1., 1., 1.],\n",
       "        [1., 1., 1., ..., 1., 1., 1.],\n",
       "        ...,\n",
       "        [0., 0., 0., ..., 0., 0., 0.],\n",
       "        [0., 0., 0., ..., 0., 0., 0.],\n",
       "        [0., 0., 0., ..., 0., 0., 0.]],\n",
       "\n",
       "       [[1., 1., 0., ..., 1., 0., 1.],\n",
       "        [1., 1., 0., ..., 1., 0., 1.],\n",
       "        [1., 1., 0., ..., 1., 0., 1.],\n",
       "        ...,\n",
       "        [0., 0., 0., ..., 0., 0., 0.],\n",
       "        [0., 0., 0., ..., 0., 0., 0.],\n",
       "        [0., 0., 0., ..., 0., 0., 0.]],\n",
       "\n",
       "       ...,\n",
       "\n",
       "       [[1., 1., 1., ..., 1., 0., 1.],\n",
       "        [1., 1., 1., ..., 1., 0., 1.],\n",
       "        [1., 1., 1., ..., 1., 0., 1.],\n",
       "        ...,\n",
       "        [0., 0., 0., ..., 0., 0., 0.],\n",
       "        [0., 0., 0., ..., 0., 0., 0.],\n",
       "        [0., 0., 0., ..., 0., 0., 0.]],\n",
       "\n",
       "       [[1., 1., 0., ..., 1., 0., 1.],\n",
       "        [1., 1., 0., ..., 1., 0., 1.],\n",
       "        [1., 1., 0., ..., 1., 0., 1.],\n",
       "        ...,\n",
       "        [0., 0., 0., ..., 0., 0., 0.],\n",
       "        [0., 0., 0., ..., 0., 0., 0.],\n",
       "        [0., 0., 0., ..., 0., 0., 0.]],\n",
       "\n",
       "       [[1., 1., 1., ..., 1., 0., 1.],\n",
       "        [1., 1., 1., ..., 1., 0., 1.],\n",
       "        [1., 1., 1., ..., 1., 0., 1.],\n",
       "        ...,\n",
       "        [0., 0., 0., ..., 0., 0., 0.],\n",
       "        [0., 0., 0., ..., 0., 0., 0.],\n",
       "        [0., 0., 0., ..., 0., 0., 0.]]])"
      ]
     },
     "execution_count": 12,
     "metadata": {},
     "output_type": "execute_result"
    }
   ],
   "source": [
    "M_tensor"
   ]
  },
  {
   "cell_type": "code",
   "execution_count": 13,
   "id": "55636ca501ff55ce",
   "metadata": {
    "ExecuteTime": {
     "end_time": "2024-08-21T23:40:47.488333Z",
     "start_time": "2024-08-21T23:40:47.485195Z"
    }
   },
   "outputs": [
    {
     "data": {
      "text/plain": [
       "array([[[0., 0., 0., ..., 0., 0., 0.],\n",
       "        [1., 1., 1., ..., 1., 1., 1.],\n",
       "        [1., 1., 1., ..., 1., 2., 2.],\n",
       "        ...,\n",
       "        [0., 0., 0., ..., 0., 0., 0.],\n",
       "        [0., 0., 0., ..., 0., 0., 0.],\n",
       "        [0., 0., 0., ..., 0., 0., 0.]],\n",
       "\n",
       "       [[0., 0., 0., ..., 0., 0., 0.],\n",
       "        [1., 1., 1., ..., 1., 1., 1.],\n",
       "        [1., 1., 1., ..., 1., 1., 1.],\n",
       "        ...,\n",
       "        [0., 0., 0., ..., 0., 0., 0.],\n",
       "        [0., 0., 0., ..., 0., 0., 0.],\n",
       "        [0., 0., 0., ..., 0., 0., 0.]],\n",
       "\n",
       "       [[0., 0., 0., ..., 0., 0., 0.],\n",
       "        [1., 1., 1., ..., 1., 1., 1.],\n",
       "        [1., 1., 2., ..., 1., 2., 1.],\n",
       "        ...,\n",
       "        [0., 0., 0., ..., 0., 0., 0.],\n",
       "        [0., 0., 0., ..., 0., 0., 0.],\n",
       "        [0., 0., 0., ..., 0., 0., 0.]],\n",
       "\n",
       "       ...,\n",
       "\n",
       "       [[0., 0., 0., ..., 0., 0., 0.],\n",
       "        [1., 1., 1., ..., 1., 1., 1.],\n",
       "        [1., 1., 1., ..., 1., 2., 1.],\n",
       "        ...,\n",
       "        [0., 0., 0., ..., 0., 0., 0.],\n",
       "        [0., 0., 0., ..., 0., 0., 0.],\n",
       "        [0., 0., 0., ..., 0., 0., 0.]],\n",
       "\n",
       "       [[0., 0., 0., ..., 0., 0., 0.],\n",
       "        [1., 1., 1., ..., 1., 1., 1.],\n",
       "        [1., 1., 2., ..., 1., 2., 1.],\n",
       "        ...,\n",
       "        [0., 0., 0., ..., 0., 0., 0.],\n",
       "        [0., 0., 0., ..., 0., 0., 0.],\n",
       "        [0., 0., 0., ..., 0., 0., 0.]],\n",
       "\n",
       "       [[0., 0., 0., ..., 0., 0., 0.],\n",
       "        [1., 1., 1., ..., 1., 1., 1.],\n",
       "        [1., 1., 1., ..., 1., 2., 1.],\n",
       "        ...,\n",
       "        [0., 0., 0., ..., 0., 0., 0.],\n",
       "        [0., 0., 0., ..., 0., 0., 0.],\n",
       "        [0., 0., 0., ..., 0., 0., 0.]]])"
      ]
     },
     "execution_count": 13,
     "metadata": {},
     "output_type": "execute_result"
    }
   ],
   "source": [
    "Delta_tensor"
   ]
  },
  {
   "cell_type": "code",
   "execution_count": 14,
   "id": "91fa8ed6cceb3e8c",
   "metadata": {
    "ExecuteTime": {
     "end_time": "2024-08-21T23:40:48.609076Z",
     "start_time": "2024-08-21T23:40:47.491215Z"
    }
   },
   "outputs": [
    {
     "name": "stdout",
     "output_type": "stream",
     "text": [
      "(12115, 336, 38) (12115, 336, 38) (12115, 336, 38)\n"
     ]
    }
   ],
   "source": [
    "# Replace NaNs with zeros in X_tensor (not necessary in M_tensor and Delta_tensor)\n",
    "X_tensor = np.nan_to_num(X_tensor)\n",
    "\n",
    "print(X_tensor.shape, M_tensor.shape, Delta_tensor.shape)"
   ]
  },
  {
   "cell_type": "code",
   "execution_count": 15,
   "id": "41512dbd553e7a9c",
   "metadata": {
    "ExecuteTime": {
     "end_time": "2024-08-21T23:40:49.554102Z",
     "start_time": "2024-08-21T23:40:48.610096Z"
    }
   },
   "outputs": [
    {
     "name": "stdout",
     "output_type": "stream",
     "text": [
      "(12115, 1)\n"
     ]
    }
   ],
   "source": [
    "# Ensure train_y is aligned with X_tensor\n",
    "labels = np.zeros(len(person_ids))\n",
    "\n",
    "for i, person_id in enumerate(person_ids):\n",
    "    if person_id in train_y['ID'].values:\n",
    "        labels[i] = train_y[train_y['ID'] == person_id]['Outcome'].values[0]\n",
    "\n",
    "labels = labels.reshape(-1, 1)\n",
    "print(labels.shape)"
   ]
  },
  {
   "cell_type": "code",
   "execution_count": 16,
   "id": "aa7a4b86aa34fa65",
   "metadata": {
    "ExecuteTime": {
     "end_time": "2024-08-21T23:40:50.564468Z",
     "start_time": "2024-08-21T23:40:49.555058Z"
    }
   },
   "outputs": [],
   "source": [
    "# Split the data into training and test sets\n",
    "X_train, X_test, M_train, M_test, Delta_train, Delta_test, y_train, y_test = train_test_split(\n",
    "    X_tensor, M_tensor, Delta_tensor, labels, test_size=0.2, random_state=10\n",
    ")"
   ]
  },
  {
   "cell_type": "code",
   "execution_count": 17,
   "id": "2bfb383c98669ac7",
   "metadata": {
    "ExecuteTime": {
     "end_time": "2024-08-21T23:40:50.572158Z",
     "start_time": "2024-08-21T23:40:50.566140Z"
    }
   },
   "outputs": [],
   "source": [
    "class GRUD(nn.Module):\n",
    "    def __init__(self, input_size, hidden_size, output_size, empirical_mean, dropout_rate=0.2):\n",
    "        super(GRUD, self).__init__()\n",
    "        self.input_size = input_size\n",
    "        self.hidden_size = hidden_size\n",
    "        self.output_size = output_size\n",
    "        \n",
    "        # Store the empirical mean\n",
    "        self.register_buffer('empirical_mean', empirical_mean)\n",
    "        \n",
    "        # GRU weights\n",
    "        self.W_r = nn.Linear(input_size, hidden_size, bias=True)\n",
    "        self.U_r = nn.Linear(hidden_size, hidden_size, bias=False)\n",
    "        self.V_r = nn.Linear(input_size, hidden_size, bias=False)\n",
    "        \n",
    "        self.W_z = nn.Linear(input_size, hidden_size, bias=True)\n",
    "        self.U_z = nn.Linear(hidden_size, hidden_size, bias=False)\n",
    "        self.V_z = nn.Linear(input_size, hidden_size, bias=False)\n",
    "        \n",
    "        self.W_new = nn.Linear(input_size, hidden_size, bias=True)\n",
    "        self.U_new = nn.Linear(hidden_size, hidden_size, bias=False)\n",
    "        self.V_new = nn.Linear(input_size, hidden_size, bias=False)\n",
    "        \n",
    "        # Decay parameters\n",
    "        self.gamma_x = nn.Linear(input_size, input_size)\n",
    "        self.gamma_h = nn.Linear(input_size, hidden_size)\n",
    "        \n",
    "        # Fully connected layer for output\n",
    "        self.fc = nn.Linear(hidden_size, output_size)\n",
    "        \n",
    "        # Dropout layer\n",
    "        #self.dropout = nn.Dropout(dropout_rate)\n",
    "\n",
    "        # Batch Normalization\n",
    "        #self.batch_norm = nn.BatchNorm1d(hidden_size)\n",
    "        \n",
    "    def forward(self, x, m, d, last_observed_x, h):\n",
    "        # Initialize the list to collect outputs\n",
    "        outputs = []\n",
    "        \n",
    "        # Loop over the time steps\n",
    "        for t in range(x.size(1)):  # Assuming x.shape = [batch_size, sequence_length, input_size]\n",
    "            # Select the time step `t`\n",
    "            x_t = x[:, t, :]\n",
    "            m_t = m[:, t, :]\n",
    "            d_t = d[:, t, :]\n",
    "\n",
    "            # Decay mechanism for inputs\n",
    "            gamma_x = torch.exp(-torch.max(self.gamma_x(d_t), torch.zeros_like(d_t)))\n",
    "\n",
    "            # Update last observed values\n",
    "            last_observed_x = m_t * x_t + (1 - m_t) * last_observed_x\n",
    "\n",
    "            # Compute x_hat as a weighted sum of the last observed value and the empirical mean\n",
    "            x_hat = m_t * x_t + (1 - m_t) * (gamma_x * last_observed_x + (1 - gamma_x) * self.empirical_mean)\n",
    "\n",
    "            # Decay mechanism for hidden state\n",
    "            gamma_h = torch.exp(-torch.max(self.gamma_h(d_t), torch.zeros_like(self.gamma_h(d_t))))\n",
    "            h_hat = gamma_h * h\n",
    "\n",
    "            # GRU gates\n",
    "            reset = torch.sigmoid(self.W_r(x_hat) + self.U_r(h_hat) + self.V_r(m_t))\n",
    "            update = torch.sigmoid(self.W_z(x_hat) + self.U_z(h_hat) + self.V_z(m_t))\n",
    "            h_tilt = torch.tanh(self.W_new(x_hat) + reset * self.U_new(h_hat) + self.V_new(m_t))\n",
    "\n",
    "            # Compute new hidden state\n",
    "            h = (1 - update) * h + update * h_tilt\n",
    "\n",
    "            # Output layer\n",
    "            out = torch.sigmoid(self.fc(h))\n",
    "\n",
    "            # Collect the output for this time step\n",
    "            outputs.append(out)\n",
    "\n",
    "        # Stack all outputs along the time dimension\n",
    "        outputs = torch.stack(outputs, dim=1)  # Shape: [batch_size, sequence_length, output_size]\n",
    "\n",
    "        return outputs, h, last_observed_x"
   ]
  },
  {
   "cell_type": "code",
   "execution_count": 18,
   "id": "f4835b82f9e12bed",
   "metadata": {
    "ExecuteTime": {
     "end_time": "2024-08-21T23:40:50.575026Z",
     "start_time": "2024-08-21T23:40:50.572892Z"
    }
   },
   "outputs": [],
   "source": [
    "# Hyperparameters\n",
    "input_size = 38  # The number of input features\n",
    "hidden_size = 128  # Size of the hidden state\n",
    "output_size = 1  # Size of the output\n",
    "num_epochs = 50\n",
    "batch_size = 16\n",
    "learning_rate = 0.0001"
   ]
  },
  {
   "cell_type": "code",
   "execution_count": 19,
   "id": "94b407c8c4e1cf0a",
   "metadata": {
    "ExecuteTime": {
     "end_time": "2024-08-21T23:40:51.071561Z",
     "start_time": "2024-08-21T23:40:50.575722Z"
    }
   },
   "outputs": [],
   "source": [
    "# Initialize model, criterion, and optimizer\n",
    "model = GRUD(input_size, hidden_size, output_size, empirical_mean_tensor)\n",
    "criterion = torch.nn.BCELoss()\n",
    "optimizer = optim.Adam(model.parameters(), lr=learning_rate, weight_decay=0.001)"
   ]
  },
  {
   "cell_type": "code",
   "execution_count": 20,
   "id": "ca61b039764e29e8",
   "metadata": {
    "ExecuteTime": {
     "end_time": "2024-08-21T23:40:51.075227Z",
     "start_time": "2024-08-21T23:40:51.072410Z"
    }
   },
   "outputs": [
    {
     "data": {
      "text/plain": [
       "GRUD(\n",
       "  (W_r): Linear(in_features=38, out_features=128, bias=True)\n",
       "  (U_r): Linear(in_features=128, out_features=128, bias=False)\n",
       "  (V_r): Linear(in_features=38, out_features=128, bias=False)\n",
       "  (W_z): Linear(in_features=38, out_features=128, bias=True)\n",
       "  (U_z): Linear(in_features=128, out_features=128, bias=False)\n",
       "  (V_z): Linear(in_features=38, out_features=128, bias=False)\n",
       "  (W_new): Linear(in_features=38, out_features=128, bias=True)\n",
       "  (U_new): Linear(in_features=128, out_features=128, bias=False)\n",
       "  (V_new): Linear(in_features=38, out_features=128, bias=False)\n",
       "  (gamma_x): Linear(in_features=38, out_features=38, bias=True)\n",
       "  (gamma_h): Linear(in_features=38, out_features=128, bias=True)\n",
       "  (fc): Linear(in_features=128, out_features=1, bias=True)\n",
       ")"
      ]
     },
     "execution_count": 20,
     "metadata": {},
     "output_type": "execute_result"
    }
   ],
   "source": [
    "model.eval()"
   ]
  },
  {
   "cell_type": "code",
   "execution_count": 21,
   "id": "27811dae0ef273ee",
   "metadata": {
    "ExecuteTime": {
     "end_time": "2024-08-21T23:40:51.785519Z",
     "start_time": "2024-08-21T23:40:51.075886Z"
    }
   },
   "outputs": [],
   "source": [
    "# Create DataLoader\n",
    "train_dataset = TensorDataset(torch.tensor(X_tensor, dtype=torch.float32), \n",
    "                              torch.tensor(M_tensor, dtype=torch.float32), \n",
    "                              torch.tensor(Delta_tensor, dtype=torch.float32), \n",
    "                              torch.tensor(labels, dtype=torch.float32))\n",
    "\n",
    "train_loader = DataLoader(train_dataset, batch_size=batch_size, shuffle=True)"
   ]
  },
  {
   "cell_type": "code",
   "execution_count": 22,
   "id": "74379dc3b08daf8c",
   "metadata": {
    "ExecuteTime": {
     "end_time": "2024-08-21T23:40:51.807185Z",
     "start_time": "2024-08-21T23:40:51.788150Z"
    }
   },
   "outputs": [
    {
     "name": "stdout",
     "output_type": "stream",
     "text": [
      "X_batch shape: torch.Size([16, 336, 38])\n",
      "M_batch shape: torch.Size([16, 336, 38])\n",
      "Delta_batch shape: torch.Size([16, 336, 38])\n",
      "Labels_batch shape: torch.Size([16, 1])\n"
     ]
    }
   ],
   "source": [
    "for batch in train_loader:\n",
    "    X_batch, M_batch, Delta_batch, labels_batch = batch\n",
    "    print(f'X_batch shape: {X_batch.shape}')\n",
    "    print(f'M_batch shape: {M_batch.shape}')\n",
    "    print(f'Delta_batch shape: {Delta_batch.shape}')\n",
    "    print(f'Labels_batch shape: {labels_batch.shape}')\n",
    "    break"
   ]
  },
  {
   "cell_type": "code",
   "execution_count": 23,
   "id": "2e58c0f22b9b3b9d",
   "metadata": {
    "ExecuteTime": {
     "end_time": "2024-08-21T23:40:51.811702Z",
     "start_time": "2024-08-21T23:40:51.808128Z"
    }
   },
   "outputs": [],
   "source": [
    "# Move model to the appropriate device\n",
    "device = torch.device('cuda' if torch.cuda.is_available() else 'cpu')\n",
    "model = model.to(device)"
   ]
  },
  {
   "cell_type": "code",
   "execution_count": 24,
   "id": "96364e38c7c235e2",
   "metadata": {
    "ExecuteTime": {
     "end_time": "2024-08-22T01:09:17.418768Z",
     "start_time": "2024-08-21T23:40:51.813087Z"
    }
   },
   "outputs": [
    {
     "ename": "KeyboardInterrupt",
     "evalue": "",
     "output_type": "error",
     "traceback": [
      "\u001b[0;31m---------------------------------------------------------------------------\u001b[0m",
      "\u001b[0;31mKeyboardInterrupt\u001b[0m                         Traceback (most recent call last)",
      "Cell \u001b[0;32mIn[24], line 24\u001b[0m\n\u001b[1;32m     21\u001b[0m loss \u001b[38;5;241m=\u001b[39m criterion(outputs[:, \u001b[38;5;241m-\u001b[39m\u001b[38;5;241m1\u001b[39m, :], y_batch)\n\u001b[1;32m     23\u001b[0m \u001b[38;5;66;03m# Backward pass and optimization\u001b[39;00m\n\u001b[0;32m---> 24\u001b[0m \u001b[43mloss\u001b[49m\u001b[38;5;241;43m.\u001b[39;49m\u001b[43mbackward\u001b[49m\u001b[43m(\u001b[49m\u001b[43m)\u001b[49m\n\u001b[1;32m     25\u001b[0m optimizer\u001b[38;5;241m.\u001b[39mstep()\n\u001b[1;32m     27\u001b[0m total_loss \u001b[38;5;241m+\u001b[39m\u001b[38;5;241m=\u001b[39m loss\u001b[38;5;241m.\u001b[39mitem()\n",
      "File \u001b[0;32m/opt/miniconda3/lib/python3.12/site-packages/torch/_tensor.py:521\u001b[0m, in \u001b[0;36mTensor.backward\u001b[0;34m(self, gradient, retain_graph, create_graph, inputs)\u001b[0m\n\u001b[1;32m    511\u001b[0m \u001b[38;5;28;01mif\u001b[39;00m has_torch_function_unary(\u001b[38;5;28mself\u001b[39m):\n\u001b[1;32m    512\u001b[0m     \u001b[38;5;28;01mreturn\u001b[39;00m handle_torch_function(\n\u001b[1;32m    513\u001b[0m         Tensor\u001b[38;5;241m.\u001b[39mbackward,\n\u001b[1;32m    514\u001b[0m         (\u001b[38;5;28mself\u001b[39m,),\n\u001b[0;32m   (...)\u001b[0m\n\u001b[1;32m    519\u001b[0m         inputs\u001b[38;5;241m=\u001b[39minputs,\n\u001b[1;32m    520\u001b[0m     )\n\u001b[0;32m--> 521\u001b[0m \u001b[43mtorch\u001b[49m\u001b[38;5;241;43m.\u001b[39;49m\u001b[43mautograd\u001b[49m\u001b[38;5;241;43m.\u001b[39;49m\u001b[43mbackward\u001b[49m\u001b[43m(\u001b[49m\n\u001b[1;32m    522\u001b[0m \u001b[43m    \u001b[49m\u001b[38;5;28;43mself\u001b[39;49m\u001b[43m,\u001b[49m\u001b[43m \u001b[49m\u001b[43mgradient\u001b[49m\u001b[43m,\u001b[49m\u001b[43m \u001b[49m\u001b[43mretain_graph\u001b[49m\u001b[43m,\u001b[49m\u001b[43m \u001b[49m\u001b[43mcreate_graph\u001b[49m\u001b[43m,\u001b[49m\u001b[43m \u001b[49m\u001b[43minputs\u001b[49m\u001b[38;5;241;43m=\u001b[39;49m\u001b[43minputs\u001b[49m\n\u001b[1;32m    523\u001b[0m \u001b[43m\u001b[49m\u001b[43m)\u001b[49m\n",
      "File \u001b[0;32m/opt/miniconda3/lib/python3.12/site-packages/torch/autograd/__init__.py:289\u001b[0m, in \u001b[0;36mbackward\u001b[0;34m(tensors, grad_tensors, retain_graph, create_graph, grad_variables, inputs)\u001b[0m\n\u001b[1;32m    284\u001b[0m     retain_graph \u001b[38;5;241m=\u001b[39m create_graph\n\u001b[1;32m    286\u001b[0m \u001b[38;5;66;03m# The reason we repeat the same comment below is that\u001b[39;00m\n\u001b[1;32m    287\u001b[0m \u001b[38;5;66;03m# some Python versions print out the first line of a multi-line function\u001b[39;00m\n\u001b[1;32m    288\u001b[0m \u001b[38;5;66;03m# calls in the traceback and some print out the last line\u001b[39;00m\n\u001b[0;32m--> 289\u001b[0m \u001b[43m_engine_run_backward\u001b[49m\u001b[43m(\u001b[49m\n\u001b[1;32m    290\u001b[0m \u001b[43m    \u001b[49m\u001b[43mtensors\u001b[49m\u001b[43m,\u001b[49m\n\u001b[1;32m    291\u001b[0m \u001b[43m    \u001b[49m\u001b[43mgrad_tensors_\u001b[49m\u001b[43m,\u001b[49m\n\u001b[1;32m    292\u001b[0m \u001b[43m    \u001b[49m\u001b[43mretain_graph\u001b[49m\u001b[43m,\u001b[49m\n\u001b[1;32m    293\u001b[0m \u001b[43m    \u001b[49m\u001b[43mcreate_graph\u001b[49m\u001b[43m,\u001b[49m\n\u001b[1;32m    294\u001b[0m \u001b[43m    \u001b[49m\u001b[43minputs\u001b[49m\u001b[43m,\u001b[49m\n\u001b[1;32m    295\u001b[0m \u001b[43m    \u001b[49m\u001b[43mallow_unreachable\u001b[49m\u001b[38;5;241;43m=\u001b[39;49m\u001b[38;5;28;43;01mTrue\u001b[39;49;00m\u001b[43m,\u001b[49m\n\u001b[1;32m    296\u001b[0m \u001b[43m    \u001b[49m\u001b[43maccumulate_grad\u001b[49m\u001b[38;5;241;43m=\u001b[39;49m\u001b[38;5;28;43;01mTrue\u001b[39;49;00m\u001b[43m,\u001b[49m\n\u001b[1;32m    297\u001b[0m \u001b[43m\u001b[49m\u001b[43m)\u001b[49m\n",
      "File \u001b[0;32m/opt/miniconda3/lib/python3.12/site-packages/torch/autograd/graph.py:768\u001b[0m, in \u001b[0;36m_engine_run_backward\u001b[0;34m(t_outputs, *args, **kwargs)\u001b[0m\n\u001b[1;32m    766\u001b[0m     unregister_hooks \u001b[38;5;241m=\u001b[39m _register_logging_hooks_on_whole_graph(t_outputs)\n\u001b[1;32m    767\u001b[0m \u001b[38;5;28;01mtry\u001b[39;00m:\n\u001b[0;32m--> 768\u001b[0m     \u001b[38;5;28;01mreturn\u001b[39;00m \u001b[43mVariable\u001b[49m\u001b[38;5;241;43m.\u001b[39;49m\u001b[43m_execution_engine\u001b[49m\u001b[38;5;241;43m.\u001b[39;49m\u001b[43mrun_backward\u001b[49m\u001b[43m(\u001b[49m\u001b[43m  \u001b[49m\u001b[38;5;66;43;03m# Calls into the C++ engine to run the backward pass\u001b[39;49;00m\n\u001b[1;32m    769\u001b[0m \u001b[43m        \u001b[49m\u001b[43mt_outputs\u001b[49m\u001b[43m,\u001b[49m\u001b[43m \u001b[49m\u001b[38;5;241;43m*\u001b[39;49m\u001b[43margs\u001b[49m\u001b[43m,\u001b[49m\u001b[43m \u001b[49m\u001b[38;5;241;43m*\u001b[39;49m\u001b[38;5;241;43m*\u001b[39;49m\u001b[43mkwargs\u001b[49m\n\u001b[1;32m    770\u001b[0m \u001b[43m    \u001b[49m\u001b[43m)\u001b[49m  \u001b[38;5;66;03m# Calls into the C++ engine to run the backward pass\u001b[39;00m\n\u001b[1;32m    771\u001b[0m \u001b[38;5;28;01mfinally\u001b[39;00m:\n\u001b[1;32m    772\u001b[0m     \u001b[38;5;28;01mif\u001b[39;00m attach_logging_hooks:\n",
      "\u001b[0;31mKeyboardInterrupt\u001b[0m: "
     ]
    }
   ],
   "source": [
    "%%capture\n",
    "# Training loop\n",
    "train_losses = []\n",
    "for epoch in range(num_epochs):\n",
    "    model.train()\n",
    "    total_loss = 0\n",
    "    for X_batch, M_batch, Delta_batch, y_batch in train_loader:\n",
    "        \n",
    "        # Initialize last observed x as the first observation\n",
    "        last_observed_x = X_batch[:, 0, :].clone()  # Shape: [batch_size, input_size]\n",
    "        \n",
    "        # Initialize hidden state\n",
    "        h = torch.zeros((X_batch.size(0), hidden_size)).to(X_batch.device)  # Shape: [batch_size, hidden_size]\n",
    "\n",
    "        optimizer.zero_grad()\n",
    "\n",
    "        # Forward pass through the entire sequence\n",
    "        outputs, h, last_observed_x = model(X_batch, M_batch, Delta_batch, last_observed_x, h)\n",
    "        \n",
    "        # Compute loss\n",
    "        # Assuming y_batch has shape [batch_size, output_size] and you want to compare it with the last output\n",
    "        loss = criterion(outputs[:, -1, :], y_batch)\n",
    "        \n",
    "        # Backward pass and optimization\n",
    "        loss.backward()\n",
    "        optimizer.step()\n",
    "        \n",
    "        total_loss += loss.item()\n",
    "    \n",
    "    avg_loss = total_loss / len(train_loader)\n",
    "    train_losses.append(avg_loss)\n",
    "    print(f'Epoch [{epoch+1}/{num_epochs}], Loss: {avg_loss:.4f}')"
   ]
  },
  {
   "cell_type": "code",
   "execution_count": 25,
   "id": "1822d98c66a5d08f",
   "metadata": {
    "ExecuteTime": {
     "end_time": "2024-08-22T01:09:17.612369Z",
     "start_time": "2024-08-22T01:09:17.419935Z"
    }
   },
   "outputs": [],
   "source": [
    "test_dataset = TensorDataset(torch.tensor(X_test, dtype=torch.float32), \n",
    "                             torch.tensor(M_test, dtype=torch.float32), \n",
    "                             torch.tensor(Delta_test, dtype=torch.float32), \n",
    "                             torch.tensor(y_test, dtype=torch.float32))\n",
    "test_loader = DataLoader(test_dataset, batch_size=batch_size, shuffle=False)"
   ]
  },
  {
   "cell_type": "code",
   "execution_count": 26,
   "id": "5671b0e454bea215",
   "metadata": {
    "ExecuteTime": {
     "end_time": "2024-08-22T01:09:17.685814Z",
     "start_time": "2024-08-22T01:09:17.613968Z"
    }
   },
   "outputs": [
    {
     "data": {
      "image/png": "[encoded data removed]",
      "text/plain": [
       "<Figure size 640x480 with 1 Axes>"
      ]
     },
     "metadata": {},
     "output_type": "display_data"
    }
   ],
   "source": [
    "# Plot the training loss\n",
    "plt.figure()\n",
    "plt.plot(train_losses, label='Training Loss')\n",
    "plt.xlabel('Epoch')\n",
    "plt.ylabel('Loss')\n",
    "plt.legend()\n",
    "plt.show()"
   ]
  },
  {
   "cell_type": "code",
   "execution_count": 27,
   "id": "7a8447ec33081f51",
   "metadata": {
    "ExecuteTime": {
     "end_time": "2024-08-22T01:09:24.260812Z",
     "start_time": "2024-08-22T01:09:17.687174Z"
    }
   },
   "outputs": [
    {
     "name": "stdout",
     "output_type": "stream",
     "text": [
      "Accuracy: 0.9426\n"
     ]
    }
   ],
   "source": [
    "# Evaluation on the test set\n",
    "total_correct = 0\n",
    "total_samples = 0\n",
    "all_predictions = []\n",
    "all_labels = []\n",
    "\n",
    "with torch.no_grad():\n",
    "    for X_batch, M_batch, Delta_batch, y_batch in test_loader:\n",
    "         # Initialize last observed x as the first observation\n",
    "        last_observed_x = X_batch[:, 0, :].clone()  # Shape: [batch_size, input_size]\n",
    "        \n",
    "        # Initialize hidden state\n",
    "        h = torch.zeros((X_batch.size(0), hidden_size)).to(X_batch.device)  # Shape: [batch_size, hidden_size]\n",
    "\n",
    "        optimizer.zero_grad()\n",
    "\n",
    "        # Forward pass through the entire sequence\n",
    "        output, h, last_observed_x = model(X_batch, M_batch, Delta_batch, last_observed_x, h)\n",
    "            \n",
    "        # Collect predictions and labels\n",
    "        all_predictions.append(output[:, -1, :].cpu().numpy())\n",
    "        all_labels.append(y_batch.cpu().numpy())\n",
    "        \n",
    "        # Convert output to binary prediction\n",
    "        predictions = (output[:, -1, :] >= 0.5).float()\n",
    "        total_correct += (predictions == y_batch).sum().item()\n",
    "        total_samples += y_batch.size(0)\n",
    "\n",
    "accuracy = total_correct / total_samples\n",
    "print(f'Accuracy: {accuracy:.4f}')"
   ]
  },
  {
   "cell_type": "code",
   "execution_count": 28,
   "id": "b02d0a9f9dff54b3",
   "metadata": {
    "ExecuteTime": {
     "end_time": "2024-08-22T01:09:24.267295Z",
     "start_time": "2024-08-22T01:09:24.261639Z"
    }
   },
   "outputs": [
    {
     "name": "stdout",
     "output_type": "stream",
     "text": [
      "AUC: 0.9411\n"
     ]
    }
   ],
   "source": [
    "# Compute AUC score\n",
    "all_predictions = np.concatenate(all_predictions)\n",
    "all_labels = np.concatenate(all_labels)\n",
    "\n",
    "auc = roc_auc_score(all_labels, all_predictions)\n",
    "print(f'AUC: {auc:.4f}')"
   ]
  }
 ],
 "metadata": {
  "kernelspec": {
   "display_name": "Python 3",
   "language": "python",
   "name": "python3"
  },
  "language_info": {
   "codemirror_mode": {
    "name": "ipython",
    "version": 3
   },
   "file_extension": ".py",
   "mimetype": "text/x-python",
   "name": "python",
   "nbconvert_exporter": "python",
   "pygments_lexer": "ipython3",
   "version": "3.12.2"
  }
 },
 "nbformat": 4,
 "nbformat_minor": 5
}