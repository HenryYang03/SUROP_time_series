{
 "cells": [
  {
   "metadata": {},
   "cell_type": "markdown",
   "source": "# Simple GRU Model",
   "id": "3d67a8e123e70be5"
  },
  {
   "cell_type": "code",
   "id": "initial_id",
   "metadata": {
    "collapsed": true,
    "ExecuteTime": {
     "end_time": "2024-08-17T20:02:32.797637Z",
     "start_time": "2024-08-17T20:02:32.783110Z"
    }
   },
   "source": [
    "import pandas as pd\n",
    "import numpy as np\n",
    "from tensorflow.keras import Model\n",
    "from tensorflow.keras.layers import GRU, Dense, Input, Dropout, BatchNormalization\n",
    "import matplotlib.pyplot as plt\n",
    "from tensorflow.keras.optimizers import Adam\n",
    "from tensorflow.keras.regularizers import l2\n",
    "from sklearn.model_selection import train_test_split"
   ],
   "outputs": [],
   "execution_count": 33
  },
  {
   "metadata": {
    "ExecuteTime": {
     "end_time": "2024-08-17T20:02:33.506138Z",
     "start_time": "2024-08-17T20:02:32.799948Z"
    }
   },
   "cell_type": "code",
   "source": [
    "# Load the dataset\n",
    "train_x = pd.read_csv('/Users/mohanyang/Documents/GitHub/SUROP_time_series/SUROP/data/train_x.csv')\n",
    "train_y = pd.read_csv('/Users/mohanyang/Documents/GitHub/SUROP_time_series/SUROP/data/train_y.csv')\n",
    "test_x = pd.read_csv('/Users/mohanyang/Documents/GitHub/SUROP_time_series/SUROP/data/test_x.csv')"
   ],
   "id": "11206d8a00b7cdcc",
   "outputs": [],
   "execution_count": 34
  },
  {
   "metadata": {
    "ExecuteTime": {
     "end_time": "2024-08-17T20:02:33.512789Z",
     "start_time": "2024-08-17T20:02:33.506781Z"
    }
   },
   "cell_type": "code",
   "source": [
    "# Display the first few rows\n",
    "print(train_x.head())\n",
    "print(train_x.shape)"
   ],
   "id": "8848f19ab8badcaf",
   "outputs": [
    {
     "name": "stdout",
     "output_type": "stream",
     "text": [
      "   Hour  ID    Age  Gender  Unit1  Unit2     HR   O2Sat   Temp     SBP  ...  \\\n",
      "0     1   2  66.67     1.0    0.0    1.0  74.78  100.06  35.61  121.68  ...   \n",
      "1     2   2  66.67     1.0    0.0    1.0  74.78  100.06  35.61  121.68  ...   \n",
      "2     3   2  66.67     1.0    0.0    1.0  74.78  100.06  35.61  121.68  ...   \n",
      "3     4   2  66.67     1.0    0.0    1.0  74.78  100.06  35.61  121.68  ...   \n",
      "4     5   2  66.67     1.0    0.0    1.0  84.42   99.58  35.61  114.60  ...   \n",
      "\n",
      "   Phosphate  Potassium  Bilirubin_total  TroponinI    Hct   Hgb  PTT   WBC  \\\n",
      "0        NaN       4.48              NaN        NaN  28.83  9.21  NaN  8.15   \n",
      "1        NaN       4.48              NaN        NaN  28.83  9.21  NaN  8.15   \n",
      "2        NaN       4.48              NaN        NaN  28.83  9.21  NaN  8.15   \n",
      "3        NaN       4.48              NaN        NaN  28.83  9.21  NaN  8.15   \n",
      "4        NaN       4.48              NaN        NaN  28.83  9.21  NaN  8.15   \n",
      "\n",
      "   Fibrinogen  Platelets  \n",
      "0         NaN        NaN  \n",
      "1         NaN        NaN  \n",
      "2         NaN        NaN  \n",
      "3         NaN        NaN  \n",
      "4         NaN        NaN  \n",
      "\n",
      "[5 rows x 40 columns]\n",
      "(482010, 40)\n"
     ]
    }
   ],
   "execution_count": 35
  },
  {
   "metadata": {
    "ExecuteTime": {
     "end_time": "2024-08-17T20:02:33.516340Z",
     "start_time": "2024-08-17T20:02:33.513903Z"
    }
   },
   "cell_type": "code",
   "source": [
    "print(train_y.head())\n",
    "print(train_y.shape)"
   ],
   "id": "780add8981ad9955",
   "outputs": [
    {
     "name": "stdout",
     "output_type": "stream",
     "text": [
      "   ID  Outcome\n",
      "0   2        0\n",
      "1   3        0\n",
      "2   5        1\n",
      "3   6        0\n",
      "4  13        0\n",
      "(12115, 2)\n"
     ]
    }
   ],
   "execution_count": 36
  },
  {
   "metadata": {
    "ExecuteTime": {
     "end_time": "2024-08-17T20:02:33.524600Z",
     "start_time": "2024-08-17T20:02:33.516973Z"
    }
   },
   "cell_type": "code",
   "source": [
    "max_hours = train_x.groupby('ID')['Hour'].count().max()\n",
    "print(f'Maximum number of hours: {max_hours}')"
   ],
   "id": "48f42e6abd239289",
   "outputs": [
    {
     "name": "stdout",
     "output_type": "stream",
     "text": [
      "Maximum number of hours: 336\n"
     ]
    }
   ],
   "execution_count": 37
  },
  {
   "metadata": {
    "ExecuteTime": {
     "end_time": "2024-08-17T20:02:33.529225Z",
     "start_time": "2024-08-17T20:02:33.525465Z"
    }
   },
   "cell_type": "code",
   "source": [
    "# Get unique person IDs\n",
    "person_ids = train_x['ID'].unique()\n",
    "\n",
    "# Initialize tensors for features, masks, and time intervals\n",
    "num_persons = len(person_ids)\n",
    "num_features = train_x.shape[1] - 2  # excluding 'ID' and 'Hour' columns"
   ],
   "id": "64be0cb97c0c0bf3",
   "outputs": [],
   "execution_count": 38
  },
  {
   "metadata": {
    "ExecuteTime": {
     "end_time": "2024-08-17T20:02:33.532048Z",
     "start_time": "2024-08-17T20:02:33.529812Z"
    }
   },
   "cell_type": "code",
   "source": "person_ids",
   "id": "4a7175c1c823f814",
   "outputs": [
    {
     "data": {
      "text/plain": [
       "array([    2,     3,     5, ..., 21630, 21632, 21633])"
      ]
     },
     "execution_count": 39,
     "metadata": {},
     "output_type": "execute_result"
    }
   ],
   "execution_count": 39
  },
  {
   "metadata": {
    "ExecuteTime": {
     "end_time": "2024-08-17T20:02:33.542612Z",
     "start_time": "2024-08-17T20:02:33.532734Z"
    }
   },
   "cell_type": "code",
   "source": [
    "#Initialize tensors\n",
    "X_tensor = np.zeros((num_persons, max_hours, num_features+1))"
   ],
   "id": "845478173d527d86",
   "outputs": [],
   "execution_count": 40
  },
  {
   "metadata": {
    "ExecuteTime": {
     "end_time": "2024-08-17T20:02:38.247258Z",
     "start_time": "2024-08-17T20:02:33.543188Z"
    }
   },
   "cell_type": "code",
   "source": [
    "for i, person_id in enumerate(person_ids):\n",
    "    person_data = train_x[train_x['ID'] == person_id].sort_values('Hour')\n",
    "    hours = person_data['Hour'].values\n",
    "    features = person_data.drop(columns=['ID']).values\n",
    "    \n",
    "    # Fill X_tensor\n",
    "    X_tensor[i, :len(hours), :] = features"
   ],
   "id": "bfd4c27fb4e6951a",
   "outputs": [],
   "execution_count": 41
  },
  {
   "metadata": {
    "ExecuteTime": {
     "end_time": "2024-08-17T20:02:38.253309Z",
     "start_time": "2024-08-17T20:02:38.249887Z"
    }
   },
   "cell_type": "code",
   "source": "X_tensor",
   "id": "cb9e167e59aed66a",
   "outputs": [
    {
     "data": {
      "text/plain": [
       "array([[[  1.  ,  66.67,   1.  , ...,   8.15,    nan,    nan],\n",
       "        [  2.  ,  66.67,   1.  , ...,   8.15,    nan,    nan],\n",
       "        [  3.  ,  66.67,   1.  , ...,   8.15,    nan,    nan],\n",
       "        ...,\n",
       "        [  0.  ,   0.  ,   0.  , ...,   0.  ,   0.  ,   0.  ],\n",
       "        [  0.  ,   0.  ,   0.  , ...,   0.  ,   0.  ,   0.  ],\n",
       "        [  0.  ,   0.  ,   0.  , ...,   0.  ,   0.  ,   0.  ]],\n",
       "\n",
       "       [[  1.  ,  79.74,   0.  , ...,   6.82, 267.01, 281.18],\n",
       "        [  2.  ,  79.74,   0.  , ...,   6.82, 267.01, 281.18],\n",
       "        [  3.  ,  79.74,   0.  , ...,   6.82, 267.01, 281.18],\n",
       "        ...,\n",
       "        [  0.  ,   0.  ,   0.  , ...,   0.  ,   0.  ,   0.  ],\n",
       "        [  0.  ,   0.  ,   0.  , ...,   0.  ,   0.  ,   0.  ],\n",
       "        [  0.  ,   0.  ,   0.  , ...,   0.  ,   0.  ,   0.  ]],\n",
       "\n",
       "       [[  1.  ,  60.74,   1.  , ...,  12.45,    nan,  84.77],\n",
       "        [  2.  ,  60.74,   1.  , ...,  12.45,    nan,  84.77],\n",
       "        [  3.  ,  60.74,   1.  , ...,  12.45,    nan,  84.77],\n",
       "        ...,\n",
       "        [  0.  ,   0.  ,   0.  , ...,   0.  ,   0.  ,   0.  ],\n",
       "        [  0.  ,   0.  ,   0.  , ...,   0.  ,   0.  ,   0.  ],\n",
       "        [  0.  ,   0.  ,   0.  , ...,   0.  ,   0.  ,   0.  ]],\n",
       "\n",
       "       ...,\n",
       "\n",
       "       [[  1.  ,  65.41,   1.  , ...,  21.87,    nan, 303.89],\n",
       "        [  2.  ,  65.41,   1.  , ...,  21.87,    nan, 303.89],\n",
       "        [  3.  ,  65.41,   1.  , ...,  21.87,    nan, 303.89],\n",
       "        ...,\n",
       "        [  0.  ,   0.  ,   0.  , ...,   0.  ,   0.  ,   0.  ],\n",
       "        [  0.  ,   0.  ,   0.  , ...,   0.  ,   0.  ,   0.  ],\n",
       "        [  0.  ,   0.  ,   0.  , ...,   0.  ,   0.  ,   0.  ]],\n",
       "\n",
       "       [[  1.  ,  58.61,   1.  , ...,  45.9 ,    nan, 302.32],\n",
       "        [  2.  ,  58.61,   1.  , ...,  45.9 ,    nan, 302.32],\n",
       "        [  3.  ,  58.61,   1.  , ...,  45.9 ,    nan, 302.32],\n",
       "        ...,\n",
       "        [  0.  ,   0.  ,   0.  , ...,   0.  ,   0.  ,   0.  ],\n",
       "        [  0.  ,   0.  ,   0.  , ...,   0.  ,   0.  ,   0.  ],\n",
       "        [  0.  ,   0.  ,   0.  , ...,   0.  ,   0.  ,   0.  ]],\n",
       "\n",
       "       [[  1.  ,  58.58,   1.  , ...,  17.02,    nan, 167.  ],\n",
       "        [  2.  ,  58.58,   1.  , ...,  17.02,    nan, 167.  ],\n",
       "        [  3.  ,  58.58,   1.  , ...,  17.02,    nan, 167.  ],\n",
       "        ...,\n",
       "        [  0.  ,   0.  ,   0.  , ...,   0.  ,   0.  ,   0.  ],\n",
       "        [  0.  ,   0.  ,   0.  , ...,   0.  ,   0.  ,   0.  ],\n",
       "        [  0.  ,   0.  ,   0.  , ...,   0.  ,   0.  ,   0.  ]]])"
      ]
     },
     "execution_count": 42,
     "metadata": {},
     "output_type": "execute_result"
    }
   ],
   "execution_count": 42
  },
  {
   "metadata": {
    "ExecuteTime": {
     "end_time": "2024-08-17T20:02:39.353976Z",
     "start_time": "2024-08-17T20:02:38.253999Z"
    }
   },
   "cell_type": "code",
   "source": [
    "# Replace NaNs with zeros in X_tensor\n",
    "X_tensor = np.nan_to_num(X_tensor)\n",
    "\n",
    "print(X_tensor.shape)"
   ],
   "id": "91fa8ed6cceb3e8c",
   "outputs": [
    {
     "name": "stdout",
     "output_type": "stream",
     "text": [
      "(12115, 336, 39)\n"
     ]
    }
   ],
   "execution_count": 43
  },
  {
   "metadata": {
    "ExecuteTime": {
     "end_time": "2024-08-17T20:02:40.219864Z",
     "start_time": "2024-08-17T20:02:39.354694Z"
    }
   },
   "cell_type": "code",
   "source": [
    "# Ensure train_y is aligned with X_tensor\n",
    "labels = np.zeros(len(person_ids))\n",
    "\n",
    "for i, person_id in enumerate(person_ids):\n",
    "    if person_id in train_y['ID'].values:\n",
    "        labels[i] = train_y[train_y['ID'] == person_id]['Outcome'].values[0]\n",
    "\n",
    "print(labels.shape)"
   ],
   "id": "41512dbd553e7a9c",
   "outputs": [
    {
     "name": "stdout",
     "output_type": "stream",
     "text": [
      "(12115,)\n"
     ]
    }
   ],
   "execution_count": 44
  },
  {
   "metadata": {
    "ExecuteTime": {
     "end_time": "2024-08-17T20:02:40.392483Z",
     "start_time": "2024-08-17T20:02:40.220944Z"
    }
   },
   "cell_type": "code",
   "source": [
    "# Split the data into training and test sets\n",
    "X_train, X_test, y_train, y_test = train_test_split(\n",
    "    X_tensor, labels, test_size=0.2, random_state=10\n",
    ")"
   ],
   "id": "aa7a4b86aa34fa65",
   "outputs": [],
   "execution_count": 45
  },
  {
   "metadata": {
    "ExecuteTime": {
     "end_time": "2024-08-17T20:02:40.395835Z",
     "start_time": "2024-08-17T20:02:40.393143Z"
    }
   },
   "cell_type": "code",
   "source": [
    "def create_gru_model(input_shape, learning_rate=0.001, dropout_rate=0.2, regularization_factor=0.001):\n",
    "    x_input = Input(shape=input_shape)\n",
    "    \n",
    "    # GRU layers with dropout, batch normalization, and regularization\n",
    "    gru_output = GRU(units=64, return_sequences=False, kernel_regularizer=l2(regularization_factor))(x_input)\n",
    "    gru_output = BatchNormalization()(gru_output)\n",
    "    gru_output = Dropout(dropout_rate)(gru_output)\n",
    "    \n",
    "    # Output layer\n",
    "    output = Dense(1, activation='sigmoid', kernel_regularizer=l2(regularization_factor))(gru_output)\n",
    "    \n",
    "    # Create model\n",
    "    model = Model(inputs=x_input, outputs=output)\n",
    "    \n",
    "    # Create an Adam optimizer with a custom learning rate\n",
    "    optimizer = Adam(learning_rate=learning_rate)\n",
    "    \n",
    "    # Compile the model with the custom optimizer\n",
    "    model.compile(optimizer=optimizer, loss='binary_crossentropy', metrics=['AUC'])\n",
    "    \n",
    "    return model"
   ],
   "id": "2bfb383c98669ac7",
   "outputs": [],
   "execution_count": 46
  },
  {
   "metadata": {
    "ExecuteTime": {
     "end_time": "2024-08-17T20:24:02.496473Z",
     "start_time": "2024-08-17T20:02:40.396490Z"
    }
   },
   "cell_type": "code",
   "source": [
    "input_shape = (max_hours, num_features+1)\n",
    "model_gru = create_gru_model(input_shape)\n",
    "\n",
    "history = model_gru.fit(X_train, y_train, epochs=50, batch_size=16, validation_split=0.2)"
   ],
   "id": "f4835b82f9e12bed",
   "outputs": [
    {
     "name": "stdout",
     "output_type": "stream",
     "text": [
      "Epoch 1/50\n",
      "\u001B[1m485/485\u001B[0m \u001B[32m━━━━━━━━━━━━━━━━━━━━\u001B[0m\u001B[37m\u001B[0m \u001B[1m24s\u001B[0m 48ms/step - AUC: 0.4855 - loss: 0.5027 - val_AUC: 0.5021 - val_loss: 0.4251\n",
      "Epoch 2/50\n",
      "\u001B[1m485/485\u001B[0m \u001B[32m━━━━━━━━━━━━━━━━━━━━\u001B[0m\u001B[37m\u001B[0m \u001B[1m23s\u001B[0m 48ms/step - AUC: 0.5064 - loss: 0.3785 - val_AUC: 0.4985 - val_loss: 0.4467\n",
      "Epoch 3/50\n",
      "\u001B[1m485/485\u001B[0m \u001B[32m━━━━━━━━━━━━━━━━━━━━\u001B[0m\u001B[37m\u001B[0m \u001B[1m23s\u001B[0m 48ms/step - AUC: 0.4886 - loss: 0.4042 - val_AUC: 0.5021 - val_loss: 0.4158\n",
      "Epoch 4/50\n",
      "\u001B[1m485/485\u001B[0m \u001B[32m━━━━━━━━━━━━━━━━━━━━\u001B[0m\u001B[37m\u001B[0m \u001B[1m23s\u001B[0m 47ms/step - AUC: 0.5078 - loss: 0.4063 - val_AUC: 0.5021 - val_loss: 0.4183\n",
      "Epoch 5/50\n",
      "\u001B[1m485/485\u001B[0m \u001B[32m━━━━━━━━━━━━━━━━━━━━\u001B[0m\u001B[37m\u001B[0m \u001B[1m23s\u001B[0m 47ms/step - AUC: 0.5086 - loss: 0.4017 - val_AUC: 0.5021 - val_loss: 0.4122\n",
      "Epoch 6/50\n",
      "\u001B[1m485/485\u001B[0m \u001B[32m━━━━━━━━━━━━━━━━━━━━\u001B[0m\u001B[37m\u001B[0m \u001B[1m24s\u001B[0m 49ms/step - AUC: 0.5035 - loss: 0.3940 - val_AUC: 0.5177 - val_loss: 0.6550\n",
      "Epoch 7/50\n",
      "\u001B[1m485/485\u001B[0m \u001B[32m━━━━━━━━━━━━━━━━━━━━\u001B[0m\u001B[37m\u001B[0m \u001B[1m23s\u001B[0m 48ms/step - AUC: 0.5037 - loss: 0.3906 - val_AUC: 0.5021 - val_loss: 0.4115\n",
      "Epoch 8/50\n",
      "\u001B[1m485/485\u001B[0m \u001B[32m━━━━━━━━━━━━━━━━━━━━\u001B[0m\u001B[37m\u001B[0m \u001B[1m24s\u001B[0m 49ms/step - AUC: 0.4824 - loss: 0.3972 - val_AUC: 0.5015 - val_loss: 7.5561\n",
      "Epoch 9/50\n",
      "\u001B[1m485/485\u001B[0m \u001B[32m━━━━━━━━━━━━━━━━━━━━\u001B[0m\u001B[37m\u001B[0m \u001B[1m23s\u001B[0m 48ms/step - AUC: 0.4935 - loss: 0.3985 - val_AUC: 0.5018 - val_loss: 0.4920\n",
      "Epoch 10/50\n",
      "\u001B[1m485/485\u001B[0m \u001B[32m━━━━━━━━━━━━━━━━━━━━\u001B[0m\u001B[37m\u001B[0m \u001B[1m24s\u001B[0m 50ms/step - AUC: 0.4956 - loss: 0.3872 - val_AUC: 0.5018 - val_loss: 0.4227\n",
      "Epoch 11/50\n",
      "\u001B[1m485/485\u001B[0m \u001B[32m━━━━━━━━━━━━━━━━━━━━\u001B[0m\u001B[37m\u001B[0m \u001B[1m24s\u001B[0m 50ms/step - AUC: 0.5157 - loss: 0.3975 - val_AUC: 0.5012 - val_loss: 3.3128\n",
      "Epoch 12/50\n",
      "\u001B[1m485/485\u001B[0m \u001B[32m━━━━━━━━━━━━━━━━━━━━\u001B[0m\u001B[37m\u001B[0m \u001B[1m24s\u001B[0m 48ms/step - AUC: 0.5482 - loss: 0.3796 - val_AUC: 0.5000 - val_loss: 84.2138\n",
      "Epoch 13/50\n",
      "\u001B[1m485/485\u001B[0m \u001B[32m━━━━━━━━━━━━━━━━━━━━\u001B[0m\u001B[37m\u001B[0m \u001B[1m25s\u001B[0m 51ms/step - AUC: 0.5772 - loss: 0.3731 - val_AUC: 0.7166 - val_loss: 0.3603\n",
      "Epoch 14/50\n",
      "\u001B[1m485/485\u001B[0m \u001B[32m━━━━━━━━━━━━━━━━━━━━\u001B[0m\u001B[37m\u001B[0m \u001B[1m25s\u001B[0m 51ms/step - AUC: 0.7245 - loss: 0.3312 - val_AUC: 0.7812 - val_loss: 0.5219\n",
      "Epoch 15/50\n",
      "\u001B[1m485/485\u001B[0m \u001B[32m━━━━━━━━━━━━━━━━━━━━\u001B[0m\u001B[37m\u001B[0m \u001B[1m24s\u001B[0m 49ms/step - AUC: 0.7511 - loss: 0.3220 - val_AUC: 0.8175 - val_loss: 0.3449\n",
      "Epoch 16/50\n",
      "\u001B[1m485/485\u001B[0m \u001B[32m━━━━━━━━━━━━━━━━━━━━\u001B[0m\u001B[37m\u001B[0m \u001B[1m24s\u001B[0m 50ms/step - AUC: 0.7912 - loss: 0.3041 - val_AUC: 0.8176 - val_loss: 1.1477\n",
      "Epoch 17/50\n",
      "\u001B[1m485/485\u001B[0m \u001B[32m━━━━━━━━━━━━━━━━━━━━\u001B[0m\u001B[37m\u001B[0m \u001B[1m25s\u001B[0m 51ms/step - AUC: 0.8132 - loss: 0.2912 - val_AUC: 0.8419 - val_loss: 1.6961\n",
      "Epoch 18/50\n",
      "\u001B[1m485/485\u001B[0m \u001B[32m━━━━━━━━━━━━━━━━━━━━\u001B[0m\u001B[37m\u001B[0m \u001B[1m24s\u001B[0m 48ms/step - AUC: 0.8236 - loss: 0.2843 - val_AUC: 0.8536 - val_loss: 0.3830\n",
      "Epoch 19/50\n",
      "\u001B[1m485/485\u001B[0m \u001B[32m━━━━━━━━━━━━━━━━━━━━\u001B[0m\u001B[37m\u001B[0m \u001B[1m23s\u001B[0m 48ms/step - AUC: 0.8451 - loss: 0.2605 - val_AUC: 0.8615 - val_loss: 0.3835\n",
      "Epoch 20/50\n",
      "\u001B[1m485/485\u001B[0m \u001B[32m━━━━━━━━━━━━━━━━━━━━\u001B[0m\u001B[37m\u001B[0m \u001B[1m24s\u001B[0m 49ms/step - AUC: 0.8517 - loss: 0.2733 - val_AUC: 0.8554 - val_loss: 0.4509\n",
      "Epoch 21/50\n",
      "\u001B[1m485/485\u001B[0m \u001B[32m━━━━━━━━━━━━━━━━━━━━\u001B[0m\u001B[37m\u001B[0m \u001B[1m23s\u001B[0m 48ms/step - AUC: 0.8741 - loss: 0.2402 - val_AUC: 0.8723 - val_loss: 0.3966\n",
      "Epoch 22/50\n",
      "\u001B[1m485/485\u001B[0m \u001B[32m━━━━━━━━━━━━━━━━━━━━\u001B[0m\u001B[37m\u001B[0m \u001B[1m24s\u001B[0m 49ms/step - AUC: 0.8646 - loss: 0.2485 - val_AUC: 0.8340 - val_loss: 0.5302\n",
      "Epoch 23/50\n",
      "\u001B[1m485/485\u001B[0m \u001B[32m━━━━━━━━━━━━━━━━━━━━\u001B[0m\u001B[37m\u001B[0m \u001B[1m24s\u001B[0m 49ms/step - AUC: 0.8588 - loss: 0.2655 - val_AUC: 0.8650 - val_loss: 0.2812\n",
      "Epoch 24/50\n",
      "\u001B[1m485/485\u001B[0m \u001B[32m━━━━━━━━━━━━━━━━━━━━\u001B[0m\u001B[37m\u001B[0m \u001B[1m23s\u001B[0m 48ms/step - AUC: 0.8671 - loss: 0.2432 - val_AUC: 0.6343 - val_loss: 1.0098\n",
      "Epoch 25/50\n",
      "\u001B[1m485/485\u001B[0m \u001B[32m━━━━━━━━━━━━━━━━━━━━\u001B[0m\u001B[37m\u001B[0m \u001B[1m24s\u001B[0m 49ms/step - AUC: 0.8472 - loss: 0.2616 - val_AUC: 0.8737 - val_loss: 0.4169\n",
      "Epoch 26/50\n",
      "\u001B[1m485/485\u001B[0m \u001B[32m━━━━━━━━━━━━━━━━━━━━\u001B[0m\u001B[37m\u001B[0m \u001B[1m23s\u001B[0m 48ms/step - AUC: 0.8695 - loss: 0.2536 - val_AUC: 0.8371 - val_loss: 0.5310\n",
      "Epoch 27/50\n",
      "\u001B[1m485/485\u001B[0m \u001B[32m━━━━━━━━━━━━━━━━━━━━\u001B[0m\u001B[37m\u001B[0m \u001B[1m23s\u001B[0m 48ms/step - AUC: 0.8543 - loss: 0.2524 - val_AUC: 0.7461 - val_loss: 4.3959\n",
      "Epoch 28/50\n",
      "\u001B[1m485/485\u001B[0m \u001B[32m━━━━━━━━━━━━━━━━━━━━\u001B[0m\u001B[37m\u001B[0m \u001B[1m23s\u001B[0m 48ms/step - AUC: 0.8494 - loss: 0.2681 - val_AUC: 0.8681 - val_loss: 0.2593\n",
      "Epoch 29/50\n",
      "\u001B[1m485/485\u001B[0m \u001B[32m━━━━━━━━━━━━━━━━━━━━\u001B[0m\u001B[37m\u001B[0m \u001B[1m23s\u001B[0m 48ms/step - AUC: 0.8630 - loss: 0.2550 - val_AUC: 0.8837 - val_loss: 0.3045\n",
      "Epoch 30/50\n",
      "\u001B[1m485/485\u001B[0m \u001B[32m━━━━━━━━━━━━━━━━━━━━\u001B[0m\u001B[37m\u001B[0m \u001B[1m24s\u001B[0m 50ms/step - AUC: 0.8819 - loss: 0.2457 - val_AUC: 0.8497 - val_loss: 2.6456\n",
      "Epoch 31/50\n",
      "\u001B[1m485/485\u001B[0m \u001B[32m━━━━━━━━━━━━━━━━━━━━\u001B[0m\u001B[37m\u001B[0m \u001B[1m23s\u001B[0m 47ms/step - AUC: 0.8630 - loss: 0.2528 - val_AUC: 0.8733 - val_loss: 0.2664\n",
      "Epoch 32/50\n",
      "\u001B[1m485/485\u001B[0m \u001B[32m━━━━━━━━━━━━━━━━━━━━\u001B[0m\u001B[37m\u001B[0m \u001B[1m23s\u001B[0m 48ms/step - AUC: 0.8443 - loss: 0.2571 - val_AUC: 0.8909 - val_loss: 1.5145\n",
      "Epoch 33/50\n",
      "\u001B[1m485/485\u001B[0m \u001B[32m━━━━━━━━━━━━━━━━━━━━\u001B[0m\u001B[37m\u001B[0m \u001B[1m24s\u001B[0m 49ms/step - AUC: 0.8776 - loss: 0.2621 - val_AUC: 0.8843 - val_loss: 0.9227\n",
      "Epoch 34/50\n",
      "\u001B[1m485/485\u001B[0m \u001B[32m━━━━━━━━━━━━━━━━━━━━\u001B[0m\u001B[37m\u001B[0m \u001B[1m24s\u001B[0m 50ms/step - AUC: 0.8766 - loss: 0.2468 - val_AUC: 0.8810 - val_loss: 0.3897\n",
      "Epoch 35/50\n",
      "\u001B[1m485/485\u001B[0m \u001B[32m━━━━━━━━━━━━━━━━━━━━\u001B[0m\u001B[37m\u001B[0m \u001B[1m27s\u001B[0m 55ms/step - AUC: 0.8748 - loss: 0.2408 - val_AUC: 0.8846 - val_loss: 0.2651\n",
      "Epoch 36/50\n",
      "\u001B[1m485/485\u001B[0m \u001B[32m━━━━━━━━━━━━━━━━━━━━\u001B[0m\u001B[37m\u001B[0m \u001B[1m33s\u001B[0m 68ms/step - AUC: 0.8838 - loss: 0.2382 - val_AUC: 0.8350 - val_loss: 0.4897\n",
      "Epoch 37/50\n",
      "\u001B[1m485/485\u001B[0m \u001B[32m━━━━━━━━━━━━━━━━━━━━\u001B[0m\u001B[37m\u001B[0m \u001B[1m30s\u001B[0m 62ms/step - AUC: 0.8782 - loss: 0.2453 - val_AUC: 0.8846 - val_loss: 0.2391\n",
      "Epoch 38/50\n",
      "\u001B[1m485/485\u001B[0m \u001B[32m━━━━━━━━━━━━━━━━━━━━\u001B[0m\u001B[37m\u001B[0m \u001B[1m30s\u001B[0m 62ms/step - AUC: 0.8727 - loss: 0.2510 - val_AUC: 0.8820 - val_loss: 0.6034\n",
      "Epoch 39/50\n",
      "\u001B[1m485/485\u001B[0m \u001B[32m━━━━━━━━━━━━━━━━━━━━\u001B[0m\u001B[37m\u001B[0m \u001B[1m31s\u001B[0m 63ms/step - AUC: 0.8780 - loss: 0.2395 - val_AUC: 0.8517 - val_loss: 0.3253\n",
      "Epoch 40/50\n",
      "\u001B[1m485/485\u001B[0m \u001B[32m━━━━━━━━━━━━━━━━━━━━\u001B[0m\u001B[37m\u001B[0m \u001B[1m30s\u001B[0m 61ms/step - AUC: 0.8806 - loss: 0.2447 - val_AUC: 0.8775 - val_loss: 0.2504\n",
      "Epoch 41/50\n",
      "\u001B[1m485/485\u001B[0m \u001B[32m━━━━━━━━━━━━━━━━━━━━\u001B[0m\u001B[37m\u001B[0m \u001B[1m29s\u001B[0m 60ms/step - AUC: 0.8765 - loss: 0.2395 - val_AUC: 0.8897 - val_loss: 0.2576\n",
      "Epoch 42/50\n",
      "\u001B[1m485/485\u001B[0m \u001B[32m━━━━━━━━━━━━━━━━━━━━\u001B[0m\u001B[37m\u001B[0m \u001B[1m30s\u001B[0m 62ms/step - AUC: 0.8692 - loss: 0.2571 - val_AUC: 0.8852 - val_loss: 0.2391\n",
      "Epoch 43/50\n",
      "\u001B[1m485/485\u001B[0m \u001B[32m━━━━━━━━━━━━━━━━━━━━\u001B[0m\u001B[37m\u001B[0m \u001B[1m30s\u001B[0m 63ms/step - AUC: 0.8768 - loss: 0.2460 - val_AUC: 0.8837 - val_loss: 0.7178\n",
      "Epoch 44/50\n",
      "\u001B[1m485/485\u001B[0m \u001B[32m━━━━━━━━━━━━━━━━━━━━\u001B[0m\u001B[37m\u001B[0m \u001B[1m30s\u001B[0m 63ms/step - AUC: 0.8787 - loss: 0.2374 - val_AUC: 0.8894 - val_loss: 0.2503\n",
      "Epoch 45/50\n",
      "\u001B[1m485/485\u001B[0m \u001B[32m━━━━━━━━━━━━━━━━━━━━\u001B[0m\u001B[37m\u001B[0m \u001B[1m31s\u001B[0m 63ms/step - AUC: 0.8810 - loss: 0.2447 - val_AUC: 0.8803 - val_loss: 0.3763\n",
      "Epoch 46/50\n",
      "\u001B[1m485/485\u001B[0m \u001B[32m━━━━━━━━━━━━━━━━━━━━\u001B[0m\u001B[37m\u001B[0m \u001B[1m30s\u001B[0m 62ms/step - AUC: 0.8790 - loss: 0.2401 - val_AUC: 0.8854 - val_loss: 0.3060\n",
      "Epoch 47/50\n",
      "\u001B[1m485/485\u001B[0m \u001B[32m━━━━━━━━━━━━━━━━━━━━\u001B[0m\u001B[37m\u001B[0m \u001B[1m30s\u001B[0m 62ms/step - AUC: 0.8693 - loss: 0.2453 - val_AUC: 0.8752 - val_loss: 1.2880\n",
      "Epoch 48/50\n",
      "\u001B[1m485/485\u001B[0m \u001B[32m━━━━━━━━━━━━━━━━━━━━\u001B[0m\u001B[37m\u001B[0m \u001B[1m28s\u001B[0m 58ms/step - AUC: 0.8663 - loss: 0.2551 - val_AUC: 0.8756 - val_loss: 0.2600\n",
      "Epoch 49/50\n",
      "\u001B[1m485/485\u001B[0m \u001B[32m━━━━━━━━━━━━━━━━━━━━\u001B[0m\u001B[37m\u001B[0m \u001B[1m28s\u001B[0m 58ms/step - AUC: 0.8749 - loss: 0.2415 - val_AUC: 0.8830 - val_loss: 0.2631\n",
      "Epoch 50/50\n",
      "\u001B[1m485/485\u001B[0m \u001B[32m━━━━━━━━━━━━━━━━━━━━\u001B[0m\u001B[37m\u001B[0m \u001B[1m29s\u001B[0m 59ms/step - AUC: 0.8713 - loss: 0.2488 - val_AUC: 0.8794 - val_loss: 0.2498\n"
     ]
    }
   ],
   "execution_count": 47
  },
  {
   "metadata": {
    "ExecuteTime": {
     "end_time": "2024-08-17T20:24:04.176497Z",
     "start_time": "2024-08-17T20:24:02.498139Z"
    }
   },
   "cell_type": "code",
   "source": [
    "# Evaluate the model on the test set\n",
    "test_loss, test_auc = model_gru.evaluate(X_test, y_test)\n",
    "print(f'Test AUC: {test_auc}')"
   ],
   "id": "27811dae0ef273ee",
   "outputs": [
    {
     "name": "stdout",
     "output_type": "stream",
     "text": [
      "\u001B[1m76/76\u001B[0m \u001B[32m━━━━━━━━━━━━━━━━━━━━\u001B[0m\u001B[37m\u001B[0m \u001B[1m2s\u001B[0m 21ms/step - AUC: 0.8198 - loss: 0.2973\n",
      "Test AUC: 0.8374263048171997\n"
     ]
    }
   ],
   "execution_count": 48
  },
  {
   "metadata": {
    "ExecuteTime": {
     "end_time": "2024-08-17T20:24:04.256010Z",
     "start_time": "2024-08-17T20:24:04.177946Z"
    }
   },
   "cell_type": "code",
   "source": [
    "# Plot training & validation AUC values\n",
    "plt.plot(history.history['AUC'])\n",
    "plt.plot(history.history['val_AUC'])\n",
    "plt.title('Model AUC')\n",
    "plt.ylabel('AUC')\n",
    "plt.xlabel('Epoch')\n",
    "plt.legend(['Train', 'Validation'], loc='upper left')\n",
    "plt.show()"
   ],
   "id": "ccf4985c4f0fd8a8",
   "outputs": [
    {
     "data": {
      "text/plain": [
       "<Figure size 640x480 with 1 Axes>"
      ],
      "image/png": "[encoded data removed]"
     },
     "metadata": {},
     "output_type": "display_data"
    }
   ],
   "execution_count": 49
  }
 ],
 "metadata": {
  "kernelspec": {
   "display_name": "Python 3",
   "language": "python",
   "name": "python3"
  },
  "language_info": {
   "codemirror_mode": {
    "name": "ipython",
    "version": 2
   },
   "file_extension": ".py",
   "mimetype": "text/x-python",
   "name": "python",
   "nbconvert_exporter": "python",
   "pygments_lexer": "ipython2",
   "version": "2.7.6"
  }
 },
 "nbformat": 4,
 "nbformat_minor": 5
}
