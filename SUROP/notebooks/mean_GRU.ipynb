{
 "cells": [
  {
   "metadata": {},
   "cell_type": "markdown",
   "source": "# GRU Model with Mean Imputation",
   "id": "f81bc87dd74298e9"
  },
  {
   "cell_type": "code",
   "id": "initial_id",
   "metadata": {
    "collapsed": true,
    "ExecuteTime": {
     "end_time": "2024-08-22T01:49:13.972125Z",
     "start_time": "2024-08-22T01:49:10.885717Z"
    }
   },
   "source": [
    "import pandas as pd\n",
    "import numpy as np\n",
    "from tensorflow.keras import Model\n",
    "from tensorflow.keras.layers import GRU, Dense, Input, Dropout, BatchNormalization\n",
    "import matplotlib.pyplot as plt\n",
    "from tensorflow.keras.optimizers import Adam\n",
    "from tensorflow.keras.regularizers import l2\n",
    "from sklearn.model_selection import train_test_split"
   ],
   "outputs": [],
   "execution_count": 1
  },
  {
   "metadata": {
    "ExecuteTime": {
     "end_time": "2024-08-22T01:49:14.518796Z",
     "start_time": "2024-08-22T01:49:13.973Z"
    }
   },
   "cell_type": "code",
   "source": [
    "# Load the dataset\n",
    "train_x = pd.read_csv('/Users/mohanyang/Documents/GitHub/SUROP_time_series/SUROP/data/train_x.csv')\n",
    "train_y = pd.read_csv('/Users/mohanyang/Documents/GitHub/SUROP_time_series/SUROP/data/train_y.csv')\n",
    "test_x = pd.read_csv('/Users/mohanyang/Documents/GitHub/SUROP_time_series/SUROP/data/test_x.csv')"
   ],
   "id": "11206d8a00b7cdcc",
   "outputs": [],
   "execution_count": 2
  },
  {
   "metadata": {
    "ExecuteTime": {
     "end_time": "2024-08-22T01:49:14.525934Z",
     "start_time": "2024-08-22T01:49:14.519556Z"
    }
   },
   "cell_type": "code",
   "source": [
    "# Display the first few rows\n",
    "print(train_x.head())\n",
    "print(train_x.shape)"
   ],
   "id": "8848f19ab8badcaf",
   "outputs": [
    {
     "name": "stdout",
     "output_type": "stream",
     "text": [
      "   Hour  ID    Age  Gender  Unit1  Unit2     HR   O2Sat   Temp     SBP  ...  \\\n",
      "0     1   2  66.67     1.0    0.0    1.0  74.78  100.06  35.61  121.68  ...   \n",
      "1     2   2  66.67     1.0    0.0    1.0  74.78  100.06  35.61  121.68  ...   \n",
      "2     3   2  66.67     1.0    0.0    1.0  74.78  100.06  35.61  121.68  ...   \n",
      "3     4   2  66.67     1.0    0.0    1.0  74.78  100.06  35.61  121.68  ...   \n",
      "4     5   2  66.67     1.0    0.0    1.0  84.42   99.58  35.61  114.60  ...   \n",
      "\n",
      "   Phosphate  Potassium  Bilirubin_total  TroponinI    Hct   Hgb  PTT   WBC  \\\n",
      "0        NaN       4.48              NaN        NaN  28.83  9.21  NaN  8.15   \n",
      "1        NaN       4.48              NaN        NaN  28.83  9.21  NaN  8.15   \n",
      "2        NaN       4.48              NaN        NaN  28.83  9.21  NaN  8.15   \n",
      "3        NaN       4.48              NaN        NaN  28.83  9.21  NaN  8.15   \n",
      "4        NaN       4.48              NaN        NaN  28.83  9.21  NaN  8.15   \n",
      "\n",
      "   Fibrinogen  Platelets  \n",
      "0         NaN        NaN  \n",
      "1         NaN        NaN  \n",
      "2         NaN        NaN  \n",
      "3         NaN        NaN  \n",
      "4         NaN        NaN  \n",
      "\n",
      "[5 rows x 40 columns]\n",
      "(482010, 40)\n"
     ]
    }
   ],
   "execution_count": 3
  },
  {
   "metadata": {
    "ExecuteTime": {
     "end_time": "2024-08-22T01:49:14.528358Z",
     "start_time": "2024-08-22T01:49:14.526508Z"
    }
   },
   "cell_type": "code",
   "source": [
    "print(train_y.head())\n",
    "print(train_y.shape)"
   ],
   "id": "780add8981ad9955",
   "outputs": [
    {
     "name": "stdout",
     "output_type": "stream",
     "text": [
      "   ID  Outcome\n",
      "0   2        0\n",
      "1   3        0\n",
      "2   5        1\n",
      "3   6        0\n",
      "4  13        0\n",
      "(12115, 2)\n"
     ]
    }
   ],
   "execution_count": 4
  },
  {
   "metadata": {
    "ExecuteTime": {
     "end_time": "2024-08-22T01:49:14.539852Z",
     "start_time": "2024-08-22T01:49:14.529698Z"
    }
   },
   "cell_type": "code",
   "source": [
    "max_hours = train_x.groupby('ID')['Hour'].count().max()\n",
    "print(f'Maximum number of hours: {max_hours}')"
   ],
   "id": "48f42e6abd239289",
   "outputs": [
    {
     "name": "stdout",
     "output_type": "stream",
     "text": [
      "Maximum number of hours: 336\n"
     ]
    }
   ],
   "execution_count": 5
  },
  {
   "metadata": {
    "ExecuteTime": {
     "end_time": "2024-08-22T01:49:14.543772Z",
     "start_time": "2024-08-22T01:49:14.540418Z"
    }
   },
   "cell_type": "code",
   "source": [
    "# Get unique person IDs\n",
    "person_ids = train_x['ID'].unique()\n",
    "\n",
    "# Initialize tensors for features, masks, and time intervals\n",
    "num_persons = len(person_ids)\n",
    "num_features = train_x.shape[1] - 2  # excluding 'ID' and 'Hour' columns"
   ],
   "id": "64be0cb97c0c0bf3",
   "outputs": [],
   "execution_count": 6
  },
  {
   "metadata": {
    "ExecuteTime": {
     "end_time": "2024-08-22T01:49:14.547960Z",
     "start_time": "2024-08-22T01:49:14.544359Z"
    }
   },
   "cell_type": "code",
   "source": "person_ids",
   "id": "4a7175c1c823f814",
   "outputs": [
    {
     "data": {
      "text/plain": [
       "array([    2,     3,     5, ..., 21630, 21632, 21633])"
      ]
     },
     "execution_count": 7,
     "metadata": {},
     "output_type": "execute_result"
    }
   ],
   "execution_count": 7
  },
  {
   "metadata": {
    "ExecuteTime": {
     "end_time": "2024-08-22T01:49:14.573699Z",
     "start_time": "2024-08-22T01:49:14.555823Z"
    }
   },
   "cell_type": "code",
   "source": [
    "#Initialize tensors\n",
    "X_tensor = np.zeros((num_persons, max_hours, num_features+1))"
   ],
   "id": "845478173d527d86",
   "outputs": [],
   "execution_count": 8
  },
  {
   "metadata": {
    "ExecuteTime": {
     "end_time": "2024-08-22T01:49:17.886839Z",
     "start_time": "2024-08-22T01:49:14.574831Z"
    }
   },
   "cell_type": "code",
   "source": [
    "for i, person_id in enumerate(person_ids):\n",
    "    person_data = train_x[train_x['ID'] == person_id].sort_values('Hour')\n",
    "    hours = person_data['Hour'].values\n",
    "    features = person_data.drop(columns=['ID']).values\n",
    "    \n",
    "    # Fill X_tensor\n",
    "    X_tensor[i, :len(hours), :] = features"
   ],
   "id": "bfd4c27fb4e6951a",
   "outputs": [],
   "execution_count": 9
  },
  {
   "metadata": {
    "ExecuteTime": {
     "end_time": "2024-08-22T01:49:17.890321Z",
     "start_time": "2024-08-22T01:49:17.887586Z"
    }
   },
   "cell_type": "code",
   "source": "X_tensor",
   "id": "cb9e167e59aed66a",
   "outputs": [
    {
     "data": {
      "text/plain": [
       "array([[[  1.  ,  66.67,   1.  , ...,   8.15,    nan,    nan],\n",
       "        [  2.  ,  66.67,   1.  , ...,   8.15,    nan,    nan],\n",
       "        [  3.  ,  66.67,   1.  , ...,   8.15,    nan,    nan],\n",
       "        ...,\n",
       "        [  0.  ,   0.  ,   0.  , ...,   0.  ,   0.  ,   0.  ],\n",
       "        [  0.  ,   0.  ,   0.  , ...,   0.  ,   0.  ,   0.  ],\n",
       "        [  0.  ,   0.  ,   0.  , ...,   0.  ,   0.  ,   0.  ]],\n",
       "\n",
       "       [[  1.  ,  79.74,   0.  , ...,   6.82, 267.01, 281.18],\n",
       "        [  2.  ,  79.74,   0.  , ...,   6.82, 267.01, 281.18],\n",
       "        [  3.  ,  79.74,   0.  , ...,   6.82, 267.01, 281.18],\n",
       "        ...,\n",
       "        [  0.  ,   0.  ,   0.  , ...,   0.  ,   0.  ,   0.  ],\n",
       "        [  0.  ,   0.  ,   0.  , ...,   0.  ,   0.  ,   0.  ],\n",
       "        [  0.  ,   0.  ,   0.  , ...,   0.  ,   0.  ,   0.  ]],\n",
       "\n",
       "       [[  1.  ,  60.74,   1.  , ...,  12.45,    nan,  84.77],\n",
       "        [  2.  ,  60.74,   1.  , ...,  12.45,    nan,  84.77],\n",
       "        [  3.  ,  60.74,   1.  , ...,  12.45,    nan,  84.77],\n",
       "        ...,\n",
       "        [  0.  ,   0.  ,   0.  , ...,   0.  ,   0.  ,   0.  ],\n",
       "        [  0.  ,   0.  ,   0.  , ...,   0.  ,   0.  ,   0.  ],\n",
       "        [  0.  ,   0.  ,   0.  , ...,   0.  ,   0.  ,   0.  ]],\n",
       "\n",
       "       ...,\n",
       "\n",
       "       [[  1.  ,  65.41,   1.  , ...,  21.87,    nan, 303.89],\n",
       "        [  2.  ,  65.41,   1.  , ...,  21.87,    nan, 303.89],\n",
       "        [  3.  ,  65.41,   1.  , ...,  21.87,    nan, 303.89],\n",
       "        ...,\n",
       "        [  0.  ,   0.  ,   0.  , ...,   0.  ,   0.  ,   0.  ],\n",
       "        [  0.  ,   0.  ,   0.  , ...,   0.  ,   0.  ,   0.  ],\n",
       "        [  0.  ,   0.  ,   0.  , ...,   0.  ,   0.  ,   0.  ]],\n",
       "\n",
       "       [[  1.  ,  58.61,   1.  , ...,  45.9 ,    nan, 302.32],\n",
       "        [  2.  ,  58.61,   1.  , ...,  45.9 ,    nan, 302.32],\n",
       "        [  3.  ,  58.61,   1.  , ...,  45.9 ,    nan, 302.32],\n",
       "        ...,\n",
       "        [  0.  ,   0.  ,   0.  , ...,   0.  ,   0.  ,   0.  ],\n",
       "        [  0.  ,   0.  ,   0.  , ...,   0.  ,   0.  ,   0.  ],\n",
       "        [  0.  ,   0.  ,   0.  , ...,   0.  ,   0.  ,   0.  ]],\n",
       "\n",
       "       [[  1.  ,  58.58,   1.  , ...,  17.02,    nan, 167.  ],\n",
       "        [  2.  ,  58.58,   1.  , ...,  17.02,    nan, 167.  ],\n",
       "        [  3.  ,  58.58,   1.  , ...,  17.02,    nan, 167.  ],\n",
       "        ...,\n",
       "        [  0.  ,   0.  ,   0.  , ...,   0.  ,   0.  ,   0.  ],\n",
       "        [  0.  ,   0.  ,   0.  , ...,   0.  ,   0.  ,   0.  ],\n",
       "        [  0.  ,   0.  ,   0.  , ...,   0.  ,   0.  ,   0.  ]]])"
      ]
     },
     "execution_count": 10,
     "metadata": {},
     "output_type": "execute_result"
    }
   ],
   "execution_count": 10
  },
  {
   "metadata": {
    "ExecuteTime": {
     "end_time": "2024-08-22T01:49:17.892413Z",
     "start_time": "2024-08-22T01:49:17.890892Z"
    }
   },
   "cell_type": "code",
   "source": "print(X_tensor.shape)",
   "id": "91fa8ed6cceb3e8c",
   "outputs": [
    {
     "name": "stdout",
     "output_type": "stream",
     "text": [
      "(12115, 336, 39)\n"
     ]
    }
   ],
   "execution_count": 11
  },
  {
   "metadata": {
    "ExecuteTime": {
     "end_time": "2024-08-22T01:49:18.665960Z",
     "start_time": "2024-08-22T01:49:17.892988Z"
    }
   },
   "cell_type": "code",
   "source": [
    "# Ensure train_y is aligned with X_tensor\n",
    "labels = np.zeros(len(person_ids))\n",
    "\n",
    "for i, person_id in enumerate(person_ids):\n",
    "    if person_id in train_y['ID'].values:\n",
    "        labels[i] = train_y[train_y['ID'] == person_id]['Outcome'].values[0]\n",
    "\n",
    "print(labels.shape)"
   ],
   "id": "41512dbd553e7a9c",
   "outputs": [
    {
     "name": "stdout",
     "output_type": "stream",
     "text": [
      "(12115,)\n"
     ]
    }
   ],
   "execution_count": 12
  },
  {
   "metadata": {
    "ExecuteTime": {
     "end_time": "2024-08-22T01:49:18.950674Z",
     "start_time": "2024-08-22T01:49:18.666576Z"
    }
   },
   "cell_type": "code",
   "source": [
    "# Split the data into training and test sets\n",
    "X_train, X_test, y_train, y_test = train_test_split(\n",
    "    X_tensor, labels, test_size=0.2, random_state=10\n",
    ")"
   ],
   "id": "aa7a4b86aa34fa65",
   "outputs": [],
   "execution_count": 13
  },
  {
   "metadata": {
    "ExecuteTime": {
     "end_time": "2024-08-22T01:49:18.955603Z",
     "start_time": "2024-08-22T01:49:18.953579Z"
    }
   },
   "cell_type": "code",
   "source": [
    "def mean_imputation(data):\n",
    "    # Calculate the mean for each feature across all patients and all timestamps, ignoring NaNs\n",
    "    means = np.nanmean(data, axis=(0, 1))  # shape (38,)\n",
    "\n",
    "    # Broadcast the means to match the shape of the data\n",
    "    indices = np.where(np.isnan(data))\n",
    "    data[indices] = np.take(means, indices[2])  # indices[2] corresponds to the feature dimension\n",
    "    \n",
    "    return data"
   ],
   "id": "483264b001032c60",
   "outputs": [],
   "execution_count": 14
  },
  {
   "metadata": {
    "ExecuteTime": {
     "end_time": "2024-08-22T01:49:19.773193Z",
     "start_time": "2024-08-22T01:49:18.956141Z"
    }
   },
   "cell_type": "code",
   "source": [
    "# Replace NaNs with each feature's mean in X_train\n",
    "X_train_mean_imputed = mean_imputation(X_train)"
   ],
   "id": "6bd73a5015987496",
   "outputs": [],
   "execution_count": 15
  },
  {
   "metadata": {
    "ExecuteTime": {
     "end_time": "2024-08-22T01:49:19.776423Z",
     "start_time": "2024-08-22T01:49:19.774053Z"
    }
   },
   "cell_type": "code",
   "source": [
    "def create_gru_model(input_shape, learning_rate=0.001, dropout_rate=0.2, regularization_factor=0.001):\n",
    "    x_input = Input(shape=input_shape)\n",
    "    \n",
    "    # GRU layers with dropout, batch normalization, and regularization\n",
    "    gru_output = GRU(units=128, return_sequences=False, kernel_regularizer=l2(regularization_factor))(x_input)\n",
    "    gru_output = BatchNormalization()(gru_output)\n",
    "    gru_output = Dropout(dropout_rate)(gru_output)\n",
    "    \n",
    "    # Output layer\n",
    "    output = Dense(1, activation='sigmoid', kernel_regularizer=l2(regularization_factor))(gru_output)\n",
    "    \n",
    "    # Create model\n",
    "    model = Model(inputs=x_input, outputs=output)\n",
    "    \n",
    "    # Create an Adam optimizer with a custom learning rate\n",
    "    optimizer = Adam(learning_rate=learning_rate)\n",
    "    \n",
    "    # Compile the model with the custom optimizer\n",
    "    model.compile(optimizer=optimizer, loss='binary_crossentropy', metrics=['AUC', 'accuracy'])\n",
    "    \n",
    "    return model"
   ],
   "id": "2bfb383c98669ac7",
   "outputs": [],
   "execution_count": 16
  },
  {
   "metadata": {
    "ExecuteTime": {
     "end_time": "2024-08-22T02:21:04.700332Z",
     "start_time": "2024-08-22T01:49:19.776925Z"
    }
   },
   "cell_type": "code",
   "source": [
    "%%capture\n",
    "input_shape = (max_hours, num_features+1)\n",
    "model_gru_mean = create_gru_model(input_shape)\n",
    "\n",
    "history = model_gru_mean.fit(X_train_mean_imputed, y_train, epochs=50, batch_size=16, validation_split=0.2)"
   ],
   "id": "f4835b82f9e12bed",
   "outputs": [],
   "execution_count": 17
  },
  {
   "metadata": {
    "ExecuteTime": {
     "end_time": "2024-08-22T02:21:06.920318Z",
     "start_time": "2024-08-22T02:21:04.701674Z"
    }
   },
   "cell_type": "code",
   "source": [
    "# Evaluate the model on the test set\n",
    "X_test_filled = np.nan_to_num(X_test)\n",
    "test_loss, test_auc, test_accuracy = model_gru_mean.evaluate(X_test_filled, y_test)\n",
    "print(f'Test AUC: {test_auc}')\n",
    "print(f'Test Accuracy: {test_accuracy:.4f}')"
   ],
   "id": "27811dae0ef273ee",
   "outputs": [
    {
     "name": "stdout",
     "output_type": "stream",
     "text": [
      "\u001B[1m76/76\u001B[0m \u001B[32m━━━━━━━━━━━━━━━━━━━━\u001B[0m\u001B[37m\u001B[0m \u001B[1m2s\u001B[0m 27ms/step - AUC: 0.7496 - accuracy: 0.9116 - loss: 0.3458\n",
      "Test AUC: 0.778258204460144\n",
      "Test Accuracy: 0.9146\n"
     ]
    }
   ],
   "execution_count": 18
  },
  {
   "metadata": {
    "ExecuteTime": {
     "end_time": "2024-08-22T02:21:06.997720Z",
     "start_time": "2024-08-22T02:21:06.920871Z"
    }
   },
   "cell_type": "code",
   "source": [
    "# Plot training & validation AUC values\n",
    "plt.plot(history.history['AUC'])\n",
    "plt.plot(history.history['val_AUC'])\n",
    "plt.title('Model AUC')\n",
    "plt.ylabel('AUC')\n",
    "plt.xlabel('Epoch')\n",
    "plt.legend(['Train', 'Validation'], loc='upper left')\n",
    "plt.show()"
   ],
   "id": "ccf4985c4f0fd8a8",
   "outputs": [
    {
     "data": {
      "text/plain": [
       "<Figure size 640x480 with 1 Axes>"
      ],
      "image/png": "[encoded data removed]"
     },
     "metadata": {},
     "output_type": "display_data"
    }
   ],
   "execution_count": 19
  }
 ],
 "metadata": {
  "kernelspec": {
   "display_name": "Python 3",
   "language": "python",
   "name": "python3"
  },
  "language_info": {
   "codemirror_mode": {
    "name": "ipython",
    "version": 2
   },
   "file_extension": ".py",
   "mimetype": "text/x-python",
   "name": "python",
   "nbconvert_exporter": "python",
   "pygments_lexer": "ipython2",
   "version": "2.7.6"
  }
 },
 "nbformat": 4,
 "nbformat_minor": 5
}
