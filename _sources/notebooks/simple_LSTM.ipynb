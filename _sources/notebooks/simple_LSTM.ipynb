{
 "cells": [
  {
   "metadata": {},
   "cell_type": "markdown",
   "source": "# Simple LSTM Model",
   "id": "f17e1f66e5cf8dfa"
  },
  {
   "cell_type": "code",
   "id": "initial_id",
   "metadata": {
    "collapsed": true,
    "ExecuteTime": {
     "end_time": "2024-08-21T00:15:54.595659Z",
     "start_time": "2024-08-21T00:15:52.309505Z"
    }
   },
   "source": [
    "import pandas as pd\n",
    "import numpy as np\n",
    "from tensorflow.keras import Model\n",
    "from tensorflow.keras.layers import LSTM, Dense, Input, Dropout, BatchNormalization\n",
    "import matplotlib.pyplot as plt\n",
    "from tensorflow.keras.optimizers import Adam\n",
    "from tensorflow.keras.regularizers import l2\n",
    "from sklearn.model_selection import train_test_split"
   ],
   "outputs": [],
   "execution_count": 1
  },
  {
   "metadata": {
    "ExecuteTime": {
     "end_time": "2024-08-21T00:15:55.227314Z",
     "start_time": "2024-08-21T00:15:54.596549Z"
    }
   },
   "cell_type": "code",
   "source": [
    "# Load the dataset\n",
    "train_x = pd.read_csv('/Users/mohanyang/Documents/GitHub/SUROP_time_series/SUROP/data/train_x.csv')\n",
    "train_y = pd.read_csv('/Users/mohanyang/Documents/GitHub/SUROP_time_series/SUROP/data/train_y.csv')\n",
    "test_x = pd.read_csv('/Users/mohanyang/Documents/GitHub/SUROP_time_series/SUROP/data/test_x.csv')"
   ],
   "id": "11206d8a00b7cdcc",
   "outputs": [],
   "execution_count": 2
  },
  {
   "metadata": {
    "ExecuteTime": {
     "end_time": "2024-08-21T00:15:55.233308Z",
     "start_time": "2024-08-21T00:15:55.227914Z"
    }
   },
   "cell_type": "code",
   "source": [
    "# Display the first few rows\n",
    "print(train_x.head())\n",
    "print(train_x.shape)"
   ],
   "id": "8848f19ab8badcaf",
   "outputs": [
    {
     "name": "stdout",
     "output_type": "stream",
     "text": [
      "   Hour  ID    Age  Gender  Unit1  Unit2     HR   O2Sat   Temp     SBP  ...  \\\n",
      "0     1   2  66.67     1.0    0.0    1.0  74.78  100.06  35.61  121.68  ...   \n",
      "1     2   2  66.67     1.0    0.0    1.0  74.78  100.06  35.61  121.68  ...   \n",
      "2     3   2  66.67     1.0    0.0    1.0  74.78  100.06  35.61  121.68  ...   \n",
      "3     4   2  66.67     1.0    0.0    1.0  74.78  100.06  35.61  121.68  ...   \n",
      "4     5   2  66.67     1.0    0.0    1.0  84.42   99.58  35.61  114.60  ...   \n",
      "\n",
      "   Phosphate  Potassium  Bilirubin_total  TroponinI    Hct   Hgb  PTT   WBC  \\\n",
      "0        NaN       4.48              NaN        NaN  28.83  9.21  NaN  8.15   \n",
      "1        NaN       4.48              NaN        NaN  28.83  9.21  NaN  8.15   \n",
      "2        NaN       4.48              NaN        NaN  28.83  9.21  NaN  8.15   \n",
      "3        NaN       4.48              NaN        NaN  28.83  9.21  NaN  8.15   \n",
      "4        NaN       4.48              NaN        NaN  28.83  9.21  NaN  8.15   \n",
      "\n",
      "   Fibrinogen  Platelets  \n",
      "0         NaN        NaN  \n",
      "1         NaN        NaN  \n",
      "2         NaN        NaN  \n",
      "3         NaN        NaN  \n",
      "4         NaN        NaN  \n",
      "\n",
      "[5 rows x 40 columns]\n",
      "(482010, 40)\n"
     ]
    }
   ],
   "execution_count": 3
  },
  {
   "metadata": {
    "ExecuteTime": {
     "end_time": "2024-08-21T00:15:55.236595Z",
     "start_time": "2024-08-21T00:15:55.234031Z"
    }
   },
   "cell_type": "code",
   "source": [
    "print(train_y.head())\n",
    "print(train_y.shape)"
   ],
   "id": "780add8981ad9955",
   "outputs": [
    {
     "name": "stdout",
     "output_type": "stream",
     "text": [
      "   ID  Outcome\n",
      "0   2        0\n",
      "1   3        0\n",
      "2   5        1\n",
      "3   6        0\n",
      "4  13        0\n",
      "(12115, 2)\n"
     ]
    }
   ],
   "execution_count": 4
  },
  {
   "metadata": {
    "ExecuteTime": {
     "end_time": "2024-08-21T00:15:55.254487Z",
     "start_time": "2024-08-21T00:15:55.238673Z"
    }
   },
   "cell_type": "code",
   "source": [
    "max_hours = train_x.groupby('ID')['Hour'].count().max()\n",
    "print(f'Maximum number of hours: {max_hours}')"
   ],
   "id": "48f42e6abd239289",
   "outputs": [
    {
     "name": "stdout",
     "output_type": "stream",
     "text": [
      "Maximum number of hours: 336\n"
     ]
    }
   ],
   "execution_count": 5
  },
  {
   "metadata": {
    "ExecuteTime": {
     "end_time": "2024-08-21T00:15:55.258713Z",
     "start_time": "2024-08-21T00:15:55.255118Z"
    }
   },
   "cell_type": "code",
   "source": [
    "# Get unique person IDs\n",
    "person_ids = train_x['ID'].unique()\n",
    "\n",
    "# Initialize tensors for features, masks, and time intervals\n",
    "num_persons = len(person_ids)\n",
    "num_features = train_x.shape[1] - 2  # excluding 'ID' and 'Hour' columns"
   ],
   "id": "64be0cb97c0c0bf3",
   "outputs": [],
   "execution_count": 6
  },
  {
   "metadata": {
    "ExecuteTime": {
     "end_time": "2024-08-21T00:15:55.262101Z",
     "start_time": "2024-08-21T00:15:55.259269Z"
    }
   },
   "cell_type": "code",
   "source": "person_ids",
   "id": "4a7175c1c823f814",
   "outputs": [
    {
     "data": {
      "text/plain": [
       "array([    2,     3,     5, ..., 21630, 21632, 21633])"
      ]
     },
     "execution_count": 7,
     "metadata": {},
     "output_type": "execute_result"
    }
   ],
   "execution_count": 7
  },
  {
   "metadata": {
    "ExecuteTime": {
     "end_time": "2024-08-21T00:15:55.264120Z",
     "start_time": "2024-08-21T00:15:55.262676Z"
    }
   },
   "cell_type": "code",
   "source": [
    "#Initialize tensors\n",
    "X_tensor = np.zeros((num_persons, max_hours, num_features+1))"
   ],
   "id": "845478173d527d86",
   "outputs": [],
   "execution_count": 8
  },
  {
   "metadata": {
    "ExecuteTime": {
     "end_time": "2024-08-21T00:15:59.065316Z",
     "start_time": "2024-08-21T00:15:55.264573Z"
    }
   },
   "cell_type": "code",
   "source": [
    "for i, person_id in enumerate(person_ids):\n",
    "    person_data = train_x[train_x['ID'] == person_id].sort_values('Hour')\n",
    "    hours = person_data['Hour'].values\n",
    "    features = person_data.drop(columns=['ID']).values\n",
    "    \n",
    "    # Fill X_tensor\n",
    "    X_tensor[i, :len(hours), :] = features"
   ],
   "id": "bfd4c27fb4e6951a",
   "outputs": [],
   "execution_count": 9
  },
  {
   "metadata": {
    "ExecuteTime": {
     "end_time": "2024-08-21T00:15:59.068905Z",
     "start_time": "2024-08-21T00:15:59.066042Z"
    }
   },
   "cell_type": "code",
   "source": "X_tensor",
   "id": "cb9e167e59aed66a",
   "outputs": [
    {
     "data": {
      "text/plain": [
       "array([[[  1.  ,  66.67,   1.  , ...,   8.15,    nan,    nan],\n",
       "        [  2.  ,  66.67,   1.  , ...,   8.15,    nan,    nan],\n",
       "        [  3.  ,  66.67,   1.  , ...,   8.15,    nan,    nan],\n",
       "        ...,\n",
       "        [  0.  ,   0.  ,   0.  , ...,   0.  ,   0.  ,   0.  ],\n",
       "        [  0.  ,   0.  ,   0.  , ...,   0.  ,   0.  ,   0.  ],\n",
       "        [  0.  ,   0.  ,   0.  , ...,   0.  ,   0.  ,   0.  ]],\n",
       "\n",
       "       [[  1.  ,  79.74,   0.  , ...,   6.82, 267.01, 281.18],\n",
       "        [  2.  ,  79.74,   0.  , ...,   6.82, 267.01, 281.18],\n",
       "        [  3.  ,  79.74,   0.  , ...,   6.82, 267.01, 281.18],\n",
       "        ...,\n",
       "        [  0.  ,   0.  ,   0.  , ...,   0.  ,   0.  ,   0.  ],\n",
       "        [  0.  ,   0.  ,   0.  , ...,   0.  ,   0.  ,   0.  ],\n",
       "        [  0.  ,   0.  ,   0.  , ...,   0.  ,   0.  ,   0.  ]],\n",
       "\n",
       "       [[  1.  ,  60.74,   1.  , ...,  12.45,    nan,  84.77],\n",
       "        [  2.  ,  60.74,   1.  , ...,  12.45,    nan,  84.77],\n",
       "        [  3.  ,  60.74,   1.  , ...,  12.45,    nan,  84.77],\n",
       "        ...,\n",
       "        [  0.  ,   0.  ,   0.  , ...,   0.  ,   0.  ,   0.  ],\n",
       "        [  0.  ,   0.  ,   0.  , ...,   0.  ,   0.  ,   0.  ],\n",
       "        [  0.  ,   0.  ,   0.  , ...,   0.  ,   0.  ,   0.  ]],\n",
       "\n",
       "       ...,\n",
       "\n",
       "       [[  1.  ,  65.41,   1.  , ...,  21.87,    nan, 303.89],\n",
       "        [  2.  ,  65.41,   1.  , ...,  21.87,    nan, 303.89],\n",
       "        [  3.  ,  65.41,   1.  , ...,  21.87,    nan, 303.89],\n",
       "        ...,\n",
       "        [  0.  ,   0.  ,   0.  , ...,   0.  ,   0.  ,   0.  ],\n",
       "        [  0.  ,   0.  ,   0.  , ...,   0.  ,   0.  ,   0.  ],\n",
       "        [  0.  ,   0.  ,   0.  , ...,   0.  ,   0.  ,   0.  ]],\n",
       "\n",
       "       [[  1.  ,  58.61,   1.  , ...,  45.9 ,    nan, 302.32],\n",
       "        [  2.  ,  58.61,   1.  , ...,  45.9 ,    nan, 302.32],\n",
       "        [  3.  ,  58.61,   1.  , ...,  45.9 ,    nan, 302.32],\n",
       "        ...,\n",
       "        [  0.  ,   0.  ,   0.  , ...,   0.  ,   0.  ,   0.  ],\n",
       "        [  0.  ,   0.  ,   0.  , ...,   0.  ,   0.  ,   0.  ],\n",
       "        [  0.  ,   0.  ,   0.  , ...,   0.  ,   0.  ,   0.  ]],\n",
       "\n",
       "       [[  1.  ,  58.58,   1.  , ...,  17.02,    nan, 167.  ],\n",
       "        [  2.  ,  58.58,   1.  , ...,  17.02,    nan, 167.  ],\n",
       "        [  3.  ,  58.58,   1.  , ...,  17.02,    nan, 167.  ],\n",
       "        ...,\n",
       "        [  0.  ,   0.  ,   0.  , ...,   0.  ,   0.  ,   0.  ],\n",
       "        [  0.  ,   0.  ,   0.  , ...,   0.  ,   0.  ,   0.  ],\n",
       "        [  0.  ,   0.  ,   0.  , ...,   0.  ,   0.  ,   0.  ]]])"
      ]
     },
     "execution_count": 10,
     "metadata": {},
     "output_type": "execute_result"
    }
   ],
   "execution_count": 10
  },
  {
   "metadata": {
    "ExecuteTime": {
     "end_time": "2024-08-21T00:16:00.350946Z",
     "start_time": "2024-08-21T00:15:59.069723Z"
    }
   },
   "cell_type": "code",
   "source": [
    "# Replace NaNs with zeros in X_tensor\n",
    "X_tensor = np.nan_to_num(X_tensor)\n",
    "\n",
    "print(X_tensor.shape)"
   ],
   "id": "91fa8ed6cceb3e8c",
   "outputs": [
    {
     "name": "stdout",
     "output_type": "stream",
     "text": [
      "(12115, 336, 39)\n"
     ]
    }
   ],
   "execution_count": 11
  },
  {
   "metadata": {
    "ExecuteTime": {
     "end_time": "2024-08-21T00:16:01.224638Z",
     "start_time": "2024-08-21T00:16:00.352425Z"
    }
   },
   "cell_type": "code",
   "source": [
    "# Ensure train_y is aligned with X_tensor\n",
    "labels = np.zeros(len(person_ids))\n",
    "\n",
    "for i, person_id in enumerate(person_ids):\n",
    "    if person_id in train_y['ID'].values:\n",
    "        labels[i] = train_y[train_y['ID'] == person_id]['Outcome'].values[0]\n",
    "\n",
    "print(labels.shape)"
   ],
   "id": "41512dbd553e7a9c",
   "outputs": [
    {
     "name": "stdout",
     "output_type": "stream",
     "text": [
      "(12115,)\n"
     ]
    }
   ],
   "execution_count": 12
  },
  {
   "metadata": {
    "ExecuteTime": {
     "end_time": "2024-08-21T00:16:01.548541Z",
     "start_time": "2024-08-21T00:16:01.225395Z"
    }
   },
   "cell_type": "code",
   "source": [
    "# Split the data into training and test sets\n",
    "X_train, X_test, y_train, y_test = train_test_split(\n",
    "    X_tensor, labels, test_size=0.2, random_state=10\n",
    ")"
   ],
   "id": "aa7a4b86aa34fa65",
   "outputs": [],
   "execution_count": 13
  },
  {
   "metadata": {
    "ExecuteTime": {
     "end_time": "2024-08-21T00:16:01.553239Z",
     "start_time": "2024-08-21T00:16:01.550825Z"
    }
   },
   "cell_type": "code",
   "source": [
    "def create_lstm_model(input_shape, learning_rate=0.001, dropout_rate=0.2, regularization_factor=0.001):\n",
    "    x_input = Input(shape=input_shape)\n",
    "    \n",
    "    # LSTM layers with dropout, batch normalization, and regularization\n",
    "    lstm_output = LSTM(units=64, return_sequences=False, kernel_regularizer=l2(regularization_factor))(x_input)\n",
    "    lstm_output = BatchNormalization()(lstm_output)\n",
    "    lstm_output = Dropout(dropout_rate)(lstm_output)\n",
    "    \n",
    "    # Output layer\n",
    "    output = Dense(1, activation='sigmoid', kernel_regularizer=l2(regularization_factor))(lstm_output)\n",
    "    \n",
    "    # Create model\n",
    "    model = Model(inputs=x_input, outputs=output)\n",
    "    \n",
    "    # Create an Adam optimizer with a custom learning rate\n",
    "    optimizer = Adam(learning_rate=learning_rate)\n",
    "    \n",
    "    # Compile the model with the custom optimizer\n",
    "    model.compile(optimizer=optimizer, loss='binary_crossentropy', metrics=['AUC', 'accuracy'])\n",
    "    \n",
    "    return model"
   ],
   "id": "2bfb383c98669ac7",
   "outputs": [],
   "execution_count": 14
  },
  {
   "metadata": {
    "ExecuteTime": {
     "end_time": "2024-08-21T00:30:45.889790Z",
     "start_time": "2024-08-21T00:16:01.553781Z"
    }
   },
   "cell_type": "code",
   "source": [
    "input_shape = (max_hours, num_features+1)\n",
    "model_lstm = create_lstm_model(input_shape)\n",
    "\n",
    "history = model_lstm.fit(X_train, y_train, epochs=50, batch_size=16, validation_split=0.2)"
   ],
   "id": "f4835b82f9e12bed",
   "outputs": [
    {
     "name": "stdout",
     "output_type": "stream",
     "text": [
      "Epoch 1/50\n",
      "\u001B[1m485/485\u001B[0m \u001B[32m━━━━━━━━━━━━━━━━━━━━\u001B[0m\u001B[37m\u001B[0m \u001B[1m18s\u001B[0m 36ms/step - AUC: 0.5049 - accuracy: 0.8629 - loss: 0.5033 - val_AUC: 0.5027 - val_accuracy: 0.8571 - val_loss: 0.4185\n",
      "Epoch 2/50\n",
      "\u001B[1m485/485\u001B[0m \u001B[32m━━━━━━━━━━━━━━━━━━━━\u001B[0m\u001B[37m\u001B[0m \u001B[1m17s\u001B[0m 35ms/step - AUC: 0.4948 - accuracy: 0.8582 - loss: 0.4151 - val_AUC: 0.5081 - val_accuracy: 0.8571 - val_loss: 2.4692\n",
      "Epoch 3/50\n",
      "\u001B[1m485/485\u001B[0m \u001B[32m━━━━━━━━━━━━━━━━━━━━\u001B[0m\u001B[37m\u001B[0m \u001B[1m17s\u001B[0m 35ms/step - AUC: 0.5237 - accuracy: 0.8664 - loss: 0.4015 - val_AUC: 0.5000 - val_accuracy: 0.1429 - val_loss: 24.8233\n",
      "Epoch 4/50\n",
      "\u001B[1m485/485\u001B[0m \u001B[32m━━━━━━━━━━━━━━━━━━━━\u001B[0m\u001B[37m\u001B[0m \u001B[1m17s\u001B[0m 35ms/step - AUC: 0.4925 - accuracy: 0.8619 - loss: 0.4083 - val_AUC: 0.5018 - val_accuracy: 0.8571 - val_loss: 0.4411\n",
      "Epoch 5/50\n",
      "\u001B[1m485/485\u001B[0m \u001B[32m━━━━━━━━━━━━━━━━━━━━\u001B[0m\u001B[37m\u001B[0m \u001B[1m17s\u001B[0m 35ms/step - AUC: 0.5032 - accuracy: 0.8654 - loss: 0.4010 - val_AUC: 0.5051 - val_accuracy: 0.8571 - val_loss: 0.4161\n",
      "Epoch 6/50\n",
      "\u001B[1m485/485\u001B[0m \u001B[32m━━━━━━━━━━━━━━━━━━━━\u001B[0m\u001B[37m\u001B[0m \u001B[1m17s\u001B[0m 35ms/step - AUC: 0.5007 - accuracy: 0.8780 - loss: 0.3753 - val_AUC: 0.5123 - val_accuracy: 0.8577 - val_loss: 0.4154\n",
      "Epoch 7/50\n",
      "\u001B[1m485/485\u001B[0m \u001B[32m━━━━━━━━━━━━━━━━━━━━\u001B[0m\u001B[37m\u001B[0m \u001B[1m17s\u001B[0m 35ms/step - AUC: 0.4826 - accuracy: 0.8593 - loss: 0.4114 - val_AUC: 0.4985 - val_accuracy: 0.1434 - val_loss: 6.4550\n",
      "Epoch 8/50\n",
      "\u001B[1m485/485\u001B[0m \u001B[32m━━━━━━━━━━━━━━━━━━━━\u001B[0m\u001B[37m\u001B[0m \u001B[1m17s\u001B[0m 36ms/step - AUC: 0.4722 - accuracy: 0.8626 - loss: 0.4059 - val_AUC: 0.5030 - val_accuracy: 0.8571 - val_loss: 0.4538\n",
      "Epoch 9/50\n",
      "\u001B[1m485/485\u001B[0m \u001B[32m━━━━━━━━━━━━━━━━━━━━\u001B[0m\u001B[37m\u001B[0m \u001B[1m17s\u001B[0m 35ms/step - AUC: 0.4864 - accuracy: 0.8590 - loss: 0.4120 - val_AUC: 0.5015 - val_accuracy: 0.8577 - val_loss: 0.4643\n",
      "Epoch 10/50\n",
      "\u001B[1m485/485\u001B[0m \u001B[32m━━━━━━━━━━━━━━━━━━━━\u001B[0m\u001B[37m\u001B[0m \u001B[1m17s\u001B[0m 35ms/step - AUC: 0.4980 - accuracy: 0.8656 - loss: 0.3986 - val_AUC: 0.5030 - val_accuracy: 0.8566 - val_loss: 0.6631\n",
      "Epoch 11/50\n",
      "\u001B[1m485/485\u001B[0m \u001B[32m━━━━━━━━━━━━━━━━━━━━\u001B[0m\u001B[37m\u001B[0m \u001B[1m17s\u001B[0m 34ms/step - AUC: 0.5078 - accuracy: 0.8667 - loss: 0.3960 - val_AUC: 0.6740 - val_accuracy: 0.8762 - val_loss: 0.6389\n",
      "Epoch 12/50\n",
      "\u001B[1m485/485\u001B[0m \u001B[32m━━━━━━━━━━━━━━━━━━━━\u001B[0m\u001B[37m\u001B[0m \u001B[1m17s\u001B[0m 35ms/step - AUC: 0.4861 - accuracy: 0.8690 - loss: 0.3923 - val_AUC: 0.5063 - val_accuracy: 0.8566 - val_loss: 0.5039\n",
      "Epoch 13/50\n",
      "\u001B[1m485/485\u001B[0m \u001B[32m━━━━━━━━━━━━━━━━━━━━\u001B[0m\u001B[37m\u001B[0m \u001B[1m17s\u001B[0m 35ms/step - AUC: 0.5090 - accuracy: 0.8716 - loss: 0.3878 - val_AUC: 0.6861 - val_accuracy: 0.1434 - val_loss: 1.8332\n",
      "Epoch 14/50\n",
      "\u001B[1m485/485\u001B[0m \u001B[32m━━━━━━━━━━━━━━━━━━━━\u001B[0m\u001B[37m\u001B[0m \u001B[1m17s\u001B[0m 36ms/step - AUC: 0.6229 - accuracy: 0.8918 - loss: 0.3477 - val_AUC: 0.6764 - val_accuracy: 0.9077 - val_loss: 0.4469\n",
      "Epoch 15/50\n",
      "\u001B[1m485/485\u001B[0m \u001B[32m━━━━━━━━━━━━━━━━━━━━\u001B[0m\u001B[37m\u001B[0m \u001B[1m17s\u001B[0m 35ms/step - AUC: 0.6370 - accuracy: 0.9009 - loss: 0.3283 - val_AUC: 0.5030 - val_accuracy: 0.8571 - val_loss: 0.5550\n",
      "Epoch 16/50\n",
      "\u001B[1m485/485\u001B[0m \u001B[32m━━━━━━━━━━━━━━━━━━━━\u001B[0m\u001B[37m\u001B[0m \u001B[1m17s\u001B[0m 35ms/step - AUC: 0.5067 - accuracy: 0.8585 - loss: 0.4101 - val_AUC: 0.4997 - val_accuracy: 0.8566 - val_loss: 1.7419\n",
      "Epoch 17/50\n",
      "\u001B[1m485/485\u001B[0m \u001B[32m━━━━━━━━━━━━━━━━━━━━\u001B[0m\u001B[37m\u001B[0m \u001B[1m17s\u001B[0m 35ms/step - AUC: 0.5159 - accuracy: 0.8694 - loss: 0.3899 - val_AUC: 0.6743 - val_accuracy: 0.1434 - val_loss: 1.0537\n",
      "Epoch 18/50\n",
      "\u001B[1m485/485\u001B[0m \u001B[32m━━━━━━━━━━━━━━━━━━━━\u001B[0m\u001B[37m\u001B[0m \u001B[1m17s\u001B[0m 34ms/step - AUC: 0.6472 - accuracy: 0.8911 - loss: 0.3431 - val_AUC: 0.6298 - val_accuracy: 0.8871 - val_loss: 0.3774\n",
      "Epoch 19/50\n",
      "\u001B[1m485/485\u001B[0m \u001B[32m━━━━━━━━━━━━━━━━━━━━\u001B[0m\u001B[37m\u001B[0m \u001B[1m17s\u001B[0m 35ms/step - AUC: 0.6378 - accuracy: 0.8853 - loss: 0.3518 - val_AUC: 0.7765 - val_accuracy: 0.9268 - val_loss: 0.3103\n",
      "Epoch 20/50\n",
      "\u001B[1m485/485\u001B[0m \u001B[32m━━━━━━━━━━━━━━━━━━━━\u001B[0m\u001B[37m\u001B[0m \u001B[1m17s\u001B[0m 34ms/step - AUC: 0.7090 - accuracy: 0.9042 - loss: 0.3141 - val_AUC: 0.5785 - val_accuracy: 0.8571 - val_loss: 0.4188\n",
      "Epoch 21/50\n",
      "\u001B[1m485/485\u001B[0m \u001B[32m━━━━━━━━━━━━━━━━━━━━\u001B[0m\u001B[37m\u001B[0m \u001B[1m16s\u001B[0m 34ms/step - AUC: 0.6548 - accuracy: 0.8803 - loss: 0.3550 - val_AUC: 0.6313 - val_accuracy: 0.8814 - val_loss: 0.3841\n",
      "Epoch 22/50\n",
      "\u001B[1m485/485\u001B[0m \u001B[32m━━━━━━━━━━━━━━━━━━━━\u001B[0m\u001B[37m\u001B[0m \u001B[1m17s\u001B[0m 35ms/step - AUC: 0.6080 - accuracy: 0.8756 - loss: 0.3746 - val_AUC: 0.6794 - val_accuracy: 0.8685 - val_loss: 0.4536\n",
      "Epoch 23/50\n",
      "\u001B[1m485/485\u001B[0m \u001B[32m━━━━━━━━━━━━━━━━━━━━\u001B[0m\u001B[37m\u001B[0m \u001B[1m17s\u001B[0m 35ms/step - AUC: 0.5696 - accuracy: 0.8729 - loss: 0.3784 - val_AUC: 0.5815 - val_accuracy: 0.8901 - val_loss: 0.3573\n",
      "Epoch 24/50\n",
      "\u001B[1m485/485\u001B[0m \u001B[32m━━━━━━━━━━━━━━━━━━━━\u001B[0m\u001B[37m\u001B[0m \u001B[1m17s\u001B[0m 36ms/step - AUC: 0.6055 - accuracy: 0.8898 - loss: 0.3486 - val_AUC: 0.6732 - val_accuracy: 0.8762 - val_loss: 0.4078\n",
      "Epoch 25/50\n",
      "\u001B[1m485/485\u001B[0m \u001B[32m━━━━━━━━━━━━━━━━━━━━\u001B[0m\u001B[37m\u001B[0m \u001B[1m17s\u001B[0m 36ms/step - AUC: 0.6022 - accuracy: 0.8961 - loss: 0.3384 - val_AUC: 0.5390 - val_accuracy: 0.9067 - val_loss: 0.3797\n",
      "Epoch 26/50\n",
      "\u001B[1m485/485\u001B[0m \u001B[32m━━━━━━━━━━━━━━━━━━━━\u001B[0m\u001B[37m\u001B[0m \u001B[1m17s\u001B[0m 36ms/step - AUC: 0.6035 - accuracy: 0.8909 - loss: 0.3506 - val_AUC: 0.6072 - val_accuracy: 0.8757 - val_loss: 0.3957\n",
      "Epoch 27/50\n",
      "\u001B[1m485/485\u001B[0m \u001B[32m━━━━━━━━━━━━━━━━━━━━\u001B[0m\u001B[37m\u001B[0m \u001B[1m17s\u001B[0m 35ms/step - AUC: 0.6250 - accuracy: 0.8814 - loss: 0.3650 - val_AUC: 0.6801 - val_accuracy: 0.8706 - val_loss: 0.4639\n",
      "Epoch 28/50\n",
      "\u001B[1m485/485\u001B[0m \u001B[32m━━━━━━━━━━━━━━━━━━━━\u001B[0m\u001B[37m\u001B[0m \u001B[1m17s\u001B[0m 34ms/step - AUC: 0.7398 - accuracy: 0.9019 - loss: 0.3166 - val_AUC: 0.7627 - val_accuracy: 0.9175 - val_loss: 0.3014\n",
      "Epoch 29/50\n",
      "\u001B[1m485/485\u001B[0m \u001B[32m━━━━━━━━━━━━━━━━━━━━\u001B[0m\u001B[37m\u001B[0m \u001B[1m17s\u001B[0m 34ms/step - AUC: 0.7483 - accuracy: 0.9078 - loss: 0.3006 - val_AUC: 0.6795 - val_accuracy: 0.1429 - val_loss: 2.1817\n",
      "Epoch 30/50\n",
      "\u001B[1m485/485\u001B[0m \u001B[32m━━━━━━━━━━━━━━━━━━━━\u001B[0m\u001B[37m\u001B[0m \u001B[1m17s\u001B[0m 35ms/step - AUC: 0.7487 - accuracy: 0.9099 - loss: 0.2885 - val_AUC: 0.7348 - val_accuracy: 0.9061 - val_loss: 0.3000\n",
      "Epoch 31/50\n",
      "\u001B[1m485/485\u001B[0m \u001B[32m━━━━━━━━━━━━━━━━━━━━\u001B[0m\u001B[37m\u001B[0m \u001B[1m17s\u001B[0m 34ms/step - AUC: 0.8140 - accuracy: 0.9224 - loss: 0.2550 - val_AUC: 0.8294 - val_accuracy: 0.9335 - val_loss: 0.2332\n",
      "Epoch 32/50\n",
      "\u001B[1m485/485\u001B[0m \u001B[32m━━━━━━━━━━━━━━━━━━━━\u001B[0m\u001B[37m\u001B[0m \u001B[1m17s\u001B[0m 35ms/step - AUC: 0.8067 - accuracy: 0.9194 - loss: 0.2635 - val_AUC: 0.6259 - val_accuracy: 0.8850 - val_loss: 0.3594\n",
      "Epoch 33/50\n",
      "\u001B[1m485/485\u001B[0m \u001B[32m━━━━━━━━━━━━━━━━━━━━\u001B[0m\u001B[37m\u001B[0m \u001B[1m17s\u001B[0m 35ms/step - AUC: 0.6469 - accuracy: 0.8895 - loss: 0.3439 - val_AUC: 0.6359 - val_accuracy: 0.8824 - val_loss: 0.3584\n",
      "Epoch 34/50\n",
      "\u001B[1m485/485\u001B[0m \u001B[32m━━━━━━━━━━━━━━━━━━━━\u001B[0m\u001B[37m\u001B[0m \u001B[1m17s\u001B[0m 35ms/step - AUC: 0.6499 - accuracy: 0.8872 - loss: 0.3483 - val_AUC: 0.6271 - val_accuracy: 0.8845 - val_loss: 0.3716\n",
      "Epoch 35/50\n",
      "\u001B[1m485/485\u001B[0m \u001B[32m━━━━━━━━━━━━━━━━━━━━\u001B[0m\u001B[37m\u001B[0m \u001B[1m17s\u001B[0m 36ms/step - AUC: 0.7519 - accuracy: 0.9049 - loss: 0.2984 - val_AUC: 0.8464 - val_accuracy: 0.9268 - val_loss: 0.2439\n",
      "Epoch 36/50\n",
      "\u001B[1m485/485\u001B[0m \u001B[32m━━━━━━━━━━━━━━━━━━━━\u001B[0m\u001B[37m\u001B[0m \u001B[1m17s\u001B[0m 36ms/step - AUC: 0.8034 - accuracy: 0.9306 - loss: 0.2439 - val_AUC: 0.7909 - val_accuracy: 0.9293 - val_loss: 0.2623\n",
      "Epoch 37/50\n",
      "\u001B[1m485/485\u001B[0m \u001B[32m━━━━━━━━━━━━━━━━━━━━\u001B[0m\u001B[37m\u001B[0m \u001B[1m17s\u001B[0m 35ms/step - AUC: 0.8113 - accuracy: 0.9272 - loss: 0.2537 - val_AUC: 0.7953 - val_accuracy: 0.9304 - val_loss: 0.2613\n",
      "Epoch 38/50\n",
      "\u001B[1m485/485\u001B[0m \u001B[32m━━━━━━━━━━━━━━━━━━━━\u001B[0m\u001B[37m\u001B[0m \u001B[1m17s\u001B[0m 35ms/step - AUC: 0.7989 - accuracy: 0.9236 - loss: 0.2585 - val_AUC: 0.8349 - val_accuracy: 0.9335 - val_loss: 0.2365\n",
      "Epoch 39/50\n",
      "\u001B[1m485/485\u001B[0m \u001B[32m━━━━━━━━━━━━━━━━━━━━\u001B[0m\u001B[37m\u001B[0m \u001B[1m19s\u001B[0m 39ms/step - AUC: 0.8206 - accuracy: 0.9294 - loss: 0.2463 - val_AUC: 0.8127 - val_accuracy: 0.9257 - val_loss: 0.2647\n",
      "Epoch 40/50\n",
      "\u001B[1m485/485\u001B[0m \u001B[32m━━━━━━━━━━━━━━━━━━━━\u001B[0m\u001B[37m\u001B[0m \u001B[1m20s\u001B[0m 42ms/step - AUC: 0.8434 - accuracy: 0.9304 - loss: 0.2378 - val_AUC: 0.8339 - val_accuracy: 0.9170 - val_loss: 0.2629\n",
      "Epoch 41/50\n",
      "\u001B[1m485/485\u001B[0m \u001B[32m━━━━━━━━━━━━━━━━━━━━\u001B[0m\u001B[37m\u001B[0m \u001B[1m20s\u001B[0m 41ms/step - AUC: 0.8179 - accuracy: 0.9307 - loss: 0.2404 - val_AUC: 0.7957 - val_accuracy: 0.9190 - val_loss: 0.2722\n",
      "Epoch 42/50\n",
      "\u001B[1m485/485\u001B[0m \u001B[32m━━━━━━━━━━━━━━━━━━━━\u001B[0m\u001B[37m\u001B[0m \u001B[1m20s\u001B[0m 41ms/step - AUC: 0.8072 - accuracy: 0.9297 - loss: 0.2450 - val_AUC: 0.8573 - val_accuracy: 0.9376 - val_loss: 0.2354\n",
      "Epoch 43/50\n",
      "\u001B[1m485/485\u001B[0m \u001B[32m━━━━━━━━━━━━━━━━━━━━\u001B[0m\u001B[37m\u001B[0m \u001B[1m20s\u001B[0m 41ms/step - AUC: 0.8307 - accuracy: 0.9343 - loss: 0.2321 - val_AUC: 0.8280 - val_accuracy: 0.9242 - val_loss: 0.2631\n",
      "Epoch 44/50\n",
      "\u001B[1m485/485\u001B[0m \u001B[32m━━━━━━━━━━━━━━━━━━━━\u001B[0m\u001B[37m\u001B[0m \u001B[1m20s\u001B[0m 41ms/step - AUC: 0.8280 - accuracy: 0.9285 - loss: 0.2498 - val_AUC: 0.8557 - val_accuracy: 0.9355 - val_loss: 0.2321\n",
      "Epoch 45/50\n",
      "\u001B[1m485/485\u001B[0m \u001B[32m━━━━━━━━━━━━━━━━━━━━\u001B[0m\u001B[37m\u001B[0m \u001B[1m20s\u001B[0m 41ms/step - AUC: 0.8358 - accuracy: 0.9307 - loss: 0.2402 - val_AUC: 0.8788 - val_accuracy: 0.9293 - val_loss: 0.2265\n",
      "Epoch 46/50\n",
      "\u001B[1m485/485\u001B[0m \u001B[32m━━━━━━━━━━━━━━━━━━━━\u001B[0m\u001B[37m\u001B[0m \u001B[1m20s\u001B[0m 42ms/step - AUC: 0.8372 - accuracy: 0.9339 - loss: 0.2325 - val_AUC: 0.8741 - val_accuracy: 0.9232 - val_loss: 0.2441\n",
      "Epoch 47/50\n",
      "\u001B[1m485/485\u001B[0m \u001B[32m━━━━━━━━━━━━━━━━━━━━\u001B[0m\u001B[37m\u001B[0m \u001B[1m20s\u001B[0m 41ms/step - AUC: 0.8414 - accuracy: 0.9272 - loss: 0.2402 - val_AUC: 0.8573 - val_accuracy: 0.9386 - val_loss: 0.2247\n",
      "Epoch 48/50\n",
      "\u001B[1m485/485\u001B[0m \u001B[32m━━━━━━━━━━━━━━━━━━━━\u001B[0m\u001B[37m\u001B[0m \u001B[1m20s\u001B[0m 40ms/step - AUC: 0.8441 - accuracy: 0.9245 - loss: 0.2446 - val_AUC: 0.8620 - val_accuracy: 0.8881 - val_loss: 0.3268\n",
      "Epoch 49/50\n",
      "\u001B[1m485/485\u001B[0m \u001B[32m━━━━━━━━━━━━━━━━━━━━\u001B[0m\u001B[37m\u001B[0m \u001B[1m20s\u001B[0m 41ms/step - AUC: 0.8280 - accuracy: 0.9300 - loss: 0.2441 - val_AUC: 0.8732 - val_accuracy: 0.9376 - val_loss: 0.2282\n",
      "Epoch 50/50\n",
      "\u001B[1m485/485\u001B[0m \u001B[32m━━━━━━━━━━━━━━━━━━━━\u001B[0m\u001B[37m\u001B[0m \u001B[1m20s\u001B[0m 41ms/step - AUC: 0.8453 - accuracy: 0.9336 - loss: 0.2304 - val_AUC: 0.8861 - val_accuracy: 0.9376 - val_loss: 0.2190\n"
     ]
    }
   ],
   "execution_count": 15
  },
  {
   "metadata": {
    "ExecuteTime": {
     "end_time": "2024-08-21T00:30:47.239867Z",
     "start_time": "2024-08-21T00:30:45.891161Z"
    }
   },
   "cell_type": "code",
   "source": [
    "# Evaluate the model on the test set\n",
    "test_loss, test_auc, test_accuracy = model_lstm.evaluate(X_test, y_test)\n",
    "print(f'Test AUC: {test_auc}')\n",
    "print(f'Test Accuracy: {test_accuracy:.4f}')"
   ],
   "id": "27811dae0ef273ee",
   "outputs": [
    {
     "name": "stdout",
     "output_type": "stream",
     "text": [
      "\u001B[1m76/76\u001B[0m \u001B[32m━━━━━━━━━━━━━━━━━━━━\u001B[0m\u001B[37m\u001B[0m \u001B[1m1s\u001B[0m 17ms/step - AUC: 0.8357 - accuracy: 0.9228 - loss: 0.2527\n",
      "Test AUC: 0.8458768725395203\n",
      "Test Accuracy: 0.9245\n"
     ]
    }
   ],
   "execution_count": 16
  },
  {
   "metadata": {
    "ExecuteTime": {
     "end_time": "2024-08-21T00:30:47.331746Z",
     "start_time": "2024-08-21T00:30:47.240834Z"
    }
   },
   "cell_type": "code",
   "source": [
    "# Plot training & validation AUC values\n",
    "plt.plot(history.history['AUC'])\n",
    "plt.plot(history.history['val_AUC'])\n",
    "plt.title('Model AUC')\n",
    "plt.ylabel('AUC')\n",
    "plt.xlabel('Epoch')\n",
    "plt.legend(['Train', 'Validation'], loc='upper left')\n",
    "plt.show()"
   ],
   "id": "ccf4985c4f0fd8a8",
   "outputs": [
    {
     "data": {
      "text/plain": [
       "<Figure size 640x480 with 1 Axes>"
      ],
      "image/png": "[encoded data removed]"
     },
     "metadata": {},
     "output_type": "display_data"
    }
   ],
   "execution_count": 17
  }
 ],
 "metadata": {
  "kernelspec": {
   "display_name": "Python 3",
   "language": "python",
   "name": "python3"
  },
  "language_info": {
   "codemirror_mode": {
    "name": "ipython",
    "version": 2
   },
   "file_extension": ".py",
   "mimetype": "text/x-python",
   "name": "python",
   "nbconvert_exporter": "python",
   "pygments_lexer": "ipython2",
   "version": "2.7.6"
  }
 },
 "nbformat": 4,
 "nbformat_minor": 5
}
