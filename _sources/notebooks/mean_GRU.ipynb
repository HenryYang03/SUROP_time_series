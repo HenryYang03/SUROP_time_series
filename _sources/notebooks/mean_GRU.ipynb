{
 "cells": [
  {
   "metadata": {},
   "cell_type": "markdown",
   "source": "# GRU Model with Mean Imputation",
   "id": "f81bc87dd74298e9"
  },
  {
   "cell_type": "code",
   "id": "initial_id",
   "metadata": {
    "collapsed": true,
    "ExecuteTime": {
     "end_time": "2024-08-21T00:15:53.294488Z",
     "start_time": "2024-08-21T00:15:50.608385Z"
    }
   },
   "source": [
    "import pandas as pd\n",
    "import numpy as np\n",
    "from tensorflow.keras import Model\n",
    "from tensorflow.keras.layers import GRU, Dense, Input, Dropout, BatchNormalization\n",
    "import matplotlib.pyplot as plt\n",
    "from tensorflow.keras.optimizers import Adam\n",
    "from tensorflow.keras.regularizers import l2\n",
    "from sklearn.model_selection import train_test_split"
   ],
   "outputs": [],
   "execution_count": 1
  },
  {
   "metadata": {
    "ExecuteTime": {
     "end_time": "2024-08-21T00:15:54.036916Z",
     "start_time": "2024-08-21T00:15:53.295976Z"
    }
   },
   "cell_type": "code",
   "source": [
    "# Load the dataset\n",
    "train_x = pd.read_csv('/Users/mohanyang/Documents/GitHub/SUROP_time_series/SUROP/data/train_x.csv')\n",
    "train_y = pd.read_csv('/Users/mohanyang/Documents/GitHub/SUROP_time_series/SUROP/data/train_y.csv')\n",
    "test_x = pd.read_csv('/Users/mohanyang/Documents/GitHub/SUROP_time_series/SUROP/data/test_x.csv')"
   ],
   "id": "11206d8a00b7cdcc",
   "outputs": [],
   "execution_count": 2
  },
  {
   "metadata": {
    "ExecuteTime": {
     "end_time": "2024-08-21T00:15:54.045717Z",
     "start_time": "2024-08-21T00:15:54.038428Z"
    }
   },
   "cell_type": "code",
   "source": [
    "# Display the first few rows\n",
    "print(train_x.head())\n",
    "print(train_x.shape)"
   ],
   "id": "8848f19ab8badcaf",
   "outputs": [
    {
     "name": "stdout",
     "output_type": "stream",
     "text": [
      "   Hour  ID    Age  Gender  Unit1  Unit2     HR   O2Sat   Temp     SBP  ...  \\\n",
      "0     1   2  66.67     1.0    0.0    1.0  74.78  100.06  35.61  121.68  ...   \n",
      "1     2   2  66.67     1.0    0.0    1.0  74.78  100.06  35.61  121.68  ...   \n",
      "2     3   2  66.67     1.0    0.0    1.0  74.78  100.06  35.61  121.68  ...   \n",
      "3     4   2  66.67     1.0    0.0    1.0  74.78  100.06  35.61  121.68  ...   \n",
      "4     5   2  66.67     1.0    0.0    1.0  84.42   99.58  35.61  114.60  ...   \n",
      "\n",
      "   Phosphate  Potassium  Bilirubin_total  TroponinI    Hct   Hgb  PTT   WBC  \\\n",
      "0        NaN       4.48              NaN        NaN  28.83  9.21  NaN  8.15   \n",
      "1        NaN       4.48              NaN        NaN  28.83  9.21  NaN  8.15   \n",
      "2        NaN       4.48              NaN        NaN  28.83  9.21  NaN  8.15   \n",
      "3        NaN       4.48              NaN        NaN  28.83  9.21  NaN  8.15   \n",
      "4        NaN       4.48              NaN        NaN  28.83  9.21  NaN  8.15   \n",
      "\n",
      "   Fibrinogen  Platelets  \n",
      "0         NaN        NaN  \n",
      "1         NaN        NaN  \n",
      "2         NaN        NaN  \n",
      "3         NaN        NaN  \n",
      "4         NaN        NaN  \n",
      "\n",
      "[5 rows x 40 columns]\n",
      "(482010, 40)\n"
     ]
    }
   ],
   "execution_count": 3
  },
  {
   "metadata": {
    "ExecuteTime": {
     "end_time": "2024-08-21T00:15:54.051597Z",
     "start_time": "2024-08-21T00:15:54.048753Z"
    }
   },
   "cell_type": "code",
   "source": [
    "print(train_y.head())\n",
    "print(train_y.shape)"
   ],
   "id": "780add8981ad9955",
   "outputs": [
    {
     "name": "stdout",
     "output_type": "stream",
     "text": [
      "   ID  Outcome\n",
      "0   2        0\n",
      "1   3        0\n",
      "2   5        1\n",
      "3   6        0\n",
      "4  13        0\n",
      "(12115, 2)\n"
     ]
    }
   ],
   "execution_count": 4
  },
  {
   "metadata": {
    "ExecuteTime": {
     "end_time": "2024-08-21T00:15:54.061712Z",
     "start_time": "2024-08-21T00:15:54.053044Z"
    }
   },
   "cell_type": "code",
   "source": [
    "max_hours = train_x.groupby('ID')['Hour'].count().max()\n",
    "print(f'Maximum number of hours: {max_hours}')"
   ],
   "id": "48f42e6abd239289",
   "outputs": [
    {
     "name": "stdout",
     "output_type": "stream",
     "text": [
      "Maximum number of hours: 336\n"
     ]
    }
   ],
   "execution_count": 5
  },
  {
   "metadata": {
    "ExecuteTime": {
     "end_time": "2024-08-21T00:15:54.068868Z",
     "start_time": "2024-08-21T00:15:54.062908Z"
    }
   },
   "cell_type": "code",
   "source": [
    "# Get unique person IDs\n",
    "person_ids = train_x['ID'].unique()\n",
    "\n",
    "# Initialize tensors for features, masks, and time intervals\n",
    "num_persons = len(person_ids)\n",
    "num_features = train_x.shape[1] - 2  # excluding 'ID' and 'Hour' columns"
   ],
   "id": "64be0cb97c0c0bf3",
   "outputs": [],
   "execution_count": 6
  },
  {
   "metadata": {
    "ExecuteTime": {
     "end_time": "2024-08-21T00:15:54.072089Z",
     "start_time": "2024-08-21T00:15:54.069380Z"
    }
   },
   "cell_type": "code",
   "source": "person_ids",
   "id": "4a7175c1c823f814",
   "outputs": [
    {
     "data": {
      "text/plain": [
       "array([    2,     3,     5, ..., 21630, 21632, 21633])"
      ]
     },
     "execution_count": 7,
     "metadata": {},
     "output_type": "execute_result"
    }
   ],
   "execution_count": 7
  },
  {
   "metadata": {
    "ExecuteTime": {
     "end_time": "2024-08-21T00:15:54.074116Z",
     "start_time": "2024-08-21T00:15:54.072627Z"
    }
   },
   "cell_type": "code",
   "source": [
    "#Initialize tensors\n",
    "X_tensor = np.zeros((num_persons, max_hours, num_features+1))"
   ],
   "id": "845478173d527d86",
   "outputs": [],
   "execution_count": 8
  },
  {
   "metadata": {
    "ExecuteTime": {
     "end_time": "2024-08-21T00:15:57.847401Z",
     "start_time": "2024-08-21T00:15:54.074683Z"
    }
   },
   "cell_type": "code",
   "source": [
    "for i, person_id in enumerate(person_ids):\n",
    "    person_data = train_x[train_x['ID'] == person_id].sort_values('Hour')\n",
    "    hours = person_data['Hour'].values\n",
    "    features = person_data.drop(columns=['ID']).values\n",
    "    \n",
    "    # Fill X_tensor\n",
    "    X_tensor[i, :len(hours), :] = features"
   ],
   "id": "bfd4c27fb4e6951a",
   "outputs": [],
   "execution_count": 9
  },
  {
   "metadata": {
    "ExecuteTime": {
     "end_time": "2024-08-21T00:15:57.851976Z",
     "start_time": "2024-08-21T00:15:57.849255Z"
    }
   },
   "cell_type": "code",
   "source": "X_tensor",
   "id": "cb9e167e59aed66a",
   "outputs": [
    {
     "data": {
      "text/plain": [
       "array([[[  1.  ,  66.67,   1.  , ...,   8.15,    nan,    nan],\n",
       "        [  2.  ,  66.67,   1.  , ...,   8.15,    nan,    nan],\n",
       "        [  3.  ,  66.67,   1.  , ...,   8.15,    nan,    nan],\n",
       "        ...,\n",
       "        [  0.  ,   0.  ,   0.  , ...,   0.  ,   0.  ,   0.  ],\n",
       "        [  0.  ,   0.  ,   0.  , ...,   0.  ,   0.  ,   0.  ],\n",
       "        [  0.  ,   0.  ,   0.  , ...,   0.  ,   0.  ,   0.  ]],\n",
       "\n",
       "       [[  1.  ,  79.74,   0.  , ...,   6.82, 267.01, 281.18],\n",
       "        [  2.  ,  79.74,   0.  , ...,   6.82, 267.01, 281.18],\n",
       "        [  3.  ,  79.74,   0.  , ...,   6.82, 267.01, 281.18],\n",
       "        ...,\n",
       "        [  0.  ,   0.  ,   0.  , ...,   0.  ,   0.  ,   0.  ],\n",
       "        [  0.  ,   0.  ,   0.  , ...,   0.  ,   0.  ,   0.  ],\n",
       "        [  0.  ,   0.  ,   0.  , ...,   0.  ,   0.  ,   0.  ]],\n",
       "\n",
       "       [[  1.  ,  60.74,   1.  , ...,  12.45,    nan,  84.77],\n",
       "        [  2.  ,  60.74,   1.  , ...,  12.45,    nan,  84.77],\n",
       "        [  3.  ,  60.74,   1.  , ...,  12.45,    nan,  84.77],\n",
       "        ...,\n",
       "        [  0.  ,   0.  ,   0.  , ...,   0.  ,   0.  ,   0.  ],\n",
       "        [  0.  ,   0.  ,   0.  , ...,   0.  ,   0.  ,   0.  ],\n",
       "        [  0.  ,   0.  ,   0.  , ...,   0.  ,   0.  ,   0.  ]],\n",
       "\n",
       "       ...,\n",
       "\n",
       "       [[  1.  ,  65.41,   1.  , ...,  21.87,    nan, 303.89],\n",
       "        [  2.  ,  65.41,   1.  , ...,  21.87,    nan, 303.89],\n",
       "        [  3.  ,  65.41,   1.  , ...,  21.87,    nan, 303.89],\n",
       "        ...,\n",
       "        [  0.  ,   0.  ,   0.  , ...,   0.  ,   0.  ,   0.  ],\n",
       "        [  0.  ,   0.  ,   0.  , ...,   0.  ,   0.  ,   0.  ],\n",
       "        [  0.  ,   0.  ,   0.  , ...,   0.  ,   0.  ,   0.  ]],\n",
       "\n",
       "       [[  1.  ,  58.61,   1.  , ...,  45.9 ,    nan, 302.32],\n",
       "        [  2.  ,  58.61,   1.  , ...,  45.9 ,    nan, 302.32],\n",
       "        [  3.  ,  58.61,   1.  , ...,  45.9 ,    nan, 302.32],\n",
       "        ...,\n",
       "        [  0.  ,   0.  ,   0.  , ...,   0.  ,   0.  ,   0.  ],\n",
       "        [  0.  ,   0.  ,   0.  , ...,   0.  ,   0.  ,   0.  ],\n",
       "        [  0.  ,   0.  ,   0.  , ...,   0.  ,   0.  ,   0.  ]],\n",
       "\n",
       "       [[  1.  ,  58.58,   1.  , ...,  17.02,    nan, 167.  ],\n",
       "        [  2.  ,  58.58,   1.  , ...,  17.02,    nan, 167.  ],\n",
       "        [  3.  ,  58.58,   1.  , ...,  17.02,    nan, 167.  ],\n",
       "        ...,\n",
       "        [  0.  ,   0.  ,   0.  , ...,   0.  ,   0.  ,   0.  ],\n",
       "        [  0.  ,   0.  ,   0.  , ...,   0.  ,   0.  ,   0.  ],\n",
       "        [  0.  ,   0.  ,   0.  , ...,   0.  ,   0.  ,   0.  ]]])"
      ]
     },
     "execution_count": 10,
     "metadata": {},
     "output_type": "execute_result"
    }
   ],
   "execution_count": 10
  },
  {
   "metadata": {
    "ExecuteTime": {
     "end_time": "2024-08-21T00:15:57.854290Z",
     "start_time": "2024-08-21T00:15:57.852648Z"
    }
   },
   "cell_type": "code",
   "source": "print(X_tensor.shape)",
   "id": "91fa8ed6cceb3e8c",
   "outputs": [
    {
     "name": "stdout",
     "output_type": "stream",
     "text": [
      "(12115, 336, 39)\n"
     ]
    }
   ],
   "execution_count": 11
  },
  {
   "metadata": {
    "ExecuteTime": {
     "end_time": "2024-08-21T00:15:58.676590Z",
     "start_time": "2024-08-21T00:15:57.854833Z"
    }
   },
   "cell_type": "code",
   "source": [
    "# Ensure train_y is aligned with X_tensor\n",
    "labels = np.zeros(len(person_ids))\n",
    "\n",
    "for i, person_id in enumerate(person_ids):\n",
    "    if person_id in train_y['ID'].values:\n",
    "        labels[i] = train_y[train_y['ID'] == person_id]['Outcome'].values[0]\n",
    "\n",
    "print(labels.shape)"
   ],
   "id": "41512dbd553e7a9c",
   "outputs": [
    {
     "name": "stdout",
     "output_type": "stream",
     "text": [
      "(12115,)\n"
     ]
    }
   ],
   "execution_count": 12
  },
  {
   "metadata": {
    "ExecuteTime": {
     "end_time": "2024-08-21T00:15:59.160827Z",
     "start_time": "2024-08-21T00:15:58.677224Z"
    }
   },
   "cell_type": "code",
   "source": [
    "# Split the data into training and test sets\n",
    "X_train, X_test, y_train, y_test = train_test_split(\n",
    "    X_tensor, labels, test_size=0.2, random_state=10\n",
    ")"
   ],
   "id": "aa7a4b86aa34fa65",
   "outputs": [],
   "execution_count": 13
  },
  {
   "metadata": {
    "ExecuteTime": {
     "end_time": "2024-08-21T00:15:59.166089Z",
     "start_time": "2024-08-21T00:15:59.162091Z"
    }
   },
   "cell_type": "code",
   "source": [
    "def mean_imputation(data):\n",
    "    # Calculate the mean for each feature, ignoring NaNs\n",
    "    means = np.nanmean(data, axis=0)\n",
    "    \n",
    "    # Replace NaNs with the corresponding feature means\n",
    "    indices = np.where(np.isnan(data))\n",
    "    data[indices] = np.take(means, indices[1])\n",
    "    \n",
    "    return data"
   ],
   "id": "483264b001032c60",
   "outputs": [],
   "execution_count": 14
  },
  {
   "metadata": {
    "ExecuteTime": {
     "end_time": "2024-08-21T00:16:00.655639Z",
     "start_time": "2024-08-21T00:15:59.166671Z"
    }
   },
   "cell_type": "code",
   "source": [
    "# Replace NaNs with each feature's mean in X_train\n",
    "X_train_mean_imputed = mean_imputation(X_train)"
   ],
   "id": "6bd73a5015987496",
   "outputs": [],
   "execution_count": 15
  },
  {
   "metadata": {
    "ExecuteTime": {
     "end_time": "2024-08-21T00:16:00.660154Z",
     "start_time": "2024-08-21T00:16:00.657032Z"
    }
   },
   "cell_type": "code",
   "source": [
    "def create_gru_model(input_shape, learning_rate=0.001, dropout_rate=0.2, regularization_factor=0.001):\n",
    "    x_input = Input(shape=input_shape)\n",
    "    \n",
    "    # GRU layers with dropout, batch normalization, and regularization\n",
    "    gru_output = GRU(units=64, return_sequences=False, kernel_regularizer=l2(regularization_factor))(x_input)\n",
    "    gru_output = BatchNormalization()(gru_output)\n",
    "    gru_output = Dropout(dropout_rate)(gru_output)\n",
    "    \n",
    "    # Output layer\n",
    "    output = Dense(1, activation='sigmoid', kernel_regularizer=l2(regularization_factor))(gru_output)\n",
    "    \n",
    "    # Create model\n",
    "    model = Model(inputs=x_input, outputs=output)\n",
    "    \n",
    "    # Create an Adam optimizer with a custom learning rate\n",
    "    optimizer = Adam(learning_rate=learning_rate)\n",
    "    \n",
    "    # Compile the model with the custom optimizer\n",
    "    model.compile(optimizer=optimizer, loss='binary_crossentropy', metrics=['AUC', 'accuracy'])\n",
    "    \n",
    "    return model"
   ],
   "id": "2bfb383c98669ac7",
   "outputs": [],
   "execution_count": 16
  },
  {
   "metadata": {
    "ExecuteTime": {
     "end_time": "2024-08-21T00:32:31.955325Z",
     "start_time": "2024-08-21T00:16:00.660781Z"
    }
   },
   "cell_type": "code",
   "source": [
    "input_shape = (max_hours, num_features+1)\n",
    "model_gru_mean = create_gru_model(input_shape)\n",
    "\n",
    "history = model_gru_mean.fit(X_train_mean_imputed, y_train, epochs=50, batch_size=16, validation_split=0.2)"
   ],
   "id": "f4835b82f9e12bed",
   "outputs": [
    {
     "name": "stdout",
     "output_type": "stream",
     "text": [
      "Epoch 1/50\n",
      "\u001B[1m485/485\u001B[0m \u001B[32m━━━━━━━━━━━━━━━━━━━━\u001B[0m\u001B[37m\u001B[0m \u001B[1m20s\u001B[0m 39ms/step - AUC: 0.5004 - accuracy: 0.8679 - loss: 0.4988 - val_AUC: 0.5015 - val_accuracy: 0.8566 - val_loss: 0.4483\n",
      "Epoch 2/50\n",
      "\u001B[1m485/485\u001B[0m \u001B[32m━━━━━━━━━━━━━━━━━━━━\u001B[0m\u001B[37m\u001B[0m \u001B[1m19s\u001B[0m 39ms/step - AUC: 0.4792 - accuracy: 0.8640 - loss: 0.4054 - val_AUC: 0.4985 - val_accuracy: 0.1429 - val_loss: 1.0242\n",
      "Epoch 3/50\n",
      "\u001B[1m485/485\u001B[0m \u001B[32m━━━━━━━━━━━━━━━━━━━━\u001B[0m\u001B[37m\u001B[0m \u001B[1m19s\u001B[0m 39ms/step - AUC: 0.5294 - accuracy: 0.8700 - loss: 0.3910 - val_AUC: 0.5021 - val_accuracy: 0.8571 - val_loss: 0.5031\n",
      "Epoch 4/50\n",
      "\u001B[1m485/485\u001B[0m \u001B[32m━━━━━━━━━━━━━━━━━━━━\u001B[0m\u001B[37m\u001B[0m \u001B[1m18s\u001B[0m 38ms/step - AUC: 0.4840 - accuracy: 0.8641 - loss: 0.4030 - val_AUC: 0.5021 - val_accuracy: 0.8571 - val_loss: 0.4254\n",
      "Epoch 5/50\n",
      "\u001B[1m485/485\u001B[0m \u001B[32m━━━━━━━━━━━━━━━━━━━━\u001B[0m\u001B[37m\u001B[0m \u001B[1m19s\u001B[0m 39ms/step - AUC: 0.4864 - accuracy: 0.8711 - loss: 0.3900 - val_AUC: 0.5003 - val_accuracy: 0.8571 - val_loss: 0.4137\n",
      "Epoch 6/50\n",
      "\u001B[1m485/485\u001B[0m \u001B[32m━━━━━━━━━━━━━━━━━━━━\u001B[0m\u001B[37m\u001B[0m \u001B[1m19s\u001B[0m 39ms/step - AUC: 0.4919 - accuracy: 0.8661 - loss: 0.3986 - val_AUC: 0.5021 - val_accuracy: 0.8571 - val_loss: 0.4133\n",
      "Epoch 7/50\n",
      "\u001B[1m485/485\u001B[0m \u001B[32m━━━━━━━━━━━━━━━━━━━━\u001B[0m\u001B[37m\u001B[0m \u001B[1m19s\u001B[0m 39ms/step - AUC: 0.5047 - accuracy: 0.8666 - loss: 0.3965 - val_AUC: 0.5021 - val_accuracy: 0.8571 - val_loss: 0.4487\n",
      "Epoch 8/50\n",
      "\u001B[1m485/485\u001B[0m \u001B[32m━━━━━━━━━━━━━━━━━━━━\u001B[0m\u001B[37m\u001B[0m \u001B[1m19s\u001B[0m 40ms/step - AUC: 0.4828 - accuracy: 0.8588 - loss: 0.4119 - val_AUC: 0.5021 - val_accuracy: 0.8571 - val_loss: 0.4133\n",
      "Epoch 9/50\n",
      "\u001B[1m485/485\u001B[0m \u001B[32m━━━━━━━━━━━━━━━━━━━━\u001B[0m\u001B[37m\u001B[0m \u001B[1m19s\u001B[0m 39ms/step - AUC: 0.4822 - accuracy: 0.8646 - loss: 0.4010 - val_AUC: 0.5021 - val_accuracy: 0.8571 - val_loss: 0.4138\n",
      "Epoch 10/50\n",
      "\u001B[1m485/485\u001B[0m \u001B[32m━━━━━━━━━━━━━━━━━━━━\u001B[0m\u001B[37m\u001B[0m \u001B[1m18s\u001B[0m 38ms/step - AUC: 0.5183 - accuracy: 0.8642 - loss: 0.3995 - val_AUC: 0.5021 - val_accuracy: 0.8571 - val_loss: 0.4224\n",
      "Epoch 11/50\n",
      "\u001B[1m485/485\u001B[0m \u001B[32m━━━━━━━━━━━━━━━━━━━━\u001B[0m\u001B[37m\u001B[0m \u001B[1m19s\u001B[0m 39ms/step - AUC: 0.5066 - accuracy: 0.8749 - loss: 0.3799 - val_AUC: 0.5021 - val_accuracy: 0.8571 - val_loss: 0.4320\n",
      "Epoch 12/50\n",
      "\u001B[1m485/485\u001B[0m \u001B[32m━━━━━━━━━━━━━━━━━━━━\u001B[0m\u001B[37m\u001B[0m \u001B[1m19s\u001B[0m 40ms/step - AUC: 0.4940 - accuracy: 0.8667 - loss: 0.3961 - val_AUC: 0.5021 - val_accuracy: 0.8577 - val_loss: 0.4176\n",
      "Epoch 13/50\n",
      "\u001B[1m485/485\u001B[0m \u001B[32m━━━━━━━━━━━━━━━━━━━━\u001B[0m\u001B[37m\u001B[0m \u001B[1m19s\u001B[0m 39ms/step - AUC: 0.5092 - accuracy: 0.8633 - loss: 0.4011 - val_AUC: 0.4985 - val_accuracy: 0.8571 - val_loss: 0.4172\n",
      "Epoch 14/50\n",
      "\u001B[1m485/485\u001B[0m \u001B[32m━━━━━━━━━━━━━━━━━━━━\u001B[0m\u001B[37m\u001B[0m \u001B[1m19s\u001B[0m 39ms/step - AUC: 0.4712 - accuracy: 0.8698 - loss: 0.3914 - val_AUC: 0.5021 - val_accuracy: 0.8571 - val_loss: 0.4287\n",
      "Epoch 15/50\n",
      "\u001B[1m485/485\u001B[0m \u001B[32m━━━━━━━━━━━━━━━━━━━━\u001B[0m\u001B[37m\u001B[0m \u001B[1m19s\u001B[0m 39ms/step - AUC: 0.4944 - accuracy: 0.8666 - loss: 0.3958 - val_AUC: 0.5021 - val_accuracy: 0.8571 - val_loss: 0.4113\n",
      "Epoch 16/50\n",
      "\u001B[1m485/485\u001B[0m \u001B[32m━━━━━━━━━━━━━━━━━━━━\u001B[0m\u001B[37m\u001B[0m \u001B[1m18s\u001B[0m 38ms/step - AUC: 0.4965 - accuracy: 0.8679 - loss: 0.3926 - val_AUC: 0.5015 - val_accuracy: 0.8566 - val_loss: 0.4391\n",
      "Epoch 17/50\n",
      "\u001B[1m485/485\u001B[0m \u001B[32m━━━━━━━━━━━━━━━━━━━━\u001B[0m\u001B[37m\u001B[0m \u001B[1m18s\u001B[0m 38ms/step - AUC: 0.4986 - accuracy: 0.8644 - loss: 0.3995 - val_AUC: 0.5018 - val_accuracy: 0.8577 - val_loss: 1.0611\n",
      "Epoch 18/50\n",
      "\u001B[1m485/485\u001B[0m \u001B[32m━━━━━━━━━━━━━━━━━━━━\u001B[0m\u001B[37m\u001B[0m \u001B[1m18s\u001B[0m 37ms/step - AUC: 0.5597 - accuracy: 0.8618 - loss: 0.3979 - val_AUC: 0.6653 - val_accuracy: 0.8654 - val_loss: 0.4007\n",
      "Epoch 19/50\n",
      "\u001B[1m485/485\u001B[0m \u001B[32m━━━━━━━━━━━━━━━━━━━━\u001B[0m\u001B[37m\u001B[0m \u001B[1m18s\u001B[0m 37ms/step - AUC: 0.6500 - accuracy: 0.8785 - loss: 0.3550 - val_AUC: 0.6833 - val_accuracy: 0.1434 - val_loss: 3.1483\n",
      "Epoch 20/50\n",
      "\u001B[1m485/485\u001B[0m \u001B[32m━━━━━━━━━━━━━━━━━━━━\u001B[0m\u001B[37m\u001B[0m \u001B[1m19s\u001B[0m 38ms/step - AUC: 0.6382 - accuracy: 0.8766 - loss: 0.3684 - val_AUC: 0.5806 - val_accuracy: 0.8597 - val_loss: 0.8151\n",
      "Epoch 21/50\n",
      "\u001B[1m485/485\u001B[0m \u001B[32m━━━━━━━━━━━━━━━━━━━━\u001B[0m\u001B[37m\u001B[0m \u001B[1m19s\u001B[0m 39ms/step - AUC: 0.7354 - accuracy: 0.8782 - loss: 0.3474 - val_AUC: 0.8501 - val_accuracy: 0.8773 - val_loss: 0.3533\n",
      "Epoch 22/50\n",
      "\u001B[1m485/485\u001B[0m \u001B[32m━━━━━━━━━━━━━━━━━━━━\u001B[0m\u001B[37m\u001B[0m \u001B[1m19s\u001B[0m 40ms/step - AUC: 0.8293 - accuracy: 0.8949 - loss: 0.2961 - val_AUC: 0.8109 - val_accuracy: 0.8932 - val_loss: 0.3529\n",
      "Epoch 23/50\n",
      "\u001B[1m485/485\u001B[0m \u001B[32m━━━━━━━━━━━━━━━━━━━━\u001B[0m\u001B[37m\u001B[0m \u001B[1m20s\u001B[0m 40ms/step - AUC: 0.8159 - accuracy: 0.8963 - loss: 0.2857 - val_AUC: 0.8398 - val_accuracy: 0.9005 - val_loss: 0.3268\n",
      "Epoch 24/50\n",
      "\u001B[1m485/485\u001B[0m \u001B[32m━━━━━━━━━━━━━━━━━━━━\u001B[0m\u001B[37m\u001B[0m \u001B[1m19s\u001B[0m 39ms/step - AUC: 0.7990 - accuracy: 0.9107 - loss: 0.2894 - val_AUC: 0.7022 - val_accuracy: 0.8659 - val_loss: 0.8475\n",
      "Epoch 25/50\n",
      "\u001B[1m485/485\u001B[0m \u001B[32m━━━━━━━━━━━━━━━━━━━━\u001B[0m\u001B[37m\u001B[0m \u001B[1m19s\u001B[0m 38ms/step - AUC: 0.8199 - accuracy: 0.8935 - loss: 0.3040 - val_AUC: 0.8442 - val_accuracy: 0.9221 - val_loss: 0.2780\n",
      "Epoch 26/50\n",
      "\u001B[1m485/485\u001B[0m \u001B[32m━━━━━━━━━━━━━━━━━━━━\u001B[0m\u001B[37m\u001B[0m \u001B[1m18s\u001B[0m 38ms/step - AUC: 0.8122 - accuracy: 0.9103 - loss: 0.2771 - val_AUC: 0.7486 - val_accuracy: 0.8680 - val_loss: 0.6513\n",
      "Epoch 27/50\n",
      "\u001B[1m485/485\u001B[0m \u001B[32m━━━━━━━━━━━━━━━━━━━━\u001B[0m\u001B[37m\u001B[0m \u001B[1m19s\u001B[0m 38ms/step - AUC: 0.8247 - accuracy: 0.8999 - loss: 0.2966 - val_AUC: 0.8523 - val_accuracy: 0.9309 - val_loss: 0.3050\n",
      "Epoch 28/50\n",
      "\u001B[1m485/485\u001B[0m \u001B[32m━━━━━━━━━━━━━━━━━━━━\u001B[0m\u001B[37m\u001B[0m \u001B[1m18s\u001B[0m 38ms/step - AUC: 0.8421 - accuracy: 0.9082 - loss: 0.2782 - val_AUC: 0.8649 - val_accuracy: 0.9128 - val_loss: 0.3334\n",
      "Epoch 29/50\n",
      "\u001B[1m485/485\u001B[0m \u001B[32m━━━━━━━━━━━━━━━━━━━━\u001B[0m\u001B[37m\u001B[0m \u001B[1m19s\u001B[0m 38ms/step - AUC: 0.8327 - accuracy: 0.9071 - loss: 0.2758 - val_AUC: 0.8479 - val_accuracy: 0.6349 - val_loss: 0.7917\n",
      "Epoch 30/50\n",
      "\u001B[1m485/485\u001B[0m \u001B[32m━━━━━━━━━━━━━━━━━━━━\u001B[0m\u001B[37m\u001B[0m \u001B[1m19s\u001B[0m 38ms/step - AUC: 0.8371 - accuracy: 0.9080 - loss: 0.2738 - val_AUC: 0.5680 - val_accuracy: 0.8597 - val_loss: 1.0876\n",
      "Epoch 31/50\n",
      "\u001B[1m485/485\u001B[0m \u001B[32m━━━━━━━━━━━━━━━━━━━━\u001B[0m\u001B[37m\u001B[0m \u001B[1m19s\u001B[0m 39ms/step - AUC: 0.8182 - accuracy: 0.9103 - loss: 0.2816 - val_AUC: 0.8706 - val_accuracy: 0.8788 - val_loss: 0.3616\n",
      "Epoch 32/50\n",
      "\u001B[1m485/485\u001B[0m \u001B[32m━━━━━━━━━━━━━━━━━━━━\u001B[0m\u001B[37m\u001B[0m \u001B[1m20s\u001B[0m 41ms/step - AUC: 0.8287 - accuracy: 0.9095 - loss: 0.2774 - val_AUC: 0.7919 - val_accuracy: 0.1434 - val_loss: 4.3136\n",
      "Epoch 33/50\n",
      "\u001B[1m485/485\u001B[0m \u001B[32m━━━━━━━━━━━━━━━━━━━━\u001B[0m\u001B[37m\u001B[0m \u001B[1m19s\u001B[0m 39ms/step - AUC: 0.8284 - accuracy: 0.9036 - loss: 0.2879 - val_AUC: 0.8584 - val_accuracy: 0.9097 - val_loss: 0.2744\n",
      "Epoch 34/50\n",
      "\u001B[1m485/485\u001B[0m \u001B[32m━━━━━━━━━━━━━━━━━━━━\u001B[0m\u001B[37m\u001B[0m \u001B[1m19s\u001B[0m 38ms/step - AUC: 0.8387 - accuracy: 0.9013 - loss: 0.2868 - val_AUC: 0.7113 - val_accuracy: 0.8659 - val_loss: 0.8582\n",
      "Epoch 35/50\n",
      "\u001B[1m485/485\u001B[0m \u001B[32m━━━━━━━━━━━━━━━━━━━━\u001B[0m\u001B[37m\u001B[0m \u001B[1m19s\u001B[0m 40ms/step - AUC: 0.8351 - accuracy: 0.9128 - loss: 0.2710 - val_AUC: 0.8402 - val_accuracy: 0.9030 - val_loss: 0.2910\n",
      "Epoch 36/50\n",
      "\u001B[1m485/485\u001B[0m \u001B[32m━━━━━━━━━━━━━━━━━━━━\u001B[0m\u001B[37m\u001B[0m \u001B[1m23s\u001B[0m 47ms/step - AUC: 0.8191 - accuracy: 0.9115 - loss: 0.2848 - val_AUC: 0.8200 - val_accuracy: 0.8757 - val_loss: 0.5241\n",
      "Epoch 37/50\n",
      "\u001B[1m485/485\u001B[0m \u001B[32m━━━━━━━━━━━━━━━━━━━━\u001B[0m\u001B[37m\u001B[0m \u001B[1m22s\u001B[0m 46ms/step - AUC: 0.8388 - accuracy: 0.9107 - loss: 0.2715 - val_AUC: 0.8259 - val_accuracy: 0.6065 - val_loss: 0.7061\n",
      "Epoch 38/50\n",
      "\u001B[1m485/485\u001B[0m \u001B[32m━━━━━━━━━━━━━━━━━━━━\u001B[0m\u001B[37m\u001B[0m \u001B[1m22s\u001B[0m 46ms/step - AUC: 0.8377 - accuracy: 0.9115 - loss: 0.2757 - val_AUC: 0.8518 - val_accuracy: 0.9025 - val_loss: 0.3316\n",
      "Epoch 39/50\n",
      "\u001B[1m485/485\u001B[0m \u001B[32m━━━━━━━━━━━━━━━━━━━━\u001B[0m\u001B[37m\u001B[0m \u001B[1m23s\u001B[0m 47ms/step - AUC: 0.8452 - accuracy: 0.9138 - loss: 0.2604 - val_AUC: 0.8636 - val_accuracy: 0.8731 - val_loss: 0.4484\n",
      "Epoch 40/50\n",
      "\u001B[1m485/485\u001B[0m \u001B[32m━━━━━━━━━━━━━━━━━━━━\u001B[0m\u001B[37m\u001B[0m \u001B[1m22s\u001B[0m 46ms/step - AUC: 0.8272 - accuracy: 0.9027 - loss: 0.2739 - val_AUC: 0.8590 - val_accuracy: 0.9077 - val_loss: 0.2960\n",
      "Epoch 41/50\n",
      "\u001B[1m485/485\u001B[0m \u001B[32m━━━━━━━━━━━━━━━━━━━━\u001B[0m\u001B[37m\u001B[0m \u001B[1m22s\u001B[0m 46ms/step - AUC: 0.8537 - accuracy: 0.9184 - loss: 0.2623 - val_AUC: 0.8312 - val_accuracy: 0.9319 - val_loss: 0.2903\n",
      "Epoch 42/50\n",
      "\u001B[1m485/485\u001B[0m \u001B[32m━━━━━━━━━━━━━━━━━━━━\u001B[0m\u001B[37m\u001B[0m \u001B[1m22s\u001B[0m 46ms/step - AUC: 0.8504 - accuracy: 0.9118 - loss: 0.2664 - val_AUC: 0.8676 - val_accuracy: 0.9041 - val_loss: 0.3250\n",
      "Epoch 43/50\n",
      "\u001B[1m485/485\u001B[0m \u001B[32m━━━━━━━━━━━━━━━━━━━━\u001B[0m\u001B[37m\u001B[0m \u001B[1m22s\u001B[0m 46ms/step - AUC: 0.8400 - accuracy: 0.9185 - loss: 0.2607 - val_AUC: 0.8699 - val_accuracy: 0.8582 - val_loss: 0.2999\n",
      "Epoch 44/50\n",
      "\u001B[1m485/485\u001B[0m \u001B[32m━━━━━━━━━━━━━━━━━━━━\u001B[0m\u001B[37m\u001B[0m \u001B[1m22s\u001B[0m 46ms/step - AUC: 0.8434 - accuracy: 0.9079 - loss: 0.2741 - val_AUC: 0.8517 - val_accuracy: 0.2960 - val_loss: 0.9646\n",
      "Epoch 45/50\n",
      "\u001B[1m485/485\u001B[0m \u001B[32m━━━━━━━━━━━━━━━━━━━━\u001B[0m\u001B[37m\u001B[0m \u001B[1m22s\u001B[0m 45ms/step - AUC: 0.8513 - accuracy: 0.9215 - loss: 0.2549 - val_AUC: 0.8189 - val_accuracy: 0.2960 - val_loss: 0.9818\n",
      "Epoch 46/50\n",
      "\u001B[1m485/485\u001B[0m \u001B[32m━━━━━━━━━━━━━━━━━━━━\u001B[0m\u001B[37m\u001B[0m \u001B[1m22s\u001B[0m 45ms/step - AUC: 0.8342 - accuracy: 0.9178 - loss: 0.2716 - val_AUC: 0.8757 - val_accuracy: 0.2300 - val_loss: 1.1493\n",
      "Epoch 47/50\n",
      "\u001B[1m485/485\u001B[0m \u001B[32m━━━━━━━━━━━━━━━━━━━━\u001B[0m\u001B[37m\u001B[0m \u001B[1m22s\u001B[0m 45ms/step - AUC: 0.8700 - accuracy: 0.9201 - loss: 0.2474 - val_AUC: 0.8705 - val_accuracy: 0.9211 - val_loss: 0.2637\n",
      "Epoch 48/50\n",
      "\u001B[1m485/485\u001B[0m \u001B[32m━━━━━━━━━━━━━━━━━━━━\u001B[0m\u001B[37m\u001B[0m \u001B[1m21s\u001B[0m 44ms/step - AUC: 0.8717 - accuracy: 0.9285 - loss: 0.2387 - val_AUC: 0.8686 - val_accuracy: 0.9216 - val_loss: 0.2560\n",
      "Epoch 49/50\n",
      "\u001B[1m485/485\u001B[0m \u001B[32m━━━━━━━━━━━━━━━━━━━━\u001B[0m\u001B[37m\u001B[0m \u001B[1m21s\u001B[0m 44ms/step - AUC: 0.8485 - accuracy: 0.9203 - loss: 0.2577 - val_AUC: 0.8662 - val_accuracy: 0.9067 - val_loss: 0.3737\n",
      "Epoch 50/50\n",
      "\u001B[1m485/485\u001B[0m \u001B[32m━━━━━━━━━━━━━━━━━━━━\u001B[0m\u001B[37m\u001B[0m \u001B[1m21s\u001B[0m 44ms/step - AUC: 0.8437 - accuracy: 0.9140 - loss: 0.2729 - val_AUC: 0.8760 - val_accuracy: 0.8907 - val_loss: 0.3742\n"
     ]
    }
   ],
   "execution_count": 17
  },
  {
   "metadata": {
    "ExecuteTime": {
     "end_time": "2024-08-21T00:36:02.178990Z",
     "start_time": "2024-08-21T00:36:00.759559Z"
    }
   },
   "cell_type": "code",
   "source": [
    "# Evaluate the model on the test set\n",
    "X_test_filled = np.nan_to_num(X_test)\n",
    "test_loss, test_auc, test_accuracy = model_gru_mean.evaluate(X_test_filled, y_test)\n",
    "print(f'Test AUC: {test_auc}')\n",
    "print(f'Test Accuracy: {test_accuracy:.4f}')"
   ],
   "id": "27811dae0ef273ee",
   "outputs": [
    {
     "name": "stdout",
     "output_type": "stream",
     "text": [
      "\u001B[1m76/76\u001B[0m \u001B[32m━━━━━━━━━━━━━━━━━━━━\u001B[0m\u001B[37m\u001B[0m \u001B[1m1s\u001B[0m 15ms/step - AUC: 0.6332 - accuracy: 0.8019 - loss: 0.5856\n",
      "Test AUC: 0.6587880253791809\n",
      "Test Accuracy: 0.8040\n"
     ]
    }
   ],
   "execution_count": 20
  },
  {
   "metadata": {
    "ExecuteTime": {
     "end_time": "2024-08-21T00:36:04.733794Z",
     "start_time": "2024-08-21T00:36:04.659293Z"
    }
   },
   "cell_type": "code",
   "source": [
    "# Plot training & validation AUC values\n",
    "plt.plot(history.history['AUC'])\n",
    "plt.plot(history.history['val_AUC'])\n",
    "plt.title('Model AUC')\n",
    "plt.ylabel('AUC')\n",
    "plt.xlabel('Epoch')\n",
    "plt.legend(['Train', 'Validation'], loc='upper left')\n",
    "plt.show()"
   ],
   "id": "ccf4985c4f0fd8a8",
   "outputs": [
    {
     "data": {
      "text/plain": [
       "<Figure size 640x480 with 1 Axes>"
      ],
      "image/png": "[encoded data removed]"
     },
     "metadata": {},
     "output_type": "display_data"
    }
   ],
   "execution_count": 21
  }
 ],
 "metadata": {
  "kernelspec": {
   "display_name": "Python 3",
   "language": "python",
   "name": "python3"
  },
  "language_info": {
   "codemirror_mode": {
    "name": "ipython",
    "version": 2
   },
   "file_extension": ".py",
   "mimetype": "text/x-python",
   "name": "python",
   "nbconvert_exporter": "python",
   "pygments_lexer": "ipython2",
   "version": "2.7.6"
  }
 },
 "nbformat": 4,
 "nbformat_minor": 5
}
